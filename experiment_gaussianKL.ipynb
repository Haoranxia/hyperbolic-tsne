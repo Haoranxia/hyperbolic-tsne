{
 "cells": [
  {
   "cell_type": "code",
   "execution_count": 12,
   "metadata": {},
   "outputs": [
    {
     "name": "stdout",
     "output_type": "stream",
     "text": [
      "The autoreload extension is already loaded. To reload it, use:\n",
      "  %reload_ext autoreload\n"
     ]
    }
   ],
   "source": [
    "%load_ext autoreload\n",
    "%autoreload 2"
   ]
  },
  {
   "cell_type": "code",
   "execution_count": 13,
   "metadata": {},
   "outputs": [],
   "source": [
    "import os\n",
    "from pathlib import Path \n",
    "import traceback\n",
    "import numpy as np\n",
    "from numpy import linalg as LA\n",
    "from matplotlib import pyplot as plt\n",
    "\n",
    "from hyperbolicTSNE import Datasets\n",
    "from hyperbolicTSNE import Datasets, SequentialOptimizer, initialization, HyperbolicTSNE\n",
    "from hyperbolicTSNE.cost_functions_ import HyperbolicKL, GaussianKL\n",
    "from hyperbolicTSNE.util import find_last_embedding, opt_config, initialize_logger, write_data, store_visuals\n",
    "from hyperbolicTSNE.data_loaders import load_mnist\n",
    "from hyperbolicTSNE.hd_mat_ import hd_matrix\n",
    "from hyperbolicTSNE.visualization import animate, plot_poincare"
   ]
  },
  {
   "cell_type": "code",
   "execution_count": 17,
   "metadata": {},
   "outputs": [],
   "source": [
    "data_home = \"datasets\"\n",
    "log_path = \"temp/poincare/\"  # path for saving embedding snapshots\n",
    "grad_path = \"temp/grad/\"     # NOTE: We will manually calculate the gradients\n",
    "\n",
    "seed = 42\n",
    "\n",
    "# General settings \n",
    "dataset = Datasets.MNIST\n",
    "num_points = [-1]\n",
    "perplexities = [50]\n",
    "correct_gradient = True                          # NOTE: Recompile with correct flag (GRAD_FIX flag)\n",
    "exact = True                                     # Exact computation or BH estimation of gradient\n",
    "pca_components = 0                               # Whether to use pca initialization of high dim. data or not\n",
    "grad_scale_fix = True                            # Whether we multiply the gradient by the inverse metric tensor of hyperbolic space or not\n",
    "                                                 # Note that the correct hyperoblic gradient has an inverse metric tensor factor\n",
    "var = 1                                          # Variance for lower dim. gaussian distribution (NOTE: How to decide on var?)\n",
    "\n",
    "# Simple experiment with no exaggeration\n",
    "exaggeration_factor = 12\n",
    "ex_iterations = 0\n",
    "main_iterations = 1000"
   ]
  },
  {
   "cell_type": "code",
   "execution_count": 18,
   "metadata": {},
   "outputs": [
    {
     "name": "stdout",
     "output_type": "stream",
     "text": [
      "Please note that `empty_sequence` uses the KL divergence with Barnes-Hut approximation (angle=0.5) by default.\n",
      "config: {'cf': <class 'hyperbolicTSNE.cost_functions_.GaussianKL'>, 'learning_rate_ex': 0.0008333333333333334, 'learning_rate_main': 0.0008333333333333334, 'exaggeration': 12, 'exaggeration_its': 0, 'gradientDescent_its': 1000, 'vanilla': False, 'momentum_ex': 0.5, 'momentum': 0.8, 'exact': True, 'area_split': False, 'n_iter_check': 10, 'size_tol': 0.999, 'grad_scale_fix': True, 'grad_fix': True}\n"
     ]
    }
   ],
   "source": [
    "# Compute initial embedding in Poincare disk (PCA embedding)\n",
    "cf = GaussianKL\n",
    "X_embedded = initialization(\n",
    "    n_samples=dataX.shape[0], \n",
    "    n_components=2,\n",
    "    X=dataX,\n",
    "    random_state=seed,\n",
    "    method=\"random\"\n",
    ") \n",
    "\n",
    "# Initialize config and parameters\n",
    "learning_rate = (dataX.shape[0] * 1) / (exaggeration_factor * 1000)\n",
    "\n",
    "opt_conf = opt_config(cf, learning_rate, exaggeration_factor, ex_iterations, main_iterations, exact=exact, grad_scale_fix=True, grad_fix=correct_gradient)\n",
    "opt_params = SequentialOptimizer.sequence_poincare(**opt_conf) \n",
    "\n",
    "log_path_cf = log_path + f\"cf_{cf.class_str()}/correct_grad_{correct_gradient}/\"\n",
    "grad_path_grad = grad_path + f\"cf_{cf.class_str()}/correct_grad_{correct_gradient}/\"\n",
    "\n",
    "opt_params, opt_conf = initialize_logger(opt_params, opt_conf, log_path_cf, grad_path_grad)\n",
    "opt_params[\"cf_params\"].update({\"grad_fix\" : correct_gradient})     # So the cost function knows which gradient to use\n",
    "opt_params[\"cf_params\"].update({\"var\" : var})"
   ]
  },
  {
   "cell_type": "code",
   "execution_count": 19,
   "metadata": {},
   "outputs": [
    {
     "name": "stdout",
     "output_type": "stream",
     "text": [
      "[HyperbolicTSNE] Received iterable as input. It should have len=2 and contain (D=None, V=None)\n",
      "[hd_mat] Warning: There is nothing to do with given parameters. Returning given D and V\n",
      "Running Gradient Descent, Verbosity: 1\n",
      "[gradient_descent] Warning: because of logging, the cf will be computed at every iteration\n"
     ]
    },
    {
     "name": "stderr",
     "output_type": "stream",
     "text": [
      "Gradient Descent: 0it [00:00, ?it/s]\n"
     ]
    },
    {
     "name": "stdout",
     "output_type": "stream",
     "text": [
      "Running Gradient Descent, Verbosity: 1\n",
      "[gradient_descent] Warning: because of logging, the cf will be computed at every iteration\n"
     ]
    },
    {
     "name": "stderr",
     "output_type": "stream",
     "text": [
      "Gradient Descent error: -0.01887 grad_norm: 8.32309e-08:  89%|████████▉ | 890/1000 [00:05<00:00, 177.66it/s]"
     ]
    },
    {
     "name": "stdout",
     "output_type": "stream",
     "text": [
      "3\n"
     ]
    },
    {
     "name": "stderr",
     "output_type": "stream",
     "text": [
      "\n"
     ]
    }
   ],
   "source": [
    "# Set up H-TSNE object \n",
    "htsne = HyperbolicTSNE(\n",
    "    init=X_embedded, \n",
    "    n_components=2, \n",
    "    metric=\"precomputed\",\n",
    "    verbose=1, \n",
    "    opt_method=SequentialOptimizer,         # the optimizater we use\n",
    "    opt_params=opt_params              # the parameters for the optimizers\n",
    "    )\n",
    "\n",
    "# Compute embedding:\n",
    "try:\n",
    "    hyperbolicEmbedding = htsne.fit_transform((D, V))\n",
    "    \n",
    "except ValueError:\n",
    "    hyperbolicEmbedding = find_last_embedding(log_path)\n",
    "    traceback.print_exc()"
   ]
  },
  {
   "cell_type": "code",
   "execution_count": 20,
   "metadata": {},
   "outputs": [
    {
     "name": "stdout",
     "output_type": "stream",
     "text": [
      "Animation being saved to: results/gradient_vis_images/gradienttesting_cf_GaussianKL_correctgrad_True.gif\n"
     ]
    },
    {
     "name": "stderr",
     "output_type": "stream",
     "text": [
      "Animating:   0%|          | 0/179 [00:00<?, ?it/s]f:\\School\\TU_DELFT_THESIS\\hyperbolic-tsne\\hyperbolicTSNE\\visualization.py:322: UserWarning: You passed in an explicit save_count=50 which is being ignored in favor of frames=179.\n",
      "  anim = FuncAnimation(fig, update, frames=len(scatter_data), interval=50, blit=True, save_count=50)\n",
      "MovieWriter ffmpeg unavailable; using Pillow instead.\n",
      "Animating: : 182it [00:12, 14.28it/s]                       \n"
     ]
    },
    {
     "data": {
      "image/png": "[encoded data removed]",
      "text/plain": [
       "<Figure size 640x480 with 1 Axes>"
      ]
     },
     "metadata": {},
     "output_type": "display_data"
    }
   ],
   "source": [
    " # Store visuals\n",
    "save_folder = \"results/gradient_vis_images\"\n",
    "file_name = f\"{save_folder}/gradienttesting_cf_{cf.class_str()}_correctgrad_{correct_gradient}\"\n",
    "\n",
    "# Create folder if it doesn't exist\n",
    "path = Path(save_folder)\n",
    "path.mkdir(parents=True, exist_ok=True)\n",
    "\n",
    "fig = plot_poincare(hyperbolicEmbedding, dataLabels)\n",
    "fig.savefig(f\"{file_name}.png\")\n",
    "\n",
    "# Save animation\n",
    "animate(opt_params[\"logging_dict\"], dataLabels, f\"{file_name}.gif\", fast=True, plot_ee=True)"
   ]
  },
  {
   "cell_type": "code",
   "execution_count": 21,
   "metadata": {},
   "outputs": [
    {
     "name": "stdout",
     "output_type": "stream",
     "text": [
      "Please note that `empty_sequence` uses the KL divergence with Barnes-Hut approximation (angle=0.5) by default.\n",
      "Please note that `empty_sequence` uses the KL divergence with Barnes-Hut approximation (angle=0.5) by default.\n"
     ]
    }
   ],
   "source": [
    "from gradient_experiments import GradientComparisons\n",
    "from pathlib import Path\n",
    "\n",
    "embedding_folder_path = f\"temp/poincare/cf_{cf.class_str()}/correct_grad_True\"              # Where our embeddings are \n",
    "output_folder_path = f\"results/gradient_comparisons/cf_{cf.class_str()}\"                    # Where to store our results\n",
    "V = V                                                                                       # High dim. affinity matrix, precomputed\n",
    "\n",
    "# For each type of gradient, calculate the gradients and store the results\n",
    "for correct_gradient in [True, False]:\n",
    "    # Initialize config and parameters\n",
    "    learning_rate = (dataX.shape[0] * 1) / (exaggeration_factor * 1000)\n",
    "\n",
    "    opt_conf = opt_config(cf, learning_rate, exaggeration_factor, ex_iterations, main_iterations, exact=exact, grad_scale_fix=True, grad_fix=correct_gradient)\n",
    "    opt_params = SequentialOptimizer.sequence_poincare(**opt_conf) \n",
    "    opt_params[\"cf_params\"].update({\"grad_fix\" : correct_gradient})         # So the cost function knows which gradient to use\n",
    "    opt_params[\"cf_params\"].update({\"var\" : 1})                             # Variance needed for GaussianKL cost function\n",
    "    params = opt_params[\"cf_config_params\"] | opt_params[\"cf_params\"]       # Params to initialize cf\n",
    "\n",
    "    key = f\"linear_hierarchical_data_nclusters:{n_clusters}_ndata:{n_samples}\"\n",
    "    cf = GaussianKL(n_components=2, other_params=params)                  \n",
    "    \n",
    "    # Run experiment\n",
    "    Experiment_Gradients = GradientComparisons(embedding_folder_path, cf, key)  \n",
    "    Experiment_Gradients.compute_gradients(V, correct_gradient, output_folder_path, var=var)"
   ]
  }
 ],
 "metadata": {
  "kernelspec": {
   "display_name": "delft_thesis",
   "language": "python",
   "name": "python3"
  },
  "language_info": {
   "codemirror_mode": {
    "name": "ipython",
    "version": 3
   },
   "file_extension": ".py",
   "mimetype": "text/x-python",
   "name": "python",
   "nbconvert_exporter": "python",
   "pygments_lexer": "ipython3",
   "version": "3.9.16"
  }
 },
 "nbformat": 4,
 "nbformat_minor": 2
}
