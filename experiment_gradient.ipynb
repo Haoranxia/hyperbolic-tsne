{
 "cells": [
  {
   "cell_type": "code",
   "execution_count": 53,
   "metadata": {},
   "outputs": [],
   "source": [
    "import os\n",
    "import traceback\n",
    "import numpy as np\n",
    "from numpy import linalg as LA\n",
    "\n",
    "from hyperbolicTSNE import Datasets\n",
    "from hyperbolicTSNE import Datasets, SequentialOptimizer, initialization, HyperbolicTSNE\n",
    "from hyperbolicTSNE.cost_functions_ import HyperbolicKL\n",
    "from hyperbolicTSNE.util import find_last_embedding, opt_config, initialize_logger, write_data, store_visuals\n",
    "from hyperbolicTSNE.data_loaders import load_mnist\n",
    "from hyperbolicTSNE.hd_mat_ import hd_matrix"
   ]
  },
  {
   "cell_type": "code",
   "execution_count": 54,
   "metadata": {},
   "outputs": [],
   "source": [
    "data_home = \"datasets\"\n",
    "log_path = \"temp/poincare/\"  # path for saving embedding snapshots\n",
    "grad_path = \"temp_grad/\""
   ]
  },
  {
   "cell_type": "code",
   "execution_count": 55,
   "metadata": {},
   "outputs": [],
   "source": [
    "seed = 42"
   ]
  },
  {
   "cell_type": "code",
   "execution_count": 56,
   "metadata": {},
   "outputs": [],
   "source": [
    "dataset = Datasets.MNIST\n",
    "num_points = [-1]\n",
    "perplexities = [50]\n",
    "correct_gradient = False                         # NOTE: Recompile with correct flag (GRAD_FIX flag)\n",
    "exact = True                                     # Exact computation or BH estimation of gradient\n",
    "pca_components = 0                               # Whether to use pca initialization of high dim. data or not\n",
    "grad_scale_fix = True                            # Whether we multiply the gradient by the inverse metric tensor of hyperbolic space or not\n",
    "                                                 # Note that the correct hyperoblic gradient has an inverse metric tensor factor"
   ]
  },
  {
   "cell_type": "markdown",
   "metadata": {},
   "source": [
    "Generate a specific set of samples we want to use.\n",
    "Right now we want 10 samples of data with labels 2 and 4."
   ]
  },
  {
   "cell_type": "code",
   "execution_count": 57,
   "metadata": {},
   "outputs": [],
   "source": [
    "# MNIST DATA \n",
    "\n",
    "# n_samples = 20             # How much to sample from each class\n",
    "# dataX, dataLabels = load_mnist(data_home=data_home)\n",
    "# print(dataX.shape, dataLabels.shape)\n",
    "\n",
    "# indices_2 = np.where(dataLabels == 2)\n",
    "# indices_4 = np.where(dataLabels == 4)\n",
    "\n",
    "# samples_idx_2 = np.random.choice(indices_2[0], size=n_samples, replace=False)\n",
    "# samples_idx_4 = np.random.choice(indices_4[0], size=n_samples, replace=False)\n",
    "\n",
    "# print(samples_idx_2)\n",
    "# print(samples_idx_4)\n",
    "\n",
    "# print(dataLabels[samples_idx_2])\n",
    "# print(dataLabels[samples_idx_4])\n",
    "\n",
    "# labels_2 = dataLabels[samples_idx_2]\n",
    "# labels_4 = dataLabels[samples_idx_4]\n",
    "# sample_labels = np.concatenate((labels_2, labels_4), axis=0)\n",
    "\n",
    "# samples_2 = dataX[samples_idx_2]        # samples of number 2\n",
    "# samples_4 = dataX[samples_idx_4]        # samples of number 4\n",
    "# sample_data = np.concatenate((samples_2, samples_4), axis=0)    # Contains both 2 and 4 \n",
    "\n",
    "# print(sample_data.shape)    "
   ]
  },
  {
   "cell_type": "markdown",
   "metadata": {},
   "source": [
    "Custom data with 2 very dense clusters that are far apart from eachother"
   ]
  },
  {
   "cell_type": "code",
   "execution_count": 58,
   "metadata": {},
   "outputs": [],
   "source": [
    "# Custom data, Multivariate distrib.\n",
    "# from scipy.stats import multivariate_normal\n",
    "\n",
    "# n_samples = 100\n",
    "# n_dims = 50\n",
    "# loc = 1000\n",
    "\n",
    "# mu_1 = np.ones(n_dims) * (-loc)\n",
    "# cov_1 = np.identity(n_dims) * 100\n",
    "# cluster_1 = multivariate_normal.rvs(mean=mu_1, cov=cov_1, size=n_samples)\n",
    "\n",
    "# mu_2 = np.ones(n_dims) * loc \n",
    "# cov_2 = np.identity(n_dims)\n",
    "# cluster_2 = multivariate_normal.rvs(mean=mu_2, cov=cov_2, size=n_samples)\n",
    "\n",
    "# print(cluster_1.shape)      # 10 samples in each cluster\n",
    "# print(cluster_2.shape)\n",
    "\n",
    "# dataX = np.concatenate((cluster_1, cluster_2), axis=0)\n",
    "\n",
    "# labels = [0 for _ in range(n_samples)] + [1 for _ in range(n_samples)]\n",
    "# dataLabels = np.array(labels)"
   ]
  },
  {
   "cell_type": "code",
   "execution_count": 59,
   "metadata": {},
   "outputs": [],
   "source": [
    "# Custom data, Uniform distrib.\n",
    "\n",
    "from scipy.stats import uniform \n",
    "n_samples = 500\n",
    "n_dim = 10\n",
    "b1 = 1000000\n",
    "b2 = 100\n",
    "\n",
    "# Bounds for first distribution\n",
    "lb_1 = np.ones(n_dim) * (-b1)\n",
    "ub_1 = np.ones(n_dim) * (-b2)\n",
    "widths_1 = ub_1 - lb_1 \n",
    "\n",
    "# Bounds for 2nd distribution\n",
    "lb_2 = np.ones(n_dim) * b2\n",
    "ub_2 = np.ones(n_dim) * b1\n",
    "widths_2 = ub_2 - lb_2\n",
    "\n",
    "# Draw samples \n",
    "samples_1 = uniform.rvs(loc=lb_1, scale=widths_1, size=(n_samples, n_dim))\n",
    "samples_2 = uniform.rvs(loc=lb_2, scale=widths_2, size=(n_samples, n_dim))\n",
    "\n",
    "dataX = np.concatenate((samples_1, samples_2), axis=0)\n",
    "labels = [0 for _ in range(n_samples)] + [1 for _ in range(n_samples)]\n",
    "dataLabels = np.array(labels)"
   ]
  },
  {
   "cell_type": "markdown",
   "metadata": {},
   "source": [
    "Get the distance matrix and affinity matrix of our samples"
   ]
  },
  {
   "cell_type": "code",
   "execution_count": 60,
   "metadata": {},
   "outputs": [
    {
     "name": "stdout",
     "output_type": "stream",
     "text": [
      "Computing the kNN D matrix with k=999 nearest neighbors...\n",
      "Using sklearn NearestNeighbor, an exact method, for the knn computation\n",
      "Indexed 1000 samples in 0.001s...\n",
      "Computed neighbors for 1000 samples in {duration:.3f}s...\n",
      "`hd_method` set to `vdm2008`, running with perplexity 500. Returns (D, V)\n",
      "[t-SNE] Computed conditional probabilities for sample 1000 / 1000\n",
      "[t-SNE] Mean sigma: 1363059.625000\n"
     ]
    }
   ],
   "source": [
    "hd_params = {\"perplexity\": n_samples}\n",
    "\n",
    "D, V = hd_matrix(X=dataX, D=None, V=None,\n",
    "                    knn_method=\"sklearn\", metric=\"euclidean\", n_neighbors=10, knn_params=None,\n",
    "                    hd_method=\"vdm2008\", hd_params=hd_params, verbose=1)"
   ]
  },
  {
   "cell_type": "code",
   "execution_count": 61,
   "metadata": {},
   "outputs": [
    {
     "name": "stdout",
     "output_type": "stream",
     "text": [
      "(1000, 1000)\n",
      "(1000, 1000)\n"
     ]
    }
   ],
   "source": [
    "print(D.shape)\n",
    "print(V.shape)"
   ]
  },
  {
   "cell_type": "code",
   "execution_count": 62,
   "metadata": {},
   "outputs": [
    {
     "name": "stdout",
     "output_type": "stream",
     "text": [
      "Please note that `empty_sequence` uses the KL divergence with Barnes-Hut approximation (angle=0.5) by default.\n",
      "config: {'cf': <class 'hyperbolicTSNE.cost_functions_.HyperbolicKL'>, 'learning_rate_ex': 0.08333333333333333, 'learning_rate_main': 0.08333333333333333, 'exaggeration': 12, 'exaggeration_its': 100, 'gradientDescent_its': 100, 'vanilla': False, 'momentum_ex': 0.5, 'momentum': 0.8, 'exact': True, 'area_split': False, 'n_iter_check': 10, 'size_tol': 0.999, 'grad_scale_fix': True}\n"
     ]
    }
   ],
   "source": [
    "# Initialize embedder\n",
    "\n",
    "# Simple experiment with no exaggeration\n",
    "exaggeration_factor = 12\n",
    "ex_iterations = 100\n",
    "main_iterations = 100\n",
    "cf = HyperbolicKL\n",
    "\n",
    "# Compute initial embedding in Poincare disk (PCA embedding)\n",
    "X_embedded = initialization(\n",
    "    n_samples=dataX.shape[0], \n",
    "    n_components=2,\n",
    "    X=dataX,\n",
    "    random_state=seed,\n",
    "    method=\"random\"\n",
    ") \n",
    "\n",
    "# Initialize config and parameters\n",
    "learning_rate = (dataX.shape[0] * 1) / (exaggeration_factor * 1000)\n",
    "\n",
    "opt_conf = opt_config(cf, learning_rate, exaggeration_factor, ex_iterations, main_iterations, exact)\n",
    "opt_params = SequentialOptimizer.sequence_poincare(**opt_conf) \n",
    "opt_params, opt_conf = initialize_logger(log_path, grad_path, opt_params, opt_conf)"
   ]
  },
  {
   "cell_type": "code",
   "execution_count": 63,
   "metadata": {},
   "outputs": [
    {
     "name": "stdout",
     "output_type": "stream",
     "text": [
      "[HyperbolicTSNE] Received iterable as input. It should have len=2 and contain (D=None, V=None)\n",
      "[hd_mat] Warning: There is nothing to do with given parameters. Returning given D and V\n",
      "Running Gradient Descent, Verbosity: True\n",
      "[gradient_descent] Warning: because of logging, the cf will be computed at every iteration\n"
     ]
    },
    {
     "name": "stderr",
     "output_type": "stream",
     "text": [
      "Gradient Descent error: 38.05760 grad_norm: 4.65726e-01: 100%|██████████| 100/100 [00:03<00:00, 25.61it/s]\n"
     ]
    },
    {
     "name": "stdout",
     "output_type": "stream",
     "text": [
      "Running Gradient Descent, Verbosity: True\n",
      "[gradient_descent] Warning: because of logging, the cf will be computed at every iteration\n"
     ]
    },
    {
     "name": "stderr",
     "output_type": "stream",
     "text": [
      "Gradient Descent error: 0.47385 grad_norm: 1.92445e-02: 100%|██████████| 100/100 [00:03<00:00, 25.49it/s]\n"
     ]
    }
   ],
   "source": [
    "# Set up H-TSNE object \n",
    "htsne = HyperbolicTSNE(\n",
    "    init=X_embedded, \n",
    "    n_components=2, \n",
    "    metric=\"precomputed\", \n",
    "    verbose=True, \n",
    "    opt_method=SequentialOptimizer,         # the optimizater we use\n",
    "    opt_params=opt_params              # the parameters for the optimizers\n",
    ")\n",
    "\n",
    "# Compute embedding:\n",
    "try:\n",
    "    hyperbolicEmbedding = htsne.fit_transform((D, V))\n",
    "    \n",
    "except ValueError:\n",
    "    hyperbolicEmbedding = find_last_embedding(log_path)\n",
    "    traceback.print_exc()"
   ]
  },
  {
   "cell_type": "code",
   "execution_count": 64,
   "metadata": {},
   "outputs": [
    {
     "name": "stdout",
     "output_type": "stream",
     "text": [
      "temp/poincare/\n",
      "temp/poincare/solver_gradient_descent_sequential_opt_0\n",
      "temp/poincare/solver_gradient_descent_sequential_opt_1\n",
      "Animation being saved to: results/gradient_vis_images/sample2_4_images.gif\n"
     ]
    },
    {
     "name": "stderr",
     "output_type": "stream",
     "text": [
      "Animating:   0%|          | 0/20 [00:00<?, ?it/s]f:\\School\\TU_DELFT_THESIS\\hyperbolic-tsne\\hyperbolicTSNE\\visualization.py:323: UserWarning: You passed in an explicit save_count=50 which is being ignored in favor of frames=20.\n",
      "  anim = FuncAnimation(fig, update, frames=len(scatter_data), interval=50, blit=True, save_count=50)\n",
      "MovieWriter ffmpeg unavailable; using Pillow instead.\n",
      "Animating: : 23it [00:01, 12.55it/s]                      \n"
     ]
    },
    {
     "data": {
      "image/png": "[encoded data removed]",
      "text/plain": [
       "<Figure size 640x480 with 1 Axes>"
      ]
     },
     "metadata": {},
     "output_type": "display_data"
    }
   ],
   "source": [
    "save_folder = \"results/gradient_vis_images\"\n",
    "file_name = f\"{save_folder}/sample2_4_images\"\n",
    "store_visuals(hyperbolicEmbedding, dataLabels, save_folder, file_name, opt_params)"
   ]
  }
 ],
 "metadata": {
  "kernelspec": {
   "display_name": "delft_thesis",
   "language": "python",
   "name": "python3"
  },
  "language_info": {
   "codemirror_mode": {
    "name": "ipython",
    "version": 3
   },
   "file_extension": ".py",
   "mimetype": "text/x-python",
   "name": "python",
   "nbconvert_exporter": "python",
   "pygments_lexer": "ipython3",
   "version": "3.9.16"
  }
 },
 "nbformat": 4,
 "nbformat_minor": 2
}
