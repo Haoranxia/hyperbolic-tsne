{
 "cells": [
  {
   "cell_type": "code",
   "execution_count": 24,
   "metadata": {},
   "outputs": [
    {
     "name": "stdout",
     "output_type": "stream",
     "text": [
      "The autoreload extension is already loaded. To reload it, use:\n",
      "  %reload_ext autoreload\n"
     ]
    }
   ],
   "source": [
    "%load_ext autoreload\n",
    "%autoreload 2"
   ]
  },
  {
   "cell_type": "code",
   "execution_count": 25,
   "metadata": {},
   "outputs": [],
   "source": [
    "import os\n",
    "from pathlib import Path \n",
    "import traceback\n",
    "import numpy as np\n",
    "from numpy import linalg as LA\n",
    "from matplotlib import pyplot as plt\n",
    "\n",
    "from hyperbolicTSNE import Datasets\n",
    "from hyperbolicTSNE import Datasets, SequentialOptimizer, initialization, HyperbolicTSNE\n",
    "from hyperbolicTSNE.cost_functions_ import HyperbolicKL, GaussianKL\n",
    "from hyperbolicTSNE.util import find_last_embedding, opt_config, initialize_logger, write_data, store_visuals\n",
    "from hyperbolicTSNE.data_loaders import load_mnist\n",
    "from hyperbolicTSNE.hd_mat_ import hd_matrix\n",
    "from hyperbolicTSNE.visualization import animate, plot_poincare"
   ]
  },
  {
   "cell_type": "markdown",
   "metadata": {},
   "source": [
    "# Dataset generation code\n",
    "Generate a specific set of samples we want to use.\n",
    "Right now we want 10 samples of data with labels 2 and 4."
   ]
  },
  {
   "cell_type": "code",
   "execution_count": 26,
   "metadata": {},
   "outputs": [],
   "source": [
    "# MNIST DATA \n",
    "\n",
    "# n_samples = 20             # How much to sample from each class\n",
    "# dataX, dataLabels = load_mnist(data_home=data_home)\n",
    "# print(dataX.shape, dataLabels.shape)\n",
    "\n",
    "# indices_2 = np.where(dataLabels == 2)\n",
    "# indices_4 = np.where(dataLabels == 4)\n",
    "\n",
    "# samples_idx_2 = np.random.choice(indices_2[0], size=n_samples, replace=False)\n",
    "# samples_idx_4 = np.random.choice(indices_4[0], size=n_samples, replace=False)\n",
    "\n",
    "# print(samples_idx_2)\n",
    "# print(samples_idx_4)\n",
    "\n",
    "# print(dataLabels[samples_idx_2])\n",
    "# print(dataLabels[samples_idx_4])\n",
    "\n",
    "# labels_2 = dataLabels[samples_idx_2]\n",
    "# labels_4 = dataLabels[samples_idx_4]\n",
    "# sample_labels = np.concatenate((labels_2, labels_4), axis=0)\n",
    "\n",
    "# samples_2 = dataX[samples_idx_2]        # samples of number 2\n",
    "# samples_4 = dataX[samples_idx_4]        # samples of number 4\n",
    "# sample_data = np.concatenate((samples_2, samples_4), axis=0)    # Contains both 2 and 4 \n",
    "\n",
    "# print(sample_data.shape)    "
   ]
  },
  {
   "cell_type": "code",
   "execution_count": 27,
   "metadata": {},
   "outputs": [],
   "source": [
    "from scipy.stats import multivariate_normal\n",
    "\n",
    "def generate_linear_hierarchical_data(n_samples, n_clusters, n_dim, start, end):\n",
    "    \"\"\" \n",
    "    Generate a \"hierarchical\" dataset where we basically generate clusters from \"left\" to \"right\" \n",
    "    \"\"\"\n",
    "    # n_samples must be a integer multiple of n_clusters\n",
    "    points_per_cluster = n_samples\n",
    "    cluster_distances = np.abs(end - start) / n_clusters                            # distance between each cluster\n",
    "    cluster_centers = [start + i * cluster_distances for i in range(n_clusters)]    # centers of each cluster\n",
    "\n",
    "    # Generate data\n",
    "    data = []\n",
    "    for center in cluster_centers:\n",
    "        cluster_center = np.ones(n_dim) * center\n",
    "        cov = (cluster_distances / 3) \n",
    "        # cov = 1\n",
    "        cluster_cov = np.identity(n_dim) * cov\n",
    "        #cluster_cov = np.identity(n_dim)\n",
    "        cluster_data = multivariate_normal.rvs(mean=cluster_center, cov=cluster_cov, size=points_per_cluster)\n",
    "        data.append(cluster_data)\n",
    "\n",
    "    # Generate labels\n",
    "    labels = []\n",
    "    for i in range(n_clusters):\n",
    "        labels = labels + [i for _ in range(points_per_cluster)]\n",
    "\n",
    "    return np.array(data), np.array(labels)\n",
    "\n",
    "\n",
    "# Custom data, Uniform distrib.\n",
    "from scipy.stats import uniform \n",
    "def generate_uniform_clusters(n_samples, n_dim, b1, b2):\n",
    "    # n_samples = 500\n",
    "    # n_dim = 10\n",
    "    # b1 = 1000000\n",
    "    # b2 = 100\n",
    "\n",
    "    # Bounds for first distribution\n",
    "    lb_1 = np.ones(n_dim) * (-b1)\n",
    "    ub_1 = np.ones(n_dim) * (-b2)\n",
    "    widths_1 = ub_1 - lb_1 \n",
    "\n",
    "    # Bounds for 2nd distribution\n",
    "    lb_2 = np.ones(n_dim) * b2\n",
    "    ub_2 = np.ones(n_dim) * b1\n",
    "    widths_2 = ub_2 - lb_2\n",
    "\n",
    "    # Draw samples \n",
    "    samples_1 = uniform.rvs(loc=lb_1, scale=widths_1, size=(n_samples, n_dim))\n",
    "    samples_2 = uniform.rvs(loc=lb_2, scale=widths_2, size=(n_samples, n_dim))\n",
    "\n",
    "    dataX = np.concatenate((samples_1, samples_2), axis=0)\n",
    "    labels = [0 for _ in range(n_samples)] + [1 for _ in range(n_samples)]\n",
    "    dataLabels = np.array(labels)\n",
    "\n",
    "    return dataX, dataLabels"
   ]
  },
  {
   "cell_type": "markdown",
   "metadata": {},
   "source": [
    "# Preperation for running embedding\n",
    "Get the distance matrix and affinity matrix of our samples\n",
    "Generate custom dataset (see below)"
   ]
  },
  {
   "cell_type": "code",
   "execution_count": 28,
   "metadata": {},
   "outputs": [],
   "source": [
    "n_samples = 5\n",
    "n_clusters = 2\n",
    "n_dim = 2\n",
    "start = -100\n",
    "end = 100\n",
    "\n",
    "# Generate data\n",
    "dataX, dataLabels = generate_linear_hierarchical_data(n_samples, n_clusters, n_dim, start, end)\n",
    "dataX = dataX.reshape((dataX.shape[0] * dataX.shape[1], dataX.shape[2]))"
   ]
  },
  {
   "cell_type": "markdown",
   "metadata": {},
   "source": [
    "# Visualize generated data"
   ]
  },
  {
   "cell_type": "code",
   "execution_count": 29,
   "metadata": {},
   "outputs": [
    {
     "data": {
      "image/png": "[encoded data removed]",
      "text/plain": [
       "<Figure size 640x480 with 1 Axes>"
      ]
     },
     "metadata": {},
     "output_type": "display_data"
    }
   ],
   "source": [
    "plt.scatter(dataX[:, 0], dataX[:, 1], c=dataLabels)\n",
    "\n",
    "plt.title(\"Generated dataset\")\n",
    "plt.show()"
   ]
  },
  {
   "cell_type": "code",
   "execution_count": 30,
   "metadata": {},
   "outputs": [
    {
     "name": "stdout",
     "output_type": "stream",
     "text": [
      "Computing the kNN D matrix with k=9 nearest neighbors...\n",
      "Using sklearn NearestNeighbor, an exact method, for the knn computation\n",
      "Indexed 10 samples in 0.000s...\n",
      "Computed neighbors for 10 samples in {duration:.3f}s...\n",
      "`hd_method` set to `vdm2008`, running with perplexity 5. Returns (D, V)\n",
      "[t-SNE] Computed conditional probabilities for sample 10 / 10\n",
      "[t-SNE] Mean sigma: 79.151604\n"
     ]
    }
   ],
   "source": [
    "hd_params = {\"perplexity\": n_samples}\n",
    "D, V = hd_matrix(X=dataX, D=None, V=None,\n",
    "                    knn_method=\"sklearn\", metric=\"euclidean\", n_neighbors=n_samples, knn_params=None,\n",
    "                    hd_method=\"vdm2008\", hd_params=hd_params, verbose=1)"
   ]
  },
  {
   "cell_type": "markdown",
   "metadata": {},
   "source": [
    "Initialize configuration parameters and stuff"
   ]
  },
  {
   "cell_type": "code",
   "execution_count": 31,
   "metadata": {},
   "outputs": [],
   "source": [
    "data_home = \"datasets\"\n",
    "log_path = \"temp/poincare/\"  # path for saving embedding snapshots\n",
    "grad_path = \"temp/grad/\"     # NOTE: We will manually calculate the gradients\n",
    "\n",
    "seed = 42\n",
    "\n",
    "dataset = Datasets.MNIST\n",
    "num_points = [-1]\n",
    "perplexities = [50]\n",
    "correct_gradient = True                          # NOTE: Recompile with correct flag (GRAD_FIX flag)\n",
    "exact = True                                     # Exact computation or BH estimation of gradient\n",
    "pca_components = 0                               # Whether to use pca initialization of high dim. data or not\n",
    "grad_scale_fix = True                            # Whether we multiply the gradient by the inverse metric tensor of hyperbolic space or not\n",
    "                                                 # Note that the correct hyperoblic gradient has an inverse metric tensor factor\n",
    "\n",
    "# Simple experiment with no exaggeration\n",
    "exaggeration_factor = 12\n",
    "ex_iterations = 0\n",
    "main_iterations = 1000\n",
    "cf = GaussianKL"
   ]
  },
  {
   "cell_type": "markdown",
   "metadata": {},
   "source": [
    "# Run embedding\n",
    "Code below runs the embedding procedure for our specified dataset\n",
    "\n",
    "We compute embeddings for the correct gradient version, and then manually compute the wrong gradient using the emebddings produced by the correct gradient"
   ]
  },
  {
   "cell_type": "code",
   "execution_count": 32,
   "metadata": {},
   "outputs": [
    {
     "name": "stdout",
     "output_type": "stream",
     "text": [
      "Please note that `empty_sequence` uses the KL divergence with Barnes-Hut approximation (angle=0.5) by default.\n",
      "config: {'cf': <class 'hyperbolicTSNE.cost_functions_.GaussianKL'>, 'learning_rate_ex': 0.0008333333333333334, 'learning_rate_main': 0.0008333333333333334, 'exaggeration': 12, 'exaggeration_its': 0, 'gradientDescent_its': 1000, 'vanilla': False, 'momentum_ex': 0.5, 'momentum': 0.8, 'exact': True, 'area_split': False, 'n_iter_check': 10, 'size_tol': 0.999, 'grad_scale_fix': True, 'grad_fix': True}\n"
     ]
    }
   ],
   "source": [
    "# Compute initial embedding in Poincare disk (PCA embedding)\n",
    "X_embedded = initialization(\n",
    "    n_samples=dataX.shape[0], \n",
    "    n_components=2,\n",
    "    X=dataX,\n",
    "    random_state=seed,\n",
    "    method=\"random\"\n",
    ") \n",
    "\n",
    "# Initialize config and parameters\n",
    "learning_rate = (dataX.shape[0] * 1) / (exaggeration_factor * 1000)\n",
    "\n",
    "opt_conf = opt_config(cf, learning_rate, exaggeration_factor, ex_iterations, main_iterations, exact=exact, grad_scale_fix=True, grad_fix=correct_gradient)\n",
    "opt_params = SequentialOptimizer.sequence_poincare(**opt_conf) \n",
    "\n",
    "log_path_cf = log_path + f\"correct_grad_{correct_gradient}/\"\n",
    "grad_path_grad = grad_path + f\"correct_grad_{correct_gradient}/\"\n",
    "\n",
    "opt_params, opt_conf = initialize_logger(opt_params, opt_conf, log_path_cf, grad_path_grad)\n",
    "opt_params[\"cf_params\"].update({\"grad_fix\" : correct_gradient})     # So the cost function knows which gradient to use\n",
    "opt_params[\"cf_params\"].update({\"var\" : 1})"
   ]
  },
  {
   "cell_type": "code",
   "execution_count": 33,
   "metadata": {},
   "outputs": [
    {
     "name": "stdout",
     "output_type": "stream",
     "text": [
      "[HyperbolicTSNE] Received iterable as input. It should have len=2 and contain (D=None, V=None)\n",
      "[hd_mat] Warning: There is nothing to do with given parameters. Returning given D and V\n",
      "Running Gradient Descent, Verbosity: 1\n",
      "[gradient_descent] Warning: because of logging, the cf will be computed at every iteration\n"
     ]
    },
    {
     "name": "stderr",
     "output_type": "stream",
     "text": [
      "Gradient Descent: 0it [00:00, ?it/s]\n"
     ]
    },
    {
     "name": "stdout",
     "output_type": "stream",
     "text": [
      "Running Gradient Descent, Verbosity: 1\n",
      "[gradient_descent] Warning: because of logging, the cf will be computed at every iteration\n"
     ]
    },
    {
     "name": "stderr",
     "output_type": "stream",
     "text": [
      "Gradient Descent error: -31.50562 grad_norm: 1.24213e+16:  14%|█▍        | 140/1000 [00:00<00:00, 916.71it/s]"
     ]
    },
    {
     "name": "stdout",
     "output_type": "stream",
     "text": [
      "4\n"
     ]
    },
    {
     "name": "stderr",
     "output_type": "stream",
     "text": [
      "\n"
     ]
    }
   ],
   "source": [
    "# Set up H-TSNE object \n",
    "htsne = HyperbolicTSNE(\n",
    "    init=X_embedded, \n",
    "    n_components=2, \n",
    "    metric=\"precomputed\",\n",
    "    verbose=1, \n",
    "    opt_method=SequentialOptimizer,         # the optimizater we use\n",
    "    opt_params=opt_params              # the parameters for the optimizers\n",
    "    )\n",
    "\n",
    "# Compute embedding:\n",
    "try:\n",
    "    hyperbolicEmbedding = htsne.fit_transform((D, V))\n",
    "    \n",
    "except ValueError:\n",
    "    hyperbolicEmbedding = find_last_embedding(log_path)\n",
    "    traceback.print_exc()"
   ]
  },
  {
   "cell_type": "code",
   "execution_count": 34,
   "metadata": {},
   "outputs": [
    {
     "name": "stdout",
     "output_type": "stream",
     "text": [
      "Animation being saved to: results/gradient_vis_images/gradienttesting_correctgrad_True.gif\n"
     ]
    },
    {
     "name": "stderr",
     "output_type": "stream",
     "text": [
      "Animating:   0%|          | 0/29 [00:00<?, ?it/s]/Users/haoranxia/Thesis-Delft/hyperbolic-tsne/hyperbolicTSNE/visualization.py:322: UserWarning: You passed in an explicit save_count=50 which is being ignored in favor of frames=29.\n",
      "  anim = FuncAnimation(fig, update, frames=len(scatter_data), interval=50, blit=True, save_count=50)\n",
      "MovieWriter ffmpeg unavailable; using Pillow instead.\n",
      "Animating: : 32it [00:00, 41.24it/s]                      \n"
     ]
    },
    {
     "data": {
      "image/png": "[encoded data removed]",
      "text/plain": [
       "<Figure size 640x480 with 1 Axes>"
      ]
     },
     "metadata": {},
     "output_type": "display_data"
    }
   ],
   "source": [
    " # Store visuals\n",
    "save_folder = \"results/gradient_vis_images\"\n",
    "file_name = f\"{save_folder}/gradienttesting_correctgrad_{correct_gradient}\"\n",
    "\n",
    "# Create folder if it doesn't exist\n",
    "path = Path(save_folder)\n",
    "path.mkdir(parents=True, exist_ok=True)\n",
    "\n",
    "fig = plot_poincare(hyperbolicEmbedding, dataLabels)\n",
    "fig.savefig(f\"{file_name}.png\")\n",
    "\n",
    "# Save animation\n",
    "animate(opt_params[\"logging_dict\"], dataLabels, f\"{file_name}.gif\", fast=True, plot_ee=True)"
   ]
  },
  {
   "cell_type": "markdown",
   "metadata": {},
   "source": [
    "# Gradient analysis notes:\n",
    "\n",
    "- Upon preliminary observations, the true gradient tends to push embeddings towards the outer edge much more than the wrong gradient. \n",
    "\n",
    "- The correct gradient needs a bit of time before it starts moving the points outwards. The incorrect one starts moving faster.\n",
    "\n",
    "- Possible explanation: \n",
    "$d^H_{ij}$ amplifies all the forces. The $F_{rep}$ force for points that are far away always contributes to the gradient because the t-distribution has heavy tails, so if points are already far away, they still have a considerable effect on eachother. \n",
    "[Analyze repulsive forces contribution?]\n",
    "\n",
    "- Things to try to get a sense of the differences in gradients? Plot norms, plot difference in norms, ...\n"
   ]
  },
  {
   "cell_type": "markdown",
   "metadata": {},
   "source": [
    "# Experiment (1)\n",
    "Compute both gradients for the same embeddings. Choice of embedding should be set manually"
   ]
  },
  {
   "cell_type": "code",
   "execution_count": 35,
   "metadata": {},
   "outputs": [
    {
     "name": "stdout",
     "output_type": "stream",
     "text": [
      "Please note that `empty_sequence` uses the KL divergence with Barnes-Hut approximation (angle=0.5) by default.\n",
      "Please note that `empty_sequence` uses the KL divergence with Barnes-Hut approximation (angle=0.5) by default.\n"
     ]
    }
   ],
   "source": [
    "from gradient_experiments import GradientComparisons\n",
    "from pathlib import Path\n",
    "\n",
    "embedding_folder_path = \"temp/poincare/correct_grad_True\"              # Where our embeddings are \n",
    "output_folder_path = \"results/gradient_comparisons\"                    # Where to store our results\n",
    "V = V                                                                  # High dim. affinity matrix, precomputed\n",
    "\n",
    "# For each type of gradient, calculate the gradients and store the results\n",
    "for correct_gradient in [True, False]:\n",
    "    # Initialize config and parameters\n",
    "    learning_rate = (dataX.shape[0] * 1) / (exaggeration_factor * 1000)\n",
    "\n",
    "    opt_conf = opt_config(cf, learning_rate, exaggeration_factor, ex_iterations, main_iterations, exact=exact, grad_scale_fix=True, grad_fix=correct_gradient)\n",
    "    opt_params = SequentialOptimizer.sequence_poincare(**opt_conf) \n",
    "    opt_params[\"cf_params\"].update({\"grad_fix\" : correct_gradient})         # So the cost function knows which gradient to use\n",
    "    params = opt_params[\"cf_config_params\"] | opt_params[\"cf_params\"]       # Params to initialize cf\n",
    "\n",
    "    key = f\"linear_hierarchical_data_nclusters:{n_clusters}_ndata:{n_samples}\"\n",
    "    cf = HyperbolicKL(n_components=2, other_params=params)                  \n",
    "    \n",
    "    # Run experiment\n",
    "    Experiment_Gradients = GradientComparisons(embedding_folder_path, cf, key)  \n",
    "    Experiment_Gradients.compute_gradients(V, correct_gradient, output_folder_path)"
   ]
  },
  {
   "cell_type": "markdown",
   "metadata": {},
   "source": [
    "# Plot of correct and incorrect gradient\n",
    "\n",
    "Plot the norms of some datapoint i with the correct and incorrect gradients"
   ]
  },
  {
   "cell_type": "code",
   "execution_count": 36,
   "metadata": {},
   "outputs": [],
   "source": [
    "node = 5"
   ]
  },
  {
   "cell_type": "code",
   "execution_count": 37,
   "metadata": {},
   "outputs": [
    {
     "data": {
      "image/png": "[encoded data removed]",
      "text/plain": [
       "<Figure size 640x480 with 1 Axes>"
      ]
     },
     "metadata": {},
     "output_type": "display_data"
    }
   ],
   "source": [
    "# Plot correct gradient data of node {node}\n",
    "correct_grad_directory = Path(\"results/gradient_comparisons/correct_grad_True\")\n",
    "\n",
    "# Loop over all gradient files\n",
    "files = sorted(correct_grad_directory.iterdir(), key=lambda file: int(file.name.split(\".\")[0]))\n",
    "data_size = len(files)\n",
    "grads_c = np.zeros((data_size, 2))\n",
    "\n",
    "\n",
    "for idx, grad_file in enumerate(files):\n",
    "    data = np.loadtxt(str(grad_file), delimiter=',')\n",
    "    grads_c[idx] = data[node]\n",
    "\n",
    "# Establish x-coordinates\n",
    "xs = np.array([x for x in range(data_size)])   \n",
    "\n",
    "# Compute norms\n",
    "grads_c = np.linalg.norm(grads_c, axis=1)\n",
    "\n",
    "plt.scatter(xs, grads_c, s=10)\n",
    "plt.ylabel(f\"Correct Gradient norm of emb:{node}\")\n",
    "plt.xlabel(\"Iteration\")\n",
    "plt.show()"
   ]
  },
  {
   "cell_type": "code",
   "execution_count": 38,
   "metadata": {},
   "outputs": [
    {
     "data": {
      "image/png": "[encoded data removed]",
      "text/plain": [
       "<Figure size 640x480 with 1 Axes>"
      ]
     },
     "metadata": {},
     "output_type": "display_data"
    }
   ],
   "source": [
    "# Plot norms of wrong gradient\n",
    "# Plot correct gradient data of node {node}\n",
    "correct_grad_directory = Path(\"results/gradient_comparisons/correct_grad_False\")\n",
    "\n",
    "# Loop over all gradient files\n",
    "files = sorted(correct_grad_directory.iterdir(), key=lambda file: int(file.name.split(\".\")[0]))\n",
    "data_size = len(files)\n",
    "grads_w = np.zeros((data_size, 2))\n",
    "\n",
    "for idx, grad_file in enumerate(files):\n",
    "    data = np.loadtxt(str(grad_file), delimiter=',')\n",
    "    grads_w[idx] = data[node]\n",
    "\n",
    "# Compute norms\n",
    "grads_w = np.linalg.norm(grads_w, axis=1)\n",
    "\n",
    "plt.scatter(xs, grads_w, s=10)\n",
    "plt.ylabel(f\"False Gradient norm of emb:{node}\")\n",
    "plt.xlabel(\"Iteration\")\n",
    "plt.show()"
   ]
  },
  {
   "cell_type": "code",
   "execution_count": 39,
   "metadata": {},
   "outputs": [
    {
     "data": {
      "image/png": "[encoded data removed]",
      "text/plain": [
       "<Figure size 640x480 with 1 Axes>"
      ]
     },
     "metadata": {},
     "output_type": "display_data"
    }
   ],
   "source": [
    "plt.scatter(xs, grads_c, s=10, c=\"blue\", label=\"Correct grad\")\n",
    "plt.scatter(xs, grads_w, s=10, c=\"red\", label=\"Wrong grad\")\n",
    "\n",
    "plt.title(f\"Grad norm vs iteration of embedding:{node}\")\n",
    "plt.ylabel(\"Gradient norm\")\n",
    "plt.xlabel(\"Iteration\")\n",
    "\n",
    "plt.legend()\n",
    "plt.show()"
   ]
  },
  {
   "cell_type": "markdown",
   "metadata": {},
   "source": [
    "## Ideas to experiment further with\n",
    "wg = wrong gradient, cg = correct gradient\n",
    "\n",
    "1. It seems that the wg is in general much larger in magnitude than cg\n",
    "2. wg starts off large, cg starts of small\n",
    "3. cg peaks around iteration ~300\n",
    "4. wg has a peak, but not a very obvious one like cg\n",
    "5. When points are far away enough, i.e. when embeddings have converged, the gradients are more or less the same\n",
    "\n",
    "## Initial ideas:\n",
    "1. Lower iterations --> lower distances. Do smaller distances affect gradients?\n",
    "2. $q^{H}_{ij}$ is very off at the beginning. I can analyze the relationship of $q^{H}_{ij}$ and gradient (norm)\n",
    "3. In depthly investigate iteration (-1), seems to be the most straightforward place to start\n"
   ]
  },
  {
   "cell_type": "markdown",
   "metadata": {},
   "source": [
    "# Gradient visualization"
   ]
  },
  {
   "cell_type": "code",
   "execution_count": 40,
   "metadata": {},
   "outputs": [
    {
     "ename": "FileNotFoundError",
     "evalue": "temp/poincare/correct_grad_True/solver_gradient_descent_sequential_opt_1/500.csv not found.",
     "output_type": "error",
     "traceback": [
      "\u001b[0;31m---------------------------------------------------------------------------\u001b[0m",
      "\u001b[0;31mFileNotFoundError\u001b[0m                         Traceback (most recent call last)",
      "Cell \u001b[0;32mIn[40], line 20\u001b[0m\n\u001b[1;32m     18\u001b[0m embeddings_directory \u001b[38;5;241m=\u001b[39m Path(\u001b[38;5;124m\"\u001b[39m\u001b[38;5;124mtemp/poincare/correct_grad_True/solver_gradient_descent_sequential_opt_1\u001b[39m\u001b[38;5;124m\"\u001b[39m)\n\u001b[1;32m     19\u001b[0m emb_file_path \u001b[38;5;241m=\u001b[39m Path(\u001b[38;5;124mf\u001b[39m\u001b[38;5;124m\"\u001b[39m\u001b[38;5;132;01m{\u001b[39;00membeddings_directory\u001b[38;5;132;01m}\u001b[39;00m\u001b[38;5;124m/\u001b[39m\u001b[38;5;132;01m{\u001b[39;00memb_it\u001b[38;5;132;01m}\u001b[39;00m\u001b[38;5;124m.csv\u001b[39m\u001b[38;5;124m\"\u001b[39m)\n\u001b[0;32m---> 20\u001b[0m emb_data \u001b[38;5;241m=\u001b[39m \u001b[43mnp\u001b[49m\u001b[38;5;241;43m.\u001b[39;49m\u001b[43mloadtxt\u001b[49m\u001b[43m(\u001b[49m\u001b[38;5;28;43mstr\u001b[39;49m\u001b[43m(\u001b[49m\u001b[43memb_file_path\u001b[49m\u001b[43m)\u001b[49m\u001b[43m,\u001b[49m\u001b[43m \u001b[49m\u001b[43mdelimiter\u001b[49m\u001b[38;5;241;43m=\u001b[39;49m\u001b[38;5;124;43m'\u001b[39;49m\u001b[38;5;124;43m,\u001b[39;49m\u001b[38;5;124;43m'\u001b[39;49m\u001b[43m)\u001b[49m\n\u001b[1;32m     21\u001b[0m data[\u001b[38;5;124m\"\u001b[39m\u001b[38;5;124mEmb\u001b[39m\u001b[38;5;124m\"\u001b[39m] \u001b[38;5;241m=\u001b[39m emb_data\n",
      "File \u001b[0;32m~/miniconda3/envs/delft_thesis/lib/python3.9/site-packages/numpy/lib/npyio.py:1338\u001b[0m, in \u001b[0;36mloadtxt\u001b[0;34m(fname, dtype, comments, delimiter, converters, skiprows, usecols, unpack, ndmin, encoding, max_rows, quotechar, like)\u001b[0m\n\u001b[1;32m   1335\u001b[0m \u001b[38;5;28;01mif\u001b[39;00m \u001b[38;5;28misinstance\u001b[39m(delimiter, \u001b[38;5;28mbytes\u001b[39m):\n\u001b[1;32m   1336\u001b[0m     delimiter \u001b[38;5;241m=\u001b[39m delimiter\u001b[38;5;241m.\u001b[39mdecode(\u001b[38;5;124m'\u001b[39m\u001b[38;5;124mlatin1\u001b[39m\u001b[38;5;124m'\u001b[39m)\n\u001b[0;32m-> 1338\u001b[0m arr \u001b[38;5;241m=\u001b[39m \u001b[43m_read\u001b[49m\u001b[43m(\u001b[49m\u001b[43mfname\u001b[49m\u001b[43m,\u001b[49m\u001b[43m \u001b[49m\u001b[43mdtype\u001b[49m\u001b[38;5;241;43m=\u001b[39;49m\u001b[43mdtype\u001b[49m\u001b[43m,\u001b[49m\u001b[43m \u001b[49m\u001b[43mcomment\u001b[49m\u001b[38;5;241;43m=\u001b[39;49m\u001b[43mcomment\u001b[49m\u001b[43m,\u001b[49m\u001b[43m \u001b[49m\u001b[43mdelimiter\u001b[49m\u001b[38;5;241;43m=\u001b[39;49m\u001b[43mdelimiter\u001b[49m\u001b[43m,\u001b[49m\n\u001b[1;32m   1339\u001b[0m \u001b[43m            \u001b[49m\u001b[43mconverters\u001b[49m\u001b[38;5;241;43m=\u001b[39;49m\u001b[43mconverters\u001b[49m\u001b[43m,\u001b[49m\u001b[43m \u001b[49m\u001b[43mskiplines\u001b[49m\u001b[38;5;241;43m=\u001b[39;49m\u001b[43mskiprows\u001b[49m\u001b[43m,\u001b[49m\u001b[43m \u001b[49m\u001b[43musecols\u001b[49m\u001b[38;5;241;43m=\u001b[39;49m\u001b[43musecols\u001b[49m\u001b[43m,\u001b[49m\n\u001b[1;32m   1340\u001b[0m \u001b[43m            \u001b[49m\u001b[43munpack\u001b[49m\u001b[38;5;241;43m=\u001b[39;49m\u001b[43munpack\u001b[49m\u001b[43m,\u001b[49m\u001b[43m \u001b[49m\u001b[43mndmin\u001b[49m\u001b[38;5;241;43m=\u001b[39;49m\u001b[43mndmin\u001b[49m\u001b[43m,\u001b[49m\u001b[43m \u001b[49m\u001b[43mencoding\u001b[49m\u001b[38;5;241;43m=\u001b[39;49m\u001b[43mencoding\u001b[49m\u001b[43m,\u001b[49m\n\u001b[1;32m   1341\u001b[0m \u001b[43m            \u001b[49m\u001b[43mmax_rows\u001b[49m\u001b[38;5;241;43m=\u001b[39;49m\u001b[43mmax_rows\u001b[49m\u001b[43m,\u001b[49m\u001b[43m \u001b[49m\u001b[43mquote\u001b[49m\u001b[38;5;241;43m=\u001b[39;49m\u001b[43mquotechar\u001b[49m\u001b[43m)\u001b[49m\n\u001b[1;32m   1343\u001b[0m \u001b[38;5;28;01mreturn\u001b[39;00m arr\n",
      "File \u001b[0;32m~/miniconda3/envs/delft_thesis/lib/python3.9/site-packages/numpy/lib/npyio.py:975\u001b[0m, in \u001b[0;36m_read\u001b[0;34m(fname, delimiter, comment, quote, imaginary_unit, usecols, skiplines, max_rows, converters, ndmin, unpack, dtype, encoding)\u001b[0m\n\u001b[1;32m    973\u001b[0m     fname \u001b[38;5;241m=\u001b[39m os\u001b[38;5;241m.\u001b[39mfspath(fname)\n\u001b[1;32m    974\u001b[0m \u001b[38;5;28;01mif\u001b[39;00m \u001b[38;5;28misinstance\u001b[39m(fname, \u001b[38;5;28mstr\u001b[39m):\n\u001b[0;32m--> 975\u001b[0m     fh \u001b[38;5;241m=\u001b[39m \u001b[43mnp\u001b[49m\u001b[38;5;241;43m.\u001b[39;49m\u001b[43mlib\u001b[49m\u001b[38;5;241;43m.\u001b[39;49m\u001b[43m_datasource\u001b[49m\u001b[38;5;241;43m.\u001b[39;49m\u001b[43mopen\u001b[49m\u001b[43m(\u001b[49m\u001b[43mfname\u001b[49m\u001b[43m,\u001b[49m\u001b[43m \u001b[49m\u001b[38;5;124;43m'\u001b[39;49m\u001b[38;5;124;43mrt\u001b[39;49m\u001b[38;5;124;43m'\u001b[39;49m\u001b[43m,\u001b[49m\u001b[43m \u001b[49m\u001b[43mencoding\u001b[49m\u001b[38;5;241;43m=\u001b[39;49m\u001b[43mencoding\u001b[49m\u001b[43m)\u001b[49m\n\u001b[1;32m    976\u001b[0m     \u001b[38;5;28;01mif\u001b[39;00m encoding \u001b[38;5;129;01mis\u001b[39;00m \u001b[38;5;28;01mNone\u001b[39;00m:\n\u001b[1;32m    977\u001b[0m         encoding \u001b[38;5;241m=\u001b[39m \u001b[38;5;28mgetattr\u001b[39m(fh, \u001b[38;5;124m'\u001b[39m\u001b[38;5;124mencoding\u001b[39m\u001b[38;5;124m'\u001b[39m, \u001b[38;5;124m'\u001b[39m\u001b[38;5;124mlatin1\u001b[39m\u001b[38;5;124m'\u001b[39m)\n",
      "File \u001b[0;32m~/miniconda3/envs/delft_thesis/lib/python3.9/site-packages/numpy/lib/_datasource.py:193\u001b[0m, in \u001b[0;36mopen\u001b[0;34m(path, mode, destpath, encoding, newline)\u001b[0m\n\u001b[1;32m    156\u001b[0m \u001b[38;5;250m\u001b[39m\u001b[38;5;124;03m\"\"\"\u001b[39;00m\n\u001b[1;32m    157\u001b[0m \u001b[38;5;124;03mOpen `path` with `mode` and return the file object.\u001b[39;00m\n\u001b[1;32m    158\u001b[0m \n\u001b[0;32m   (...)\u001b[0m\n\u001b[1;32m    189\u001b[0m \n\u001b[1;32m    190\u001b[0m \u001b[38;5;124;03m\"\"\"\u001b[39;00m\n\u001b[1;32m    192\u001b[0m ds \u001b[38;5;241m=\u001b[39m DataSource(destpath)\n\u001b[0;32m--> 193\u001b[0m \u001b[38;5;28;01mreturn\u001b[39;00m \u001b[43mds\u001b[49m\u001b[38;5;241;43m.\u001b[39;49m\u001b[43mopen\u001b[49m\u001b[43m(\u001b[49m\u001b[43mpath\u001b[49m\u001b[43m,\u001b[49m\u001b[43m \u001b[49m\u001b[43mmode\u001b[49m\u001b[43m,\u001b[49m\u001b[43m \u001b[49m\u001b[43mencoding\u001b[49m\u001b[38;5;241;43m=\u001b[39;49m\u001b[43mencoding\u001b[49m\u001b[43m,\u001b[49m\u001b[43m \u001b[49m\u001b[43mnewline\u001b[49m\u001b[38;5;241;43m=\u001b[39;49m\u001b[43mnewline\u001b[49m\u001b[43m)\u001b[49m\n",
      "File \u001b[0;32m~/miniconda3/envs/delft_thesis/lib/python3.9/site-packages/numpy/lib/_datasource.py:533\u001b[0m, in \u001b[0;36mDataSource.open\u001b[0;34m(self, path, mode, encoding, newline)\u001b[0m\n\u001b[1;32m    530\u001b[0m     \u001b[38;5;28;01mreturn\u001b[39;00m _file_openers[ext](found, mode\u001b[38;5;241m=\u001b[39mmode,\n\u001b[1;32m    531\u001b[0m                               encoding\u001b[38;5;241m=\u001b[39mencoding, newline\u001b[38;5;241m=\u001b[39mnewline)\n\u001b[1;32m    532\u001b[0m \u001b[38;5;28;01melse\u001b[39;00m:\n\u001b[0;32m--> 533\u001b[0m     \u001b[38;5;28;01mraise\u001b[39;00m \u001b[38;5;167;01mFileNotFoundError\u001b[39;00m(\u001b[38;5;124mf\u001b[39m\u001b[38;5;124m\"\u001b[39m\u001b[38;5;132;01m{\u001b[39;00mpath\u001b[38;5;132;01m}\u001b[39;00m\u001b[38;5;124m not found.\u001b[39m\u001b[38;5;124m\"\u001b[39m)\n",
      "\u001b[0;31mFileNotFoundError\u001b[0m: temp/poincare/correct_grad_True/solver_gradient_descent_sequential_opt_1/500.csv not found."
     ]
    }
   ],
   "source": [
    "# Lets examine gradients of step 0\n",
    "gradients_directory = Path(\"results/gradient_comparisons\")\n",
    "\n",
    "# The iteration we want to analyze\n",
    "emb_it = 500                              \n",
    "\n",
    "# Load gradients corresponding to \"emb_it\"\n",
    "data = dict()\n",
    "for correct_grad in [True, False]:\n",
    "    gradient_folder = Path(f\"results/gradient_comparisons/correct_grad_{correct_grad}\")\n",
    "    # Load gradient data from the iteration we want\n",
    "    gradient_file_path = Path(f\"{gradient_folder}/{emb_it}.csv\")\n",
    "    gradient_data = np.loadtxt(str(gradient_file_path), delimiter=',')\n",
    "    key = \"Correct_Grad\" if correct_grad else \"Wrong_Grad\"\n",
    "    data[key] = gradient_data\n",
    "\n",
    "# Load embedding corresponding to \"emb_it\"\n",
    "embeddings_directory = Path(\"temp/poincare/correct_grad_True/solver_gradient_descent_sequential_opt_1\")\n",
    "emb_file_path = Path(f\"{embeddings_directory}/{emb_it}.csv\")\n",
    "emb_data = np.loadtxt(str(emb_file_path), delimiter=',')\n",
    "data[\"Emb\"] = emb_data"
   ]
  },
  {
   "cell_type": "code",
   "execution_count": 55,
   "metadata": {},
   "outputs": [
    {
     "name": "stdout",
     "output_type": "stream",
     "text": [
      "(10, 2)\n",
      "[ 0.45826009  0.45522957  0.45761847  0.46014575  0.45780186 -0.4589705\n",
      " -0.45655406 -0.46064741 -0.45943713 -0.45353056]\n",
      "[0.45826009 0.50234489]\n",
      "[0 0 0 0 0 1 1 1 1 1]\n"
     ]
    }
   ],
   "source": [
    "# Testing data shape and such. Sanity checks\n",
    "\n",
    "# for key in data:\n",
    "#     print(key)\n",
    "#     print(data[key])\n",
    "#     print()\n",
    "\n",
    "print(data[\"Emb\"].shape)\n",
    "print(data[\"Emb\"][:, 0])\n",
    "print(data[\"Emb\"][0])\n",
    "# Note that the indices of dataLabels correspond to indices of data[\"Emb\"]\n",
    "print(dataLabels)"
   ]
  },
  {
   "cell_type": "markdown",
   "metadata": {},
   "source": [
    "So what do we do now with the data?\n",
    "\n",
    "**data** contains computed gradients for each version, and the corresponding embedding \n",
    "- Embeddings are really close to eachother\n",
    "- Zoom in, plot the points, and visualize the gradient vectors for each point?\n",
    "- Compute angle differences between gradients? What parameters may be influencing this?"
   ]
  },
  {
   "cell_type": "code",
   "execution_count": 60,
   "metadata": {},
   "outputs": [
    {
     "data": {
      "image/png": "[encoded data removed]",
      "text/plain": [
       "<Figure size 640x480 with 1 Axes>"
      ]
     },
     "metadata": {},
     "output_type": "display_data"
    }
   ],
   "source": [
    "from matplotlib import pyplot as plt\n",
    "\n",
    "scaling_factor = 1\n",
    "grad_scaling_factor = 1\n",
    "\n",
    "# Plot embedding points\n",
    "# Create a figure and axis\n",
    "fig, ax = plt.subplots()\n",
    "\n",
    "# Plot the embeddings/data\n",
    "scaled_data = data[\"Emb\"] * scaling_factor\n",
    "\n",
    "# In our current situation we have 2 clusters with n_samples elements each\n",
    "ax.scatter(scaled_data[:n_samples, 0], scaled_data[:n_samples, 1], color='red')\n",
    "ax.scatter(scaled_data[n_samples:, 0], scaled_data[n_samples:, 1], color='blue')\n",
    "\n",
    "# Plot the gradients \n",
    "scaled_wrong_grad = data[\"Wrong_Grad\"] * grad_scaling_factor\n",
    "ax.quiver(scaled_data[:, 0], scaled_data[:, 1], scaled_wrong_grad[:, 0], scaled_wrong_grad[:, 1],\n",
    "          angles='xy', scale_units='xy', scale=1, color='green', label=\"wrong grad\")\n",
    "\n",
    "# Correct gradient seems to be ~3000 times smaller than wrong gradient (at the start)\n",
    "scaled_correct_grad = data[\"Correct_Grad\"] * grad_scaling_factor\n",
    "ax.quiver(scaled_data[:, 0], scaled_data[:, 1], scaled_correct_grad[:, 0], scaled_correct_grad[:, 1],\n",
    "          angles='xy', scale_units='xy', scale=1, color='purple', label=\"correct grad\")\n",
    "\n",
    "# Set axis limits\n",
    "ax.set_xlim([-1, 1])\n",
    "ax.set_ylim([-1, 1])\n",
    "\n",
    "# Add labels and title\n",
    "ax.set_xlabel('x')\n",
    "ax.set_ylabel('y')\n",
    "ax.set_title(f'Embedding it:{emb_it}')\n",
    "\n",
    "ax.legend()\n",
    "\n",
    "# Show the plot\n",
    "plt.show()"
   ]
  },
  {
   "cell_type": "markdown",
   "metadata": {},
   "source": [
    "Code to find affinity matrices"
   ]
  },
  {
   "cell_type": "code",
   "execution_count": 63,
   "metadata": {},
   "outputs": [
    {
     "name": "stdout",
     "output_type": "stream",
     "text": [
      "[[0.         0.02263579 0.02264177 0.02263958 0.0226419  0.00188323\n",
      "  0.00189714 0.00187359 0.00188055 0.0019146 ]\n",
      " [0.02263579 0.         0.02263817 0.02262547 0.02263754 0.00190064\n",
      "  0.00191474 0.00189087 0.00189792 0.00193243]\n",
      " [0.02264177 0.02263817 0.         0.02263762 0.02264203 0.00188691\n",
      "  0.00190087 0.00187724 0.00188422 0.00191837]\n",
      " [0.02263958 0.02262547 0.02263762 0.         0.02263824 0.00187241\n",
      "  0.00188621 0.00186285 0.00186975 0.00190352]\n",
      " [0.0226419  0.02263754 0.02264203 0.02263824 0.         0.00188586\n",
      "  0.0018998  0.00187619 0.00188317 0.00191729]\n",
      " [0.00188323 0.00190064 0.00188691 0.00187241 0.00188586 0.\n",
      "  0.02263804 0.02264009 0.0226419  0.02262196]\n",
      " [0.00189714 0.00191474 0.00190087 0.00188621 0.0018998  0.02263804\n",
      "  0.         0.02263048 0.02263633 0.02263589]\n",
      " [0.00187359 0.00189087 0.00187724 0.00186285 0.00187619 0.02264009\n",
      "  0.02263048 0.         0.02264102 0.02260747]\n",
      " [0.00188055 0.00189792 0.00188422 0.00186975 0.00188317 0.0226419\n",
      "  0.02263633 0.02264102 0.         0.02261833]\n",
      " [0.0019146  0.00193243 0.00191837 0.00190352 0.00191729 0.02262196\n",
      "  0.02263589 0.02260747 0.02261833 0.        ]]\n",
      "[[ 0.45826009  0.50234489]\n",
      " [ 0.45522957  0.49902441]\n",
      " [ 0.45761847  0.50164222]\n",
      " [ 0.46014575  0.50441172]\n",
      " [ 0.45780186  0.50184404]\n",
      " [-0.4589705  -0.50311113]\n",
      " [-0.45655406 -0.50046427]\n",
      " [-0.46064741 -0.504948  ]\n",
      " [-0.45943713 -0.50362137]\n",
      " [-0.45353056 -0.4971487 ]]\n",
      "3.2902889554960955\n"
     ]
    }
   ],
   "source": [
    "# High dimensional affinities\n",
    "P = V\n",
    "\n",
    "# Low dimensional affinities, computed from embeddings \n",
    "def hyp_dist(y1, y2):\n",
    "    diff = y1 - y2\n",
    "    num = diff.dot(diff)                         # numerator\n",
    "    denum = (1 - y1.dot(y1)) * (1 - y2.dot(y2))  # denumerator\n",
    "    dist = np.arccosh(1 + 2 * (num / denum))\n",
    "\n",
    "    return dist\n",
    "\n",
    "def compute_affinities(embedding_data):\n",
    "    Q = np.zeros((embedding_data.shape[0], embedding_data.shape[0]))\n",
    "    for i in range(Q.shape[0]):\n",
    "        for j in range(i + 1, Q.shape[1]):\n",
    "            dist = hyp_dist(embedding_data[i], embedding_data[j])       # hyp. distance\n",
    "            dist = 1. / (1 + dist**2)                                   # t-distrib. \"distance\"\n",
    "            Q[i][j] = dist\n",
    "            Q[j][i] = dist\n",
    "\n",
    "    # Normalize distances to probabilities\n",
    "    # return Q / Q.sum()\n",
    "    return Q / Q.sum()\n",
    "\n",
    "Q = compute_affinities(data[\"Emb\"])\n",
    "print(Q)\n",
    "print(data[\"Emb\"])"
   ]
  },
  {
   "cell_type": "markdown",
   "metadata": {},
   "source": [
    "# Analysis of behaviour at beginning (early iterations)\n",
    "\n",
    "1. hyp. distances are small $d^{H}_{ij}$ approaches 0 (since $cosh^{-1} goes to 0), since its argument goes to 1.\n",
    "\n",
    "2. This means t-distrib. probability goes to 1, $(1 + (d^{H}_{ij})^2)^{-1}$ goes to 1.\n",
    "So once normalized, all probabilities $q^{H}_{ij}$ are almost the same for all $ij$, so we basically have an uniform distribution for $q^{H}_{ij}$\n",
    "\n",
    "3. Why are the wrong gradients so much bigger?\n",
    "\n",
    "Correct Gradient expression:\n",
    "$$ 4  \\sum_{j} (p_{ij} - q^{H}_{ij}) (1 + (d^{H}_{ij})^2)^{-1}  d^{H}_{ij} \\frac{d^{H}_{ij}}{y_i}$$\n",
    "\n",
    "\\\n",
    "Wrong Gradient expresion:\n",
    "$$ 4  \\sum_{j} (p_{ij} - q^{H}_{ij}) (1 + (d^{H}_{ij})^2)^{-1} \\frac{d^{H}_{ij}}{y_i}$$\n",
    "\n",
    "\\\n",
    "Because in early iterations, $ d^{H}_{ij} $ is approximately 0, the correct gradient is very small, until points haved moved sufficiently for this term to increase in value.\n",
    "\n",
    "Can this possibly replace early exaggeration? Maybe.. \n",
    "At the beginning, points are updated in very small amounts. But this applies to both attractive and repulsive forces.\n",
    "\n",
    "At some points, points are \"distant\" enough, for $ d^{H}_{ij} $ to not matter much anymore. \n",
    "\n",
    "$ d^{H}_{ij} $ goes up a lot (to possibly infinity) for larger distances. This means that forces between distant points get heavily amplified. Is this an issue though? Since very distant forces should be more or less 0?\n",
    "\n",
    "4. Is the use of the t-distribution justified in hyperbolic space?\n",
    "Is it making repellant points feel a repellant force for way too far distances?\n",
    "What do p, q look like for points far away? Is the heavy-tailedness a problem in hyperbolic space?\n",
    "\n",
    "Despite large distances, $ q^{H}_{ij} $ is never able to reach the \"correct\" probabilities due to the use of the t-distribution? Since the heavy tails requires too big of distances for things to converge properly. Hence points keep getting pushed out? \n",
    "\n",
    "We can try using a regular gaussian distribution for $ q^{H}_{ij} $. Rederive the gradient, and experiment with that.\n",
    "But do we then need to take the symmetric version into account?"
   ]
  },
  {
   "cell_type": "code",
   "execution_count": 67,
   "metadata": {},
   "outputs": [
    {
     "name": "stdout",
     "output_type": "stream",
     "text": [
      "[0.         0.02330491 0.02352711 0.02385505 0.0239803  0.00104243\n",
      " 0.00111792 0.00097909 0.00102759 0.00122277]\n",
      "\n",
      "[0.         0.02343405 0.02355982 0.02356367 0.0235796  0.00119157\n",
      " 0.00121584 0.00117543 0.00118695 0.00124233]\n",
      "\n",
      "[[ 0.00000000e+00 -1.29136629e-04 -3.27161953e-05  2.91388368e-04\n",
      "   4.00694417e-04 -1.49134982e-04 -9.79217107e-05 -1.96340724e-04\n",
      "  -1.59360803e-04 -1.95643305e-05]]\n"
     ]
    }
   ],
   "source": [
    "# Lets analyze affinity matrices for later iterations. Points are farther away\n",
    "# print(P.toarray())\n",
    "\n",
    "# Load embedding corresponding to \"emb_it\"\n",
    "emb_it = 998\n",
    "embeddings_directory = Path(\"temp/poincare/correct_grad_True/solver_gradient_descent_sequential_opt_1\")\n",
    "emb_file_path = Path(f\"{embeddings_directory}/{emb_it}.csv\")\n",
    "emb_data = np.loadtxt(str(emb_file_path), delimiter=',')\n",
    "Q = compute_affinities(emb_data)\n",
    "\n",
    "print(P.toarray()[0])\n",
    "print() \n",
    "\n",
    "print(Q[0])\n",
    "print()\n",
    "\n",
    "print((P - Q)[0])"
   ]
  },
  {
   "cell_type": "markdown",
   "metadata": {},
   "source": [
    "Most of the space you see in the poincare disk (image) only represents a tiny fraction of the actual space.\n",
    "Most of the actual hyperbolic space, (actually almost all the \"infinity\" space) is along the boundary \"squished\" together, not really visible from someone looking at the poincare disk on the outside. \n",
    "\n",
    "What does this mean for \"faithful\" poincare embeddings? As most of the disk only represents a little bit of the whole space.\n",
    "Our data which originately lives in high dim. euclidean space, which has potentially large distances, wouldn't it be natural for it to be squished towards the edge since most of hyperbolic space is at the edge?\n",
    "\n",
    "So I have the following things to consider:\n",
    "1. The correct gradient visualizations do make sense. But they're visually not pleasing.\n",
    "Do we need to find a way to make them visually more intuitive to understand?\n",
    "\n",
    "2. Using a gaussian distribution for lower dimensional embeddings. \n",
    "   But this means we have to choose hyperparameters (variance) for our gaussian too.\n",
    "   Maybe there can be some heuristic formula for the variance based on the perplexity?\n",
    "\n",
    "3. Using different cost functions in general for lower dimensional embeddings."
   ]
  },
  {
   "cell_type": "code",
   "execution_count": 73,
   "metadata": {},
   "outputs": [
    {
     "name": "stdout",
     "output_type": "stream",
     "text": [
      "[[ 0.53534092  0.58684124]\n",
      " [ 0.52519227  0.57571664]\n",
      " [ 0.53160129  0.58274207]\n",
      " [ 0.53864218  0.59046012]\n",
      " [ 0.53451779  0.58593902]\n",
      " [-0.53564387 -0.58715874]\n",
      " [-0.52985407 -0.58081227]\n",
      " [-0.53947201 -0.59135495]\n",
      " [-0.53674226 -0.58836266]\n",
      " [-0.52349332 -0.57383968]]\n",
      "[0.53534092 0.58684124] [-0.52349332 -0.57383968]\n",
      "0.36902745706167317 0.3966627634498533\n",
      "2.468310152806799\n",
      "16.86240887988954\n",
      "4.240394427577829\n",
      "4.240394427577829\n"
     ]
    }
   ],
   "source": [
    "print(emb_data)\n",
    "\n",
    "y1 = emb_data[0]\n",
    "y2 = emb_data[9]\n",
    "print(y1, y2)\n",
    "\n",
    "denum_y1 = (1 - y1.dot(y1))\n",
    "denum_y2 = (1 - y2.dot(y2))\n",
    "print(denum_y1, denum_y2)\n",
    "\n",
    "diff = (y1 - y2).dot(y1 - y2)\n",
    "print(diff)\n",
    "\n",
    "frac = diff / (denum_y1 * denum_y2)\n",
    "print(frac)\n",
    "\n",
    "dist = np.arccosh(1 + 2 * frac)\n",
    "print(dist)\n",
    "\n",
    "dist = hyp_dist(y1, y2)\n",
    "print(dist)"
   ]
  }
 ],
 "metadata": {
  "kernelspec": {
   "display_name": "delft_thesis",
   "language": "python",
   "name": "python3"
  },
  "language_info": {
   "codemirror_mode": {
    "name": "ipython",
    "version": 3
   },
   "file_extension": ".py",
   "mimetype": "text/x-python",
   "name": "python",
   "nbconvert_exporter": "python",
   "pygments_lexer": "ipython3",
   "version": "3.9.16"
  }
 },
 "nbformat": 4,
 "nbformat_minor": 2
}
