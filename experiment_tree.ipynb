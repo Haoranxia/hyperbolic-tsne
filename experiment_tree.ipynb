{
 "cells": [
  {
   "cell_type": "code",
   "execution_count": 28,
   "metadata": {},
   "outputs": [
    {
     "name": "stdout",
     "output_type": "stream",
     "text": [
      "The autoreload extension is already loaded. To reload it, use:\n",
      "  %reload_ext autoreload\n"
     ]
    }
   ],
   "source": [
    "%load_ext autoreload\n",
    "%autoreload 2"
   ]
  },
  {
   "cell_type": "code",
   "execution_count": 29,
   "metadata": {},
   "outputs": [],
   "source": [
    "# General imports\n",
    "import os\n",
    "from pathlib import Path \n",
    "import traceback\n",
    "import numpy as np\n",
    "from numpy import linalg as LA\n",
    "from matplotlib import pyplot as plt\n",
    "from scipy.sparse import csr_matrix"
   ]
  },
  {
   "cell_type": "code",
   "execution_count": 30,
   "metadata": {},
   "outputs": [],
   "source": [
    "# HyperbolicTSNE imports\n",
    "from hyperbolicTSNE import Datasets, load_data\n",
    "from hyperbolicTSNE import Datasets, SequentialOptimizer, initialization, HyperbolicTSNE\n",
    "from hyperbolicTSNE.cost_functions_ import HyperbolicKL, GaussianKL\n",
    "from hyperbolicTSNE.util import find_last_embedding, opt_config, initialize_logger, save_experiment_results,  next_experiment_folder_id\n",
    "from hyperbolicTSNE.data_loaders import load_mnist\n",
    "from hyperbolicTSNE.hd_mat_ import hd_matrix\n",
    "from hyperbolicTSNE.visualization import plot_poincare, plot_tree\n",
    "\n",
    "# Data generation function\n",
    "from data_gen import generate_Tree_D, generate_Tree_V\n",
    "\n",
    "# Storing results functions\n",
    "from hyperbolicTSNE.util import GaussianKL_Tree_results, HyperbolicKL_Tree_results"
   ]
  },
  {
   "cell_type": "markdown",
   "metadata": {},
   "source": [
    "# Custom Hierarchical D, V \n",
    "\n",
    "Generate distance D, affinity V matrices based on a tree-like hierarchy"
   ]
  },
  {
   "cell_type": "code",
   "execution_count": 31,
   "metadata": {},
   "outputs": [
    {
     "name": "stdout",
     "output_type": "stream",
     "text": [
      "dataLabels shape:  (850,)\n",
      "is D symmetric?  True\n",
      "is V symmetric?  True\n",
      "D shape:  (850, 850)\n",
      "V[0] max: 0.00018277955541954645, V[0] min: 0.0\n",
      "[[0.00000000e+00 1.75360296e-04 1.58878303e-04 1.82779555e-04\n",
      "  3.22084896e-05 1.04528240e-04 1.01169996e-04 1.16868100e-04\n",
      "  9.64156950e-05 1.70325658e-04 6.29901955e-06 9.48861690e-06\n",
      "  1.16827309e-06 1.88448812e-07 2.75421748e-06 1.50302553e-06\n",
      "  6.93854382e-06 4.34418274e-07 4.60833733e-07 9.34373252e-06\n",
      "  8.39236755e-06 9.87296945e-07 1.04580067e-07 9.29854610e-06\n",
      "  1.19342219e-07 5.93599240e-06 9.13443019e-06 9.22256390e-08\n",
      "  9.81882700e-08 4.62179317e-07 5.67435903e-06 1.07994741e-05\n",
      "  2.17300413e-06 5.01376938e-07 6.13445480e-06 1.26496283e-06\n",
      "  1.06167782e-05 4.78134917e-06 7.47918310e-06 1.11728091e-06\n",
      "  2.12850878e-06 1.40210106e-05 8.75315106e-08 1.12530668e-05\n",
      "  9.60547485e-08 3.55341488e-07 1.27902447e-07 6.12206486e-06\n",
      "  3.56676053e-06 1.01002393e-05 2.35796116e-10 3.39262761e-09\n",
      "  4.77259610e-13 6.72039059e-11 2.17274386e-09 3.41147646e-10\n",
      "  3.11364648e-11 2.25198001e-09 2.81882453e-11 1.05931088e-10\n",
      "  1.62803161e-10 2.43630186e-11 4.26201319e-09 1.90170276e-10\n",
      "  1.45944426e-11 1.14122647e-12 5.88127209e-10 6.55531339e-10\n",
      "  3.92472713e-09 1.40085910e-09 7.88576041e-09 1.77750775e-11\n",
      "  1.41340446e-12 7.90344103e-12 4.87299034e-10 6.87139302e-09\n",
      "  1.92101246e-11 2.89785560e-11 4.79702744e-09 2.69778222e-11\n",
      "  6.32762002e-11 1.63121710e-10 6.52252728e-09 9.73318240e-10\n",
      "  1.49103321e-13 6.67059781e-11 3.33771469e-10 1.62820791e-09\n",
      "  1.81491818e-10 4.09586753e-10 2.24152189e-12 4.28475841e-10\n",
      "  1.94376228e-10 1.63568315e-11 5.31757196e-09 3.47216055e-13\n",
      "  3.93223824e-10 2.19370440e-10 2.35414214e-10 3.50065459e-11\n",
      "  1.62682614e-10 1.51556245e-09 1.06607915e-10 1.39842855e-09\n",
      "  7.86538870e-11 6.24576278e-09 3.42548706e-09 7.57933037e-09\n",
      "  6.48538103e-11 2.91645285e-09 2.78803047e-13 6.64945829e-09\n",
      "  1.11392025e-09 3.73009527e-11 2.15638885e-11 1.59801943e-12\n",
      "  1.94325813e-12 6.19457620e-12 2.51894335e-10 1.48555232e-10\n",
      "  4.75396789e-09 1.96375102e-11 1.54069772e-13 6.79319246e-11\n",
      "  6.22411058e-10 9.89981370e-10 7.79188828e-09 2.23669290e-09\n",
      "  5.27410734e-09 2.63673438e-09 2.39638789e-10 7.73842458e-09\n",
      "  8.55450278e-10 5.18127581e-09 3.24539741e-09 6.47000281e-09\n",
      "  6.49762471e-11 1.59854426e-09 2.45262686e-13 6.01050477e-15\n",
      "  5.87904196e-10 1.18455939e-10 4.46201722e-09 2.48885518e-09\n",
      "  1.05766823e-10 1.12791568e-12 4.08925727e-09 1.09860695e-10\n",
      "  2.22702526e-10 1.07308164e-09 3.91136867e-09 6.54827934e-11\n",
      "  3.08930704e-12 3.44646332e-09 1.46359372e-10 1.96212387e-09\n",
      "  5.64016853e-11 7.48858229e-15 1.73641544e-09 3.60935818e-09\n",
      "  6.52458459e-09 2.87608399e-10 4.31323090e-09 3.36529696e-14\n",
      "  6.02172854e-11 2.22826114e-10 8.34040606e-10 5.52771945e-09\n",
      "  1.06802251e-09 1.58610258e-09 1.13841404e-13 7.56246203e-12\n",
      "  6.17518948e-09 1.55897580e-09 6.88774672e-09 2.02763465e-09\n",
      "  3.44332556e-09 5.56679530e-09 3.89104366e-11 5.72738427e-11\n",
      "  6.06412672e-12 1.23442540e-12 1.95571794e-09 2.02043968e-09\n",
      "  5.58568380e-09 1.11797558e-10 2.69585605e-09 1.19670043e-13\n",
      "  7.50088553e-10 2.55354387e-09 1.35515743e-10 3.08769298e-11\n",
      "  1.21767181e-09 3.07466084e-11 5.81922443e-09 2.22181887e-12\n",
      "  6.46893926e-11 7.59761800e-09 2.15091123e-10 8.32007511e-10\n",
      "  9.45541095e-10 8.15645052e-11 2.41397606e-10 7.06489653e-09\n",
      "  2.81790947e-12 5.78586075e-09 2.80656713e-10 1.55051759e-12\n",
      "  1.22318201e-10 1.39155674e-11 1.15180948e-17 3.13052772e-16\n",
      "  4.69986058e-16 4.77419656e-18 1.12542427e-20 1.31925413e-15\n",
      "  5.67576649e-15 4.93320453e-16 6.93240897e-16 7.75104165e-19\n",
      "  7.43612294e-15 3.70542330e-18 1.05396307e-15 4.34485509e-15\n",
      "  3.77115314e-19 6.62252304e-17 1.22247130e-15 2.50366493e-15\n",
      "  4.96441120e-17 7.55720242e-23 1.25607010e-17 7.65944331e-17\n",
      "  4.39916675e-16 4.31442963e-17 1.77046409e-15 1.96391806e-14\n",
      "  1.35494764e-15 7.24351296e-17 1.22265944e-16 7.54297534e-15\n",
      "  4.34534158e-23 4.02478553e-16 5.49219125e-19 2.62874779e-21\n",
      "  2.91738070e-16 3.94374058e-20 2.33537890e-14 6.82354688e-15\n",
      "  1.19338221e-16 6.62114879e-17 1.01072756e-17 1.70752699e-14\n",
      "  1.91771421e-14 2.02679062e-15 2.82191500e-18 1.69073894e-16\n",
      "  3.69178157e-18 2.88790435e-16 1.77127444e-17 3.98891464e-15\n",
      "  1.19343384e-14 1.88041531e-17 1.95184050e-14 2.93287983e-20\n",
      "  1.37889162e-19 2.99702381e-15 6.91506164e-15 9.30711416e-16\n",
      "  5.04381577e-17 2.32619688e-16 5.44704310e-19 1.63398223e-16\n",
      "  2.43131750e-14 2.25484604e-15 1.68988065e-15 7.99388475e-18\n",
      "  1.59018439e-16 5.69121037e-17 1.49001977e-16 6.78000595e-17\n",
      "  3.33786891e-15 4.64703530e-15 2.71925950e-21 4.82965012e-15\n",
      "  3.29236855e-19 1.97006090e-15 4.35154628e-24 1.50824230e-14\n",
      "  2.92314161e-15 2.89334214e-14 3.02130521e-19 2.94152430e-14\n",
      "  4.35609807e-19 7.36146836e-15 1.90472353e-15 2.31847662e-18\n",
      "  1.78534392e-14 1.42012703e-23 2.87156270e-15 6.84104182e-17\n",
      "  2.07578162e-16 4.38448085e-17 2.18621440e-18 6.11473118e-17\n",
      "  2.93069792e-18 1.01143103e-14 3.16075281e-21 3.41605970e-15\n",
      "  4.85347876e-18 2.58182939e-17 2.34360393e-18 1.02876036e-15\n",
      "  9.07564123e-15 7.56466912e-19 7.65073584e-16 6.23157892e-15\n",
      "  7.61016736e-17 1.25563118e-20 3.05476183e-14 5.54708134e-16\n",
      "  1.77323274e-14 5.50901331e-22 3.02820319e-16 5.95078488e-16\n",
      "  2.90335114e-18 1.24765477e-16 1.43957584e-14 2.32445666e-15\n",
      "  2.24742572e-15 2.08688369e-14 6.24128963e-15 1.07819944e-15\n",
      "  4.75095880e-15 3.87025629e-15 2.22855405e-15 3.11556932e-17\n",
      "  3.03203154e-21 1.85577694e-18 6.30440006e-18 7.12211998e-15\n",
      "  1.46092730e-14 1.22341684e-21 2.32389412e-14 9.43010904e-16\n",
      "  1.95824187e-21 4.27967445e-15 1.81375992e-14 2.80107557e-19\n",
      "  5.99018194e-18 2.16721459e-17 7.33311363e-20 4.22362369e-15\n",
      "  1.59846484e-14 1.53246704e-16 1.29468159e-15 1.41585966e-17\n",
      "  6.98882977e-17 9.89579636e-15 3.15141525e-16 7.83572552e-19\n",
      "  2.36745589e-21 1.97970165e-16 1.51433036e-18 6.31173094e-17\n",
      "  5.56075491e-15 4.24420794e-15 5.51877774e-19 7.21388444e-16\n",
      "  2.29336705e-18 1.64678490e-15 4.20114574e-18 1.92037864e-14\n",
      "  1.44125368e-15 1.21320878e-23 8.09876472e-17 2.59474974e-16\n",
      "  2.57693633e-16 1.60587237e-16 2.67326442e-17 5.32858399e-17\n",
      "  9.72611746e-16 2.82026769e-16 2.29277205e-17 2.33848565e-16\n",
      "  1.10522787e-17 4.61628187e-17 2.14788757e-17 2.72867429e-14\n",
      "  1.04973298e-15 3.28569755e-16 1.74846530e-14 1.34196684e-19\n",
      "  4.54058239e-15 1.16570333e-16 2.41492580e-18 4.77884598e-21\n",
      "  1.34420194e-15 2.31724429e-16 1.51595111e-15 3.40909559e-16\n",
      "  6.87095863e-15 7.54083337e-15 1.18948018e-19 3.25235438e-16\n",
      "  1.49734432e-14 2.27263679e-20 1.86758527e-14 1.64080397e-19\n",
      "  7.99991024e-18 7.93759691e-21 1.06894240e-20 7.82268665e-17\n",
      "  5.84408258e-16 6.83159164e-23 2.32231147e-14 9.42358386e-17\n",
      "  7.41522339e-17 1.41452271e-14 7.82687670e-18 1.47738642e-18\n",
      "  4.84536308e-17 2.68972930e-14 1.53137006e-18 8.50340004e-18\n",
      "  1.28815797e-14 2.63242844e-15 1.79698742e-14 3.19317199e-17\n",
      "  1.53913889e-18 7.58902531e-22 3.38229304e-17 3.63835461e-16\n",
      "  7.34381386e-18 6.46627589e-18 3.04615812e-16 1.09945427e-14\n",
      "  3.69097823e-15 4.61546191e-17 9.91415902e-19 1.07191083e-14\n",
      "  7.65978009e-16 5.94987292e-19 1.71609524e-14 3.66340365e-17\n",
      "  9.19852461e-15 2.39651562e-16 1.39104113e-15 3.54570238e-21\n",
      "  2.24255940e-14 7.51384829e-15 7.36759495e-15 3.26833884e-20\n",
      "  2.16777725e-14 1.02309545e-16 1.87269568e-14 2.03297640e-16\n",
      "  1.36204735e-17 2.29554510e-19 2.49091620e-22 3.27739670e-16\n",
      "  7.58581036e-15 1.02810248e-19 5.28839993e-15 1.85646205e-19\n",
      "  4.33738291e-15 4.13168218e-15 7.72713612e-16 3.59419978e-15\n",
      "  3.87190389e-15 9.91367528e-17 2.24667591e-15 8.74824546e-16\n",
      "  1.83956204e-16 1.00029047e-14 1.73239197e-14 1.00623148e-18\n",
      "  2.77784150e-14 6.34421051e-20 9.15503316e-15 1.44152461e-15\n",
      "  3.92552664e-20 4.79553033e-15 2.70906197e-16 3.41873425e-15\n",
      "  2.18965350e-19 8.66377091e-18 7.81719168e-15 1.05385816e-15\n",
      "  1.18258160e-14 5.35740190e-20 1.36405312e-14 2.82494266e-18\n",
      "  1.43699705e-14 4.19984000e-18 1.84733521e-14 3.02292853e-18\n",
      "  1.17529141e-17 1.36193466e-15 4.51652163e-16 1.29962208e-16\n",
      "  1.73231227e-18 6.36201854e-15 6.82245438e-18 9.10813443e-16\n",
      "  2.85018293e-17 2.79542639e-14 2.57793329e-15 7.41295884e-16\n",
      "  5.25971003e-19 1.77570019e-14 1.95029168e-14 2.46910362e-17\n",
      "  6.12463148e-18 4.92750833e-18 2.58084324e-15 1.21211868e-16\n",
      "  2.33131953e-15 1.02432204e-17 5.76257208e-19 7.55823609e-18\n",
      "  5.14430404e-16 3.08986510e-18 1.17136302e-16 1.12324376e-15\n",
      "  6.69567968e-15 3.28875277e-17 3.73758530e-15 1.02681781e-21\n",
      "  1.17424301e-16 2.21721419e-19 4.99704880e-21 1.50794976e-14\n",
      "  8.92409592e-22 1.32985339e-17 6.02315069e-15 1.90107424e-15\n",
      "  1.93487689e-14 7.92534199e-15 2.51147750e-14 3.50543904e-17\n",
      "  2.19921007e-16 8.05601685e-16 3.77574357e-17 4.05813542e-16\n",
      "  8.66872886e-16 2.93949737e-18 5.92086630e-17 5.79244043e-16\n",
      "  8.26668408e-16 2.95202068e-17 8.53347952e-17 6.06610416e-17\n",
      "  1.04713471e-15 4.86920599e-20 4.95062511e-18 2.31419696e-14\n",
      "  1.62484402e-14 7.68427804e-15 9.14376541e-16 1.63289265e-15\n",
      "  8.97611323e-21 1.14547525e-14 9.56825801e-15 9.75454386e-15\n",
      "  4.82384606e-15 2.88638694e-16 2.59959173e-20 8.43739641e-15\n",
      "  2.08048042e-15 1.26432212e-14 2.41332515e-21 1.57703400e-16\n",
      "  2.23234921e-15 1.57461423e-14 2.08721399e-14 1.01315658e-15\n",
      "  6.73375631e-16 3.04894353e-14 1.40197044e-18 1.22599130e-16\n",
      "  5.41064956e-15 3.93859692e-17 2.45778016e-20 3.18250782e-15\n",
      "  2.61995532e-19 7.83585638e-18 1.08545177e-19 1.15383759e-22\n",
      "  1.40093081e-15 3.07488496e-15 6.25278356e-17 4.65127248e-16\n",
      "  2.57558064e-19 1.16032585e-15 1.88028775e-14 2.24336366e-14\n",
      "  1.76372961e-17 4.27587323e-16 2.57397372e-15 2.84959502e-17\n",
      "  1.05582159e-17 1.02453464e-22 5.00294653e-20 1.06145635e-21\n",
      "  1.15000075e-18 7.47485498e-15 2.61582301e-14 1.25907445e-17\n",
      "  1.01544622e-14 1.15015787e-14 3.15386869e-16 5.89137847e-15\n",
      "  5.41411559e-24 2.38983888e-14 9.71772767e-17 3.43402543e-19\n",
      "  2.88359170e-17 1.91770918e-17 3.13586620e-16 4.34827711e-16\n",
      "  3.09227400e-14 3.79823375e-16 1.25734197e-15 9.74606853e-16\n",
      "  4.85091142e-18 1.05918194e-15 1.93475205e-21 9.57271143e-18\n",
      "  3.21471924e-17 3.67675035e-15 1.50773943e-17 1.42471284e-19\n",
      "  5.19118730e-17 4.80539186e-15 2.07713239e-15 1.14835913e-18\n",
      "  1.35397102e-14 1.41775731e-16 8.20296580e-15 2.68547906e-14\n",
      "  2.29832096e-14 5.04187135e-15 7.98841871e-18 6.23375687e-17\n",
      "  9.28741733e-19 2.28499379e-15 2.12991564e-14 2.83154688e-18\n",
      "  3.43375317e-18 4.20695406e-16 2.40986858e-15 4.01243193e-16\n",
      "  1.49625238e-15 6.43040941e-16 2.22679035e-14 4.15835162e-17\n",
      "  1.14340751e-16 8.34235545e-16 1.37291542e-14 6.16240593e-17\n",
      "  3.74295296e-21 2.49117697e-19 1.79926446e-17 3.37584008e-16\n",
      "  2.69231274e-15 9.04183935e-16 1.52970661e-14 2.25625224e-14\n",
      "  1.60154881e-16 6.77285122e-16 6.79407828e-20 9.00410560e-15\n",
      "  1.89283639e-15 1.72363089e-15 3.42689666e-15 8.78797601e-16\n",
      "  3.96642814e-19 1.41405834e-16 1.44227511e-17 5.58658004e-16\n",
      "  2.56192800e-15 4.41610183e-22 3.03298579e-16 8.88921310e-16\n",
      "  1.04707943e-17 2.54672626e-17 3.05478275e-20 6.21851320e-17\n",
      "  2.57549956e-14 1.83696329e-19 4.24633632e-16 5.46977027e-16\n",
      "  1.66721211e-15 2.66684149e-15 4.11366308e-17 6.50861743e-15\n",
      "  3.97342796e-16 6.74840900e-18 5.77556386e-16 4.02261380e-18\n",
      "  9.51606695e-16 2.40038277e-15 2.57503735e-15 1.21867213e-16\n",
      "  2.44140480e-14 3.27783228e-16 9.59416870e-16 6.29167300e-20\n",
      "  1.01009740e-15 1.38439291e-14 1.67455649e-14 1.67861869e-15\n",
      "  1.80487861e-17 1.53353737e-15 7.06332457e-15 7.09814842e-15\n",
      "  5.36655268e-17 2.00735201e-14 1.11339875e-16 2.43180487e-18\n",
      "  1.43162885e-14 1.23169831e-14 2.37324882e-19 5.45708227e-16\n",
      "  2.53299527e-14 1.90037620e-19 2.04100384e-17 1.04607924e-15\n",
      "  1.42806623e-16 2.18444627e-16 1.26660641e-20 2.43894365e-14\n",
      "  2.13042667e-19 4.90601301e-15 4.99576157e-16 7.09798243e-18\n",
      "  1.43140558e-20 2.93825963e-18 2.00105948e-14 1.72173443e-16\n",
      "  1.26618919e-17 1.91309958e-14 5.01694061e-18 1.37299518e-15\n",
      "  1.25717213e-17 6.10419979e-20 3.55917588e-16 8.22498779e-21\n",
      "  3.23112201e-16 5.71693953e-15 1.93300640e-17 1.26904884e-14\n",
      "  1.80270912e-18 1.68902274e-14 8.17305015e-17 3.48107374e-19\n",
      "  7.80128833e-15 5.05902413e-16 1.10067362e-17 1.69302499e-14\n",
      "  3.44074671e-17 1.74621158e-14 1.13242639e-15 6.71771636e-19\n",
      "  1.55661902e-20 1.23764524e-18 1.83360117e-23 2.00370918e-15\n",
      "  3.09183866e-14 5.30983834e-16 9.32989174e-20 1.03761350e-16\n",
      "  6.09183722e-17 4.80433688e-17 7.59662271e-17 2.02854903e-17\n",
      "  2.28269399e-18 2.12470876e-22 1.62889932e-14 5.90570656e-18\n",
      "  9.78222117e-15 7.60855749e-15 1.51730072e-17 8.72272249e-18\n",
      "  2.06388787e-14 1.34490297e-17 3.51015136e-16 1.62003856e-18\n",
      "  1.51090927e-16 1.26554580e-15 1.61338881e-15 9.41381129e-15\n",
      "  1.35017249e-15 7.44541382e-17 3.45245325e-20 1.44879673e-17\n",
      "  4.05320181e-16 8.80204857e-23 2.55460011e-14 1.85331218e-15\n",
      "  2.15021547e-15 6.27251200e-16 2.56806432e-16 1.79872245e-15\n",
      "  4.70146061e-15 1.82627246e-18 8.07400583e-19 1.95689942e-18\n",
      "  4.43736564e-15 2.02414580e-14 2.34908328e-17 4.70290921e-15\n",
      "  3.31261495e-16 6.52903665e-19 7.35193715e-15 2.20532559e-17\n",
      "  2.28718155e-18 4.10349763e-15 1.36823090e-14 5.14051281e-17\n",
      "  1.74425962e-15 4.92297352e-15 9.17080991e-16 1.62521423e-14\n",
      "  2.85687291e-14 1.40325605e-16 4.04278997e-15 4.17545733e-21\n",
      "  1.25913363e-16 2.26853921e-16 3.88606737e-15 3.32988727e-19\n",
      "  5.37714290e-16 3.25623411e-20 1.01642396e-16 7.07462320e-15\n",
      "  2.29338439e-23 4.92514945e-16 6.71603915e-15 1.70755589e-14\n",
      "  3.26546617e-18 2.81829880e-14 1.69709449e-14 3.49018735e-17\n",
      "  3.09365142e-15 1.89793821e-14 7.44493383e-15 5.43028966e-16\n",
      "  5.80950612e-22 1.98988437e-15]]\n"
     ]
    }
   ],
   "source": [
    "# Data generation parameters\n",
    "cluster_size = 10\n",
    "dist = 5\n",
    "n_children = 4\n",
    "depth = 3\n",
    "n_nodes = sum(np.power(n_children, d) for d in range(depth + 1))\n",
    "\n",
    "# Sample parameters\n",
    "mu = 0\n",
    "# sigma = np.sqrt(dist / n_children)       # std sigma\n",
    "sigma = np.sqrt(dist)\n",
    "\n",
    "# D, V matrix\n",
    "D = generate_Tree_D(cluster_size, n_children, n_nodes, mu, sigma, dist)\n",
    "V = generate_Tree_V(D, mean=mu, var=np.square(sigma))                       # Also known as P_ij Matrix\n",
    "\n",
    "# Datalabels := [label node 0, label node 1, ... label node n_nodes]\n",
    "dataLabels = np.array([[label for _ in range(cluster_size)] for label in range(n_nodes)]).flatten()\n",
    "print(\"dataLabels shape: \", dataLabels.shape)\n",
    "\n",
    "# print(V[0])\n",
    "# print(D[0])\n",
    "\n",
    "# Sanity check\n",
    "print(\"is D symmetric? \", np.allclose(D, D.T))\n",
    "print(\"is V symmetric? \", np.allclose(V, V.T))\n",
    "print(\"D shape: \", D.shape)\n",
    "\n",
    "# Turn V into a csr matrix (so it works with hyperbolicKL cf)\n",
    "V = csr_matrix(V)\n",
    "\n",
    "print(f\"V[0] max: {np.max(V[0])}, V[0] min: {np.min(V[0])}\")\n",
    "print(V[0].toarray())"
   ]
  },
  {
   "cell_type": "code",
   "execution_count": 32,
   "metadata": {},
   "outputs": [],
   "source": [
    "log_path = \"temp/poincare/\"  # path for saving embedding snapshots\n",
    "grad_path = \"temp/grad/\"     # NOTE: We will manually calculate the gradients\n",
    "data_home = \"datasets\"\n",
    "\n",
    "experiments_folder = \"./experiment_results/\"\n",
    "exp_id = next_experiment_folder_id(experiments_folder)\n",
    "\n",
    "seed = 42\n",
    "correct_gradient = [True, False]                   # NOTE: Recompile with correct flag (GRAD_FIX flag)\n",
    "exact = [True]                               # NOTE: Exact computation or BH estimation of gradient\n",
    "grad_scale_fix = True                        # Whether we multiply the gradient by the inverse metric tensor of hyperbolic space or not\n",
    "                                             # Note that the correct hyperoblic gradient has an inverse metric tensor factor\n",
    "cfs = [HyperbolicKL]\n",
    "\n",
    "# Simple experiment with no exaggeration\n",
    "exaggeration_factor = 12\n",
    "ex_iterations = 1000\n",
    "main_iterations = 50000"
   ]
  },
  {
   "cell_type": "markdown",
   "metadata": {},
   "source": [
    "Compute hyperbolic variance"
   ]
  },
  {
   "cell_type": "code",
   "execution_count": 33,
   "metadata": {},
   "outputs": [
    {
     "name": "stdout",
     "output_type": "stream",
     "text": [
      "scaling sigma first - hyp sigma:0.5159433796695905, hyp var:0.2661975710248792\n"
     ]
    }
   ],
   "source": [
    "def hyp_dist(a, b):\n",
    "        num = (a-b) * (a-b)\n",
    "        denum = (1 - a*a) * (1 - b*b)\n",
    "        return np.arccosh(1 + 2 * (num / denum))\n",
    "\n",
    "# Computing hyperbolic variance using a heuristic method\n",
    "max_dist = np.max(D)                                    # max distance between 2 datapoints in high dim. space\n",
    "size_tol = 0.999\n",
    "max_dist_H = hyp_dist(-size_tol, size_tol)              # the max width we want to adhere to in hyperbolic embeddings\n",
    "hyp_sigma = (max_dist_H / max_dist) * sigma             # sigma computed in above cell\n",
    "hyp_var = np.square(hyp_sigma)\n",
    "\n",
    "print(f\"scaling sigma first - hyp sigma:{hyp_sigma}, hyp var:{hyp_var}\")\n",
    "\n",
    "# Second method for computing hyperoblic variance\n",
    "# hyp_sigma = (1. / max_dist) * sigma"
   ]
  },
  {
   "cell_type": "code",
   "execution_count": 34,
   "metadata": {},
   "outputs": [
    {
     "name": "stdout",
     "output_type": "stream",
     "text": [
      "10.586609649448981\n",
      "15.200804669000828\n",
      "19.806875102572892\n",
      "2.3026300942365725\n"
     ]
    }
   ],
   "source": [
    "print(hyp_dist(-0.99, 0.99))\n",
    "print(hyp_dist(-0.999, 0.999))\n",
    "print(hyp_dist(-0.9999, 0.9999))\n",
    "print(hyp_dist(-0.99999, -0.9999))"
   ]
  },
  {
   "cell_type": "code",
   "execution_count": 35,
   "metadata": {},
   "outputs": [
    {
     "name": "stdout",
     "output_type": "stream",
     "text": [
      "nr. of experiments:  2\n",
      "(<class 'hyperbolicTSNE.cost_functions_.HyperbolicKL'>, True, True)\n",
      "(<class 'hyperbolicTSNE.cost_functions_.HyperbolicKL'>, False, True)\n"
     ]
    }
   ],
   "source": [
    "from itertools import product\n",
    "\n",
    "experiment_details = list(product(cfs, correct_gradient, exact))\n",
    "print(\"nr. of experiments: \", len(experiment_details))\n",
    "\n",
    "for exp in experiment_details:\n",
    "    print(exp)"
   ]
  },
  {
   "cell_type": "code",
   "execution_count": 36,
   "metadata": {},
   "outputs": [
    {
     "name": "stdout",
     "output_type": "stream",
     "text": [
      "[Experiment: 97] \t cf: HyperbolicKL, correct grad: True,  exact grad: True\n",
      "The learning rate is: 0.7083333333333334\n",
      "Please note that `empty_sequence` uses the KL divergence with Barnes-Hut approximation (angle=0.5) by default.\n",
      "config: {'cf': <class 'hyperbolicTSNE.cost_functions_.HyperbolicKL'>, 'learning_rate_ex': 0.7083333333333334, 'learning_rate_main': 0.7083333333333334, 'exaggeration': 12, 'exaggeration_its': 1000, 'gradientDescent_its': 50000, 'vanilla': True, 'momentum_ex': 0.5, 'momentum': 0.2, 'exact': True, 'area_split': False, 'n_iter_check': 2000, 'size_tol': 0.999, 'grad_scale_fix': True, 'grad_fix': True, 'n_iter_without_progress': 17000.0, 'min_grad_norm': 1e-10}\n",
      "[HyperbolicTSNE] Received iterable as input. It should have len=2 and contain (D=None, V=None)\n",
      "[hd_mat] Warning: There is nothing to do with given parameters. Returning given D and V\n",
      "[gradient_descent] Warning: because of logging, the cf will be computed at every iteration\n"
     ]
    },
    {
     "name": "stderr",
     "output_type": "stream",
     "text": [
      "Gradient Descent error: 84.96612 grad_norm: 1.42072e-04: 100%|██████████| 1000/1000 [00:19<00:00, 50.89it/s]\n"
     ]
    },
    {
     "name": "stdout",
     "output_type": "stream",
     "text": [
      "[gradient_descent] Warning: because of logging, the cf will be computed at every iteration\n"
     ]
    },
    {
     "name": "stderr",
     "output_type": "stream",
     "text": [
      "Gradient Descent error: 0.65888 grad_norm: 5.73836e-05:  38%|███▊      | 19000/50000 [05:57<09:42, 53.22it/s]\n"
     ]
    },
    {
     "name": "stdout",
     "output_type": "stream",
     "text": [
      "4\n",
      "Animation being saved to: ./experiment_results/experiment_97//emb_anim.gif\n"
     ]
    },
    {
     "name": "stderr",
     "output_type": "stream",
     "text": [
      "Animating:   0%|          | 0/801 [00:00<?, ?it/s]/Users/haoranxia/Thesis-Delft/hyperbolic-tsne/hyperbolicTSNE/visualization.py:354: UserWarning: You passed in an explicit save_count=50 which is being ignored in favor of frames=801.\n",
      "  anim = FuncAnimation(fig, update, frames=len(scatter_data), interval=50, blit=True, save_count=50)\n",
      "MovieWriter ffmpeg unavailable; using Pillow instead.\n",
      "Animating: : 804it [00:23, 34.13it/s]                       \n"
     ]
    },
    {
     "name": "stdout",
     "output_type": "stream",
     "text": [
      "[Experiment: 98] \t cf: HyperbolicKL, correct grad: False,  exact grad: True\n",
      "The learning rate is: 0.7083333333333334\n",
      "Please note that `empty_sequence` uses the KL divergence with Barnes-Hut approximation (angle=0.5) by default.\n",
      "config: {'cf': <class 'hyperbolicTSNE.cost_functions_.HyperbolicKL'>, 'learning_rate_ex': 0.7083333333333334, 'learning_rate_main': 0.7083333333333334, 'exaggeration': 12, 'exaggeration_its': 1000, 'gradientDescent_its': 50000, 'vanilla': True, 'momentum_ex': 0.5, 'momentum': 0.2, 'exact': True, 'area_split': False, 'n_iter_check': 2000, 'size_tol': 0.999, 'grad_scale_fix': True, 'grad_fix': False, 'n_iter_without_progress': 17000.0, 'min_grad_norm': 1e-10}\n",
      "[HyperbolicTSNE] Received iterable as input. It should have len=2 and contain (D=None, V=None)\n",
      "[hd_mat] Warning: There is nothing to do with given parameters. Returning given D and V\n",
      "[gradient_descent] Warning: because of logging, the cf will be computed at every iteration\n"
     ]
    },
    {
     "name": "stderr",
     "output_type": "stream",
     "text": [
      "Gradient Descent error: 84.96612 grad_norm: 1.42072e-04: 100%|██████████| 1000/1000 [00:17<00:00, 56.00it/s]\n"
     ]
    },
    {
     "name": "stdout",
     "output_type": "stream",
     "text": [
      "[gradient_descent] Warning: because of logging, the cf will be computed at every iteration\n"
     ]
    },
    {
     "name": "stderr",
     "output_type": "stream",
     "text": [
      "Gradient Descent error: 0.65888 grad_norm: 5.73836e-05:  38%|███▊      | 19000/50000 [06:20<10:20, 49.94it/s]\n"
     ]
    },
    {
     "name": "stdout",
     "output_type": "stream",
     "text": [
      "4\n",
      "Animation being saved to: ./experiment_results/experiment_98//emb_anim.gif\n"
     ]
    },
    {
     "name": "stderr",
     "output_type": "stream",
     "text": [
      "Animating:   0%|          | 0/801 [00:00<?, ?it/s]/Users/haoranxia/Thesis-Delft/hyperbolic-tsne/hyperbolicTSNE/visualization.py:354: UserWarning: You passed in an explicit save_count=50 which is being ignored in favor of frames=801.\n",
      "  anim = FuncAnimation(fig, update, frames=len(scatter_data), interval=50, blit=True, save_count=50)\n",
      "MovieWriter ffmpeg unavailable; using Pillow instead.\n",
      "Animating: : 804it [00:24, 33.45it/s]                       \n"
     ]
    },
    {
     "data": {
      "image/png": "[encoded data removed]",
      "text/plain": [
       "<Figure size 640x480 with 1 Axes>"
      ]
     },
     "metadata": {},
     "output_type": "display_data"
    },
    {
     "data": {
      "image/png": "[encoded data removed]",
      "text/plain": [
       "<Figure size 640x480 with 1 Axes>"
      ]
     },
     "metadata": {},
     "output_type": "display_data"
    }
   ],
   "source": [
    "# Run experiments\n",
    "for (cf, correct_grad, exact_grad) in experiment_details:\n",
    "    print(f\"[Experiment: {exp_id}] \\t cf: {cf.class_str()}, correct grad: {correct_grad},  exact grad: {exact_grad}\")\n",
    "    \n",
    "    # (1) Compute initial embedding in Poincare disk (PCA embedding)\n",
    "    X_embedded = initialization(\n",
    "        n_samples=D.shape[0], \n",
    "        n_components=2,\n",
    "        X=None,\n",
    "        random_state=seed,\n",
    "        method=\"random\",\n",
    "        init_scale=1e-4         # spread out initializations more\n",
    "    ) \n",
    "\n",
    "    # Initialize config and parameters\n",
    "    if cf == GaussianKL:\n",
    "        learning_rate = D.shape[0] / (exaggeration_factor * 10) * hyp_var\n",
    "\n",
    "    # NOTE: Change lr. depending on wrong/correct HyperbolicKL\n",
    "    elif cf == HyperbolicKL:\n",
    "        learning_rate = D.shape[0] / (exaggeration_factor * 100)\n",
    "\n",
    "    print(f\"The learning rate is: {learning_rate}\")\n",
    "\n",
    "    no_progr_its = (ex_iterations + main_iterations) / 3        # nr. of iterations of no progress before we stop\n",
    "\n",
    "    opt_conf = opt_config(cf, learning_rate, exaggeration_factor, ex_iterations, main_iterations, \n",
    "                          exact=exact_grad, vanilla=True, grad_scale_fix=grad_scale_fix, \n",
    "                          grad_fix=correct_grad, size_tol=size_tol, max_no_progress=no_progr_its)\n",
    "    opt_params = SequentialOptimizer.sequence_poincare(**opt_conf) \n",
    "\n",
    "    log_path_cf = log_path + f\"cf_{cf.class_str()}/correct_grad_{correct_gradient}/\"\n",
    "    grad_path_grad = grad_path + f\"cf_{cf.class_str()}/correct_grad_{correct_gradient}/\"\n",
    "\n",
    "    # (3) Update config params using computed variance\n",
    "    opt_params, opt_conf = initialize_logger(opt_params, opt_conf, log_path_cf, grad_path_grad)\n",
    "    opt_params[\"cf_params\"].update({\"grad_fix\" : correct_gradient})     # So the cost function knows which gradient to use\n",
    "    \n",
    "    # Only add var as param for GaussianKL\n",
    "    if cf == GaussianKL:\n",
    "        opt_params[\"cf_params\"].update({\"var\" : hyp_var})                  # GaussianKL variance for q_ij\n",
    "\n",
    "    # (4) Set up t-SNE object and run\n",
    "    htsne = HyperbolicTSNE(\n",
    "        init=X_embedded, \n",
    "        n_components=2, \n",
    "        metric=\"precomputed\",\n",
    "        verbose=1, \n",
    "        opt_method=SequentialOptimizer,         # the optimizater we use\n",
    "        opt_params=opt_params              # the parameters for the optimizers\n",
    "        )\n",
    "\n",
    "    # Compute embedding:\n",
    "    try:\n",
    "        hyperbolicEmbedding = htsne.fit_transform((D, V))\n",
    "        \n",
    "    except ValueError:\n",
    "        hyperbolicEmbedding = find_last_embedding(log_path)\n",
    "        traceback.print_exc()\n",
    "\n",
    "    # (5) Plot the embedding (NOTE: We can also use plot_poincare)\n",
    "    # emb_fig = plot_poincare(hyperbolicEmbedding, dataLabels)\n",
    "    emb_fig = plot_tree(hyperbolicEmbedding, dataLabels)\n",
    "\n",
    "    # (6) Store experiment results\n",
    "    # folder to save results to\n",
    "    save_folder = f\"./experiment_results/experiment_{exp_id}/\"   \n",
    "\n",
    "    # dictionary containing relevant details of this experiment\n",
    "    optim_procedure = \"Vanilla SGD\"\n",
    "    description = \"Wrong gradient, tree data experiment with HyperbolicKL. More iterations, larger lr.\"\n",
    "    \n",
    "    if cf == GaussianKL:\n",
    "        exp_data = GaussianKL_Tree_results(n_children, depth, cluster_size, dist, n_nodes, htsne, ex_iterations,\n",
    "                                            main_iterations, cf, hyp_var, size_tol, max_dist_H, max_dist,\n",
    "                                            correct_grad, grad_scale_fix, exact_grad, exaggeration_factor, \n",
    "                                            optim_procedure, description)\n",
    "    elif cf == HyperbolicKL:\n",
    "        exp_data = HyperbolicKL_Tree_results(n_children, depth, cluster_size, dist, n_nodes, htsne, ex_iterations,\n",
    "                                             main_iterations, cf, correct_grad, grad_scale_fix, exact_grad, exaggeration_factor, \n",
    "                                             optim_procedure, description)\n",
    "    \n",
    "    # Prepare index for next iteration\n",
    "    exp_id += 1    \n",
    " \n",
    "    animation_step = 25\n",
    "    save_experiment_results(save_folder, None, emb_fig, opt_params, dataLabels, \n",
    "                            exp_data, hyperbolicEmbedding, animation_step)"
   ]
  }
 ],
 "metadata": {
  "kernelspec": {
   "display_name": "delft_thesis",
   "language": "python",
   "name": "python3"
  },
  "language_info": {
   "codemirror_mode": {
    "name": "ipython",
    "version": 3
   },
   "file_extension": ".py",
   "mimetype": "text/x-python",
   "name": "python",
   "nbconvert_exporter": "python",
   "pygments_lexer": "ipython3",
   "version": "3.9.16"
  }
 },
 "nbformat": 4,
 "nbformat_minor": 2
}
