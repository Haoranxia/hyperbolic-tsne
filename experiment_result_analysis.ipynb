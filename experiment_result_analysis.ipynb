{
 "cells": [
  {
   "cell_type": "code",
   "execution_count": 41,
   "metadata": {},
   "outputs": [],
   "source": [
    "import os\n",
    "from pathlib import Path \n",
    "import traceback\n",
    "import numpy as np\n",
    "from numpy import linalg as LA\n",
    "from matplotlib import pyplot as plt\n",
    "import json"
   ]
  },
  {
   "cell_type": "markdown",
   "metadata": {},
   "source": [
    "# Cost function comparison\n",
    "\n",
    "We compare the cost functions of between the two versions of the gradient. Specifically:\n",
    "\\\n",
    "(correct gradient, yes scale_fix) and (wrong gradient, no scale_fix)\n"
   ]
  },
  {
   "cell_type": "code",
   "execution_count": 42,
   "metadata": {},
   "outputs": [],
   "source": [
    "def plot_comparison(data1, data2, label1, label2, title):\n",
    "    fig, ax = plt.subplots()\n",
    "    \n",
    "    xs = np.arange(0, data1.shape[0])\n",
    "    ax.scatter(xs, data1, label=label1, s=1)\n",
    "    ax.scatter(xs, data2, label=label2, s=1)\n",
    "    ax.set_title(title)\n",
    "    ax.legend()\n",
    "\n",
    "    return fig"
   ]
  },
  {
   "cell_type": "code",
   "execution_count": 43,
   "metadata": {},
   "outputs": [],
   "source": [
    "def plot_experiments(experiments):\n",
    "    for (exp1, exp2) in experiments:\n",
    "        # File paths\n",
    "        # NOTE: Change these for different comparisons\n",
    "        folder_path_1 = \"experiment_results/\"\n",
    "        exp_1 = f\"experiment_{exp1}/cfs.txt\"\n",
    "        exp_1_cf = np.loadtxt(folder_path_1 + exp_1)\n",
    "\n",
    "        folder_path_2 = \"experiment_results/\"\n",
    "        exp_2 = f\"experiment_{exp2}/cfs.txt\"\n",
    "        exp_2_cf = np.loadtxt(folder_path_2 + exp_2)\n",
    "\n",
    "        # Load data\n",
    "        exp_1_cf = np.loadtxt(folder_path_1 + exp_1)\n",
    "        exp_2_cf = np.loadtxt(folder_path_2 + exp_2)\n",
    "\n",
    "        # If array sizes mismatch, fix it\n",
    "        if exp_1_cf.shape[0] > exp_2_cf.shape[0]:\n",
    "            exp_2_cf_padded = np.ones_like(exp_1_cf) * exp_2_cf[-1]    # If there are no more values, just take last value\n",
    "            exp_2_cf_padded[:exp_2_cf.shape[0]] = exp_2_cf\n",
    "            exp_2_cf = exp_2_cf_padded\n",
    "        else:\n",
    "            # exp_2_cf.shape[0] > exp_1_cf.shape[0]\n",
    "            exp_1_cf_padded = np.ones_like(exp_2_cf) * exp_1_cf[-1]\n",
    "            exp_1_cf_padded[:exp_1_cf.shape[0]] = exp_1_cf\n",
    "            exp_1_cf = exp_1_cf_padded\n",
    "\n",
    "        # Load experiment details\n",
    "        json_1 = folder_path_1 + f\"experiment_{exp1}/data.json\"\n",
    "        with open(json_1, \"r\") as f:\n",
    "            details_1 = json.load(f)\n",
    "\n",
    "        json_2 = folder_path_2 + f\"experiment_{exp2}/data.json\"\n",
    "        with open(json_2, \"r\") as f:\n",
    "            details_2 = json.load(f)\n",
    "\n",
    "        # NOTE: Remove early exag. ?\n",
    "        \n",
    "        lr1 = details_1[\"learning_rate\"]\n",
    "        lr2 = details_2[\"learning_rate\"]\n",
    "        exag1 = details_1[\"ex_iterations\"]\n",
    "        exag2 = details_2[\"ex_iterations\"]\n",
    "\n",
    "        # Plot data\n",
    "        fig = plot_comparison(exp_1_cf[exag1:], exp_2_cf[exag2:], \"Wrong grad\", \"Correct grad\", f\"CF Values - (Wrong {exp1}, {lr1} vs Correct {exp2}, {lr2})\")\n"
   ]
  },
  {
   "cell_type": "markdown",
   "metadata": {},
   "source": [
    "### Compare the following experiments:\n",
    "- laptop 107 vs pc 35 (MNIST)\n",
    "- laptop 108 vs pc 36 (MNIST)\n",
    "- laptop 113 vs pc 40 (C_ELEGANS)\n",
    "- laptop 114 vs pc 41 (C_ELEGANS)\n",
    "- laptop 115 vs pc 42 (C_ELEGANS)\n",
    "- laptop 116 vs laptop 119 (PLANARIA)\n",
    "- laptop 117 vs laptop 120 (PLANARIA)\n",
    "- laptop 118 vs laptop 121 (PLANARIA)"
   ]
  }
 ],
 "metadata": {
  "kernelspec": {
   "display_name": "delft_thesis",
   "language": "python",
   "name": "python3"
  },
  "language_info": {
   "codemirror_mode": {
    "name": "ipython",
    "version": 3
   },
   "file_extension": ".py",
   "mimetype": "text/x-python",
   "name": "python",
   "nbconvert_exporter": "python",
   "pygments_lexer": "ipython3",
   "version": "3.9.16"
  }
 },
 "nbformat": 4,
 "nbformat_minor": 2
}
