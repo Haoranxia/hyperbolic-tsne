{
 "cells": [
  {
   "cell_type": "code",
   "execution_count": 1,
   "metadata": {},
   "outputs": [
    {
     "name": "stdout",
     "output_type": "stream",
     "text": [
      "Please note that `empty_sequence` uses the KL divergence with Barnes-Hut approximation (angle=0.5) by default.\n"
     ]
    }
   ],
   "source": [
    "import os\n",
    "import traceback\n",
    "\n",
    "from hyperbolicTSNE import Datasets, load_data\n",
    "from hyperbolicTSNE import Datasets\n",
    "from hyperbolicTSNE.visualization import plot_poincare, animate"
   ]
  },
  {
   "cell_type": "markdown",
   "metadata": {},
   "source": [
    "Testing numpy functionality"
   ]
  },
  {
   "cell_type": "code",
   "execution_count": 2,
   "metadata": {},
   "outputs": [
    {
     "name": "stdout",
     "output_type": "stream",
     "text": [
      "(3, 3)\n",
      "[[1 1 1]\n",
      " [4 4 4]\n",
      " [9 9 9]]\n",
      "[ 3 12 27]\n"
     ]
    }
   ],
   "source": [
    "import numpy as np\n",
    "from numpy import linalg as LA \n",
    "\n",
    "y = np.array([[1, 1, 1], [2, 2, 2], [3, 3, 3]])\n",
    "print(y.shape)\n",
    "\n",
    "yy = (y * y)\n",
    "print(yy)\n",
    "\n",
    "norms = yy.sum(axis=1)\n",
    "print(norms)"
   ]
  },
  {
   "cell_type": "markdown",
   "metadata": {},
   "source": [
    "Testing global hsne high dim. matrix function"
   ]
  },
  {
   "cell_type": "code",
   "execution_count": 3,
   "metadata": {},
   "outputs": [],
   "source": [
    "from hyperbolicTSNE.hd_mat_ import globalhsne_D_V"
   ]
  },
  {
   "cell_type": "code",
   "execution_count": 2,
   "metadata": {},
   "outputs": [
    {
     "name": "stderr",
     "output_type": "stream",
     "text": [
      "/Users/haoranxia/Thesis-Delft/hyperbolic-tsne/hyperbolicTSNE/data_loaders.py:253: FutureWarning: You are using `torch.load` with `weights_only=False` (the current default value), which uses the default pickle module implicitly. It is possible to construct malicious pickle data which will execute arbitrary code during unpickling (See https://github.com/pytorch/pytorch/blob/main/SECURITY.md#untrusted-models for more details). In a future release, the default value for `weights_only` will be flipped to `True`. This limits the functions that could be executed during unpickling. Arbitrary objects will no longer be allowed to be loaded via this mode unless they are explicitly allowlisted by the user via `torch.serialization.add_safe_globals`. We recommend you start setting `weights_only=True` for any use case where you don't have full control of the loaded file. Please open an issue on GitHub for any issues related to this experimental feature.\n",
      "  model = torch.load(str(Path.joinpath(full_path, \"nouns.bin.best\")))\n"
     ]
    }
   ],
   "source": [
    "data_home = \"datasets\"\n",
    "log_path = \"temp/poincare/\"  # path for saving embedding snapshots\n",
    "\n",
    "dataset = Datasets.WORDNET\n",
    "\n",
    "pca_components = 50 \n",
    "seed = 42 \n",
    "perplexity = 50\n",
    "np = -1\n",
    "\n",
    "# load data\n",
    "dataX, dataLabels, D, V, *rest = load_data(\n",
    "        dataset, \n",
    "        data_home=data_home, \n",
    "        pca_components=pca_components,\n",
    "        random_state=seed, \n",
    "        to_return=\"X_labels_D_V\",\n",
    "        hd_params={\"perplexity\": perplexity}, \n",
    "        sample=np, \n",
    "        knn_method=\"hnswlib\"  # we use an approximation of high-dimensional neighbors to speed up computations\n",
    "    )\n",
    "\n",
    "# Regular p_ij found in D, V\n",
    "\n",
    "# Determine a good value for nr of neighbours\n",
    "# TODO: A better way to figure this out? Maybe use quadtree to compute D_hat, V_hat\n",
    "# n_neighbours = 100\n",
    "\n",
    "# # get global p_ij (p_ij hat in paper)\n",
    "# D_hat, V_hat = globalhsne_D_V(dataX, n_neighbours=n_neighbours)\n",
    "\n",
    "# print(D_hat.shape)\n",
    "# print(V_hat.shape)"
   ]
  },
  {
   "cell_type": "code",
   "execution_count": 3,
   "metadata": {},
   "outputs": [
    {
     "name": "stdout",
     "output_type": "stream",
     "text": [
      "(82115, 11) (82115,)\n"
     ]
    }
   ],
   "source": [
    "print(dataX.shape, dataLabels.shape)"
   ]
  }
 ],
 "metadata": {
  "kernelspec": {
   "display_name": "delft_thesis",
   "language": "python",
   "name": "python3"
  },
  "language_info": {
   "codemirror_mode": {
    "name": "ipython",
    "version": 3
   },
   "file_extension": ".py",
   "mimetype": "text/x-python",
   "name": "python",
   "nbconvert_exporter": "python",
   "pygments_lexer": "ipython3",
   "version": "3.9.16"
  }
 },
 "nbformat": 4,
 "nbformat_minor": 2
}
