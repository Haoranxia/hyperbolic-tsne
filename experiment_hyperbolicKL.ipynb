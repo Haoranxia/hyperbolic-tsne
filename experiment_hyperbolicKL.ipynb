{
 "cells": [
  {
   "cell_type": "code",
   "execution_count": 269,
   "metadata": {},
   "outputs": [
    {
     "name": "stdout",
     "output_type": "stream",
     "text": [
      "The autoreload extension is already loaded. To reload it, use:\n",
      "  %reload_ext autoreload\n"
     ]
    }
   ],
   "source": [
    "%load_ext autoreload\n",
    "%autoreload 2"
   ]
  },
  {
   "cell_type": "code",
   "execution_count": 270,
   "metadata": {},
   "outputs": [],
   "source": [
    "# General imports\n",
    "import os\n",
    "from pathlib import Path \n",
    "import traceback\n",
    "import numpy as np\n",
    "from numpy import linalg as LA\n",
    "from matplotlib import pyplot as plt\n",
    "from scipy.sparse import csr_matrix\n",
    "\n",
    "# HyperbolicTSNE imports\n",
    "from hyperbolicTSNE import Datasets, load_data\n",
    "from hyperbolicTSNE import Datasets, SequentialOptimizer, initialization, HyperbolicTSNE\n",
    "from hyperbolicTSNE.cost_functions_ import HyperbolicKL, GaussianKL\n",
    "from hyperbolicTSNE.util import find_last_embedding, opt_config, initialize_logger, save_experiment_results\n",
    "from hyperbolicTSNE.data_loaders import load_mnist\n",
    "from hyperbolicTSNE.hd_mat_ import hd_matrix\n",
    "from hyperbolicTSNE.visualization import plot_poincare\n",
    "\n",
    "# Data generation function\n",
    "from data_gen import generate_Tree_D, generate_Tree_V"
   ]
  },
  {
   "cell_type": "markdown",
   "metadata": {},
   "source": [
    "# Dataset generation code\n",
    "Generate a specific set of samples we want to use.\n",
    "Right now we want 10 samples of data with labels 2 and 4."
   ]
  },
  {
   "cell_type": "markdown",
   "metadata": {},
   "source": [
    "# Preperation for running embedding\n",
    "Get the distance matrix and affinity matrix of our samples\n",
    "Generate custom dataset (see below)"
   ]
  },
  {
   "cell_type": "code",
   "execution_count": 271,
   "metadata": {},
   "outputs": [
    {
     "name": "stdout",
     "output_type": "stream",
     "text": [
      "dataLabels shape:  (850,)\n",
      "is D symmetric?  True\n",
      "is V symmetric?  True\n",
      "D shape:  (850, 850)\n"
     ]
    }
   ],
   "source": [
    "# Data generation parameters\n",
    "cluster_size = 10\n",
    "dist = 5\n",
    "n_children = 4\n",
    "depth = 3\n",
    "n_nodes = sum(np.power(n_children, d) for d in range(depth + 1))\n",
    "\n",
    "# Sample parameters\n",
    "mu = 0\n",
    "#sigma = 1\n",
    "sigma = np.sqrt(dist)       # std sigma\n",
    "\n",
    "# D, V matrix\n",
    "D = generate_Tree_D(cluster_size, n_children, n_nodes, mu, sigma, dist)\n",
    "V = generate_Tree_V(D, mean=mu, var=np.square(sigma))                       # Also known as P_ij Matrix\n",
    "\n",
    "# Datalabels := [label node 0, label node 1, ... label node n_nodes]\n",
    "dataLabels = np.array([[label for _ in range(cluster_size)] for label in range(n_nodes)]).flatten()\n",
    "print(\"dataLabels shape: \", dataLabels.shape)\n",
    "\n",
    "# print(V[0])\n",
    "# print(D[0])\n",
    "\n",
    "# Sanity check\n",
    "print(\"is D symmetric? \", np.allclose(D, D.T))\n",
    "print(\"is V symmetric? \", np.allclose(V, V.T))\n",
    "print(\"D shape: \", D.shape)\n",
    "\n",
    "# Turn V into a csr matrix (so it works with hyperbolicKL cf)\n",
    "V = csr_matrix(V)"
   ]
  },
  {
   "cell_type": "markdown",
   "metadata": {},
   "source": [
    "# Initialization"
   ]
  },
  {
   "cell_type": "markdown",
   "metadata": {},
   "source": [
    "General initialization values"
   ]
  },
  {
   "cell_type": "code",
   "execution_count": null,
   "metadata": {},
   "outputs": [],
   "source": [
    "log_path = \"temp/poincare/\"  # path for saving embedding snapshots\n",
    "grad_path = \"temp/grad/\"     # NOTE: We will manually calculate the gradients\n",
    "data_home = \"datasets\"\n",
    "\n",
    "exp_id = 21                                      # NOTE: Manually adjust this based on which id we want to save to\n",
    "seed = 42\n",
    "correct_gradient = [True]                        # NOTE: Recompile with correct flag (GRAD_FIX flag)\n",
    "exact = [True]                                  # NOTE: Exact computation or BH estimation of gradient\n",
    "grad_scale_fix = True                            # Whether we multiply the gradient by the inverse metric tensor of hyperbolic space or not\n",
    "                                                 # Note that the correct hyperoblic gradient has an inverse metric tensor factor\n",
    "\n",
    "# Simple experiment with no exaggeration\n",
    "exaggeration_factor = 12\n",
    "ex_iterations = 100\n",
    "main_iterations = 1000"
   ]
  },
  {
   "cell_type": "markdown",
   "metadata": {},
   "source": [
    "Initialization values for the non custom datasets"
   ]
  },
  {
   "cell_type": "code",
   "execution_count": 273,
   "metadata": {},
   "outputs": [],
   "source": [
    "datasets = [Datasets.MNIST]\n",
    "num_points = [0.25]\n",
    "perplexities = [50]\n",
    "pca_components = [50]                              # Whether to use pca initialization of high dim. data or not"
   ]
  },
  {
   "cell_type": "code",
   "execution_count": 274,
   "metadata": {},
   "outputs": [
    {
     "name": "stdout",
     "output_type": "stream",
     "text": [
      "nr. of experiments:  1\n"
     ]
    }
   ],
   "source": [
    "from itertools import product\n",
    "\n",
    "experiment_details = list(product(datasets, num_points, perplexities, pca_components, correct_gradient, exact))\n",
    "print(\"nr. of experiments: \", len(experiment_details))"
   ]
  },
  {
   "cell_type": "markdown",
   "metadata": {},
   "source": [
    "Code for running a bunch of experiments at the same time (types of experiments defined above)"
   ]
  },
  {
   "cell_type": "code",
   "execution_count": 275,
   "metadata": {},
   "outputs": [
    {
     "name": "stdout",
     "output_type": "stream",
     "text": [
      "Experiment:  21 settings:  Datasets.MNIST 0.25 50 50 True True\n",
      "Please note that `empty_sequence` uses the KL divergence with Barnes-Hut approximation (angle=0.5) by default.\n",
      "scaling sigma first:    hyp sigma:8.487553613940675e-07, hyp var:0.1\n",
      "config: {'cf': <class 'hyperbolicTSNE.cost_functions_.GaussianKL'>, 'learning_rate_ex': 1.4583333333333333, 'learning_rate_main': 1.4583333333333333, 'exaggeration': 12, 'exaggeration_its': 500, 'gradientDescent_its': 1000, 'vanilla': True, 'momentum_ex': 0.5, 'momentum': 0.2, 'exact': [True], 'area_split': False, 'n_iter_check': 1000, 'size_tol': 0.999, 'grad_scale_fix': True, 'grad_fix': [True]}\n",
      "[HyperbolicTSNE] Received iterable as input. It should have len=2 and contain (D=None, V=None)\n",
      "[hd_mat] Warning: There is nothing to do with given parameters. Returning given D and V\n",
      "Running Gradient Descent, Verbosity: 1\n",
      "[gradient_descent] Warning: because of logging, the cf will be computed at every iteration\n"
     ]
    },
    {
     "name": "stderr",
     "output_type": "stream",
     "text": [
      "Gradient Descent error: 98.21852 grad_norm: 6.54455e-04:   1%|          | 6/500 [00:11<15:45,  1.91s/it]\n"
     ]
    },
    {
     "ename": "KeyboardInterrupt",
     "evalue": "",
     "output_type": "error",
     "traceback": [
      "\u001b[0;31m---------------------------------------------------------------------------\u001b[0m",
      "\u001b[0;31mKeyboardInterrupt\u001b[0m                         Traceback (most recent call last)",
      "Cell \u001b[0;32mIn[275], line 76\u001b[0m\n\u001b[1;32m     74\u001b[0m \u001b[38;5;66;03m# Compute embedding:\u001b[39;00m\n\u001b[1;32m     75\u001b[0m \u001b[38;5;28;01mtry\u001b[39;00m:\n\u001b[0;32m---> 76\u001b[0m     hyperbolicEmbedding \u001b[38;5;241m=\u001b[39m \u001b[43mhtsne\u001b[49m\u001b[38;5;241;43m.\u001b[39;49m\u001b[43mfit_transform\u001b[49m\u001b[43m(\u001b[49m\u001b[43m(\u001b[49m\u001b[43mD\u001b[49m\u001b[43m,\u001b[49m\u001b[43m \u001b[49m\u001b[43mV\u001b[49m\u001b[43m)\u001b[49m\u001b[43m)\u001b[49m\n\u001b[1;32m     78\u001b[0m \u001b[38;5;28;01mexcept\u001b[39;00m \u001b[38;5;167;01mValueError\u001b[39;00m:\n\u001b[1;32m     79\u001b[0m     hyperbolicEmbedding \u001b[38;5;241m=\u001b[39m find_last_embedding(log_path)\n",
      "File \u001b[0;32m~/Thesis-Delft/hyperbolic-tsne/hyperbolicTSNE/hyperbolic_tsne_.py:245\u001b[0m, in \u001b[0;36mHyperbolicTSNE.fit_transform\u001b[0;34m(self, X, Y)\u001b[0m\n\u001b[1;32m    228\u001b[0m \u001b[38;5;28;01mdef\u001b[39;00m \u001b[38;5;21mfit_transform\u001b[39m(\u001b[38;5;28mself\u001b[39m, X, Y\u001b[38;5;241m=\u001b[39m\u001b[38;5;28;01mNone\u001b[39;00m):\n\u001b[1;32m    229\u001b[0m \u001b[38;5;250m    \u001b[39m\u001b[38;5;124;03m\"\"\"Fit X into an embedded space and return that transformed output.\u001b[39;00m\n\u001b[1;32m    230\u001b[0m \u001b[38;5;124;03m    Parameters\u001b[39;00m\n\u001b[1;32m    231\u001b[0m \u001b[38;5;124;03m    ----------\u001b[39;00m\n\u001b[0;32m   (...)\u001b[0m\n\u001b[1;32m    243\u001b[0m \u001b[38;5;124;03m        Embedding of the training data in low-dimensional space.\u001b[39;00m\n\u001b[1;32m    244\u001b[0m \u001b[38;5;124;03m    \"\"\"\u001b[39;00m\n\u001b[0;32m--> 245\u001b[0m     X_embedded, cf, runtime, its \u001b[38;5;241m=\u001b[39m \u001b[38;5;28;43mself\u001b[39;49m\u001b[38;5;241;43m.\u001b[39;49m\u001b[43m_fit\u001b[49m\u001b[43m(\u001b[49m\u001b[43mX\u001b[49m\u001b[43m)\u001b[49m\n\u001b[1;32m    246\u001b[0m     \u001b[38;5;28mself\u001b[39m\u001b[38;5;241m.\u001b[39membedding_ \u001b[38;5;241m=\u001b[39m X_embedded\n\u001b[1;32m    247\u001b[0m     \u001b[38;5;28mself\u001b[39m\u001b[38;5;241m.\u001b[39mcf \u001b[38;5;241m=\u001b[39m cf \n",
      "File \u001b[0;32m~/Thesis-Delft/hyperbolic-tsne/hyperbolicTSNE/hyperbolic_tsne_.py:224\u001b[0m, in \u001b[0;36mHyperbolicTSNE._fit\u001b[0;34m(self, X)\u001b[0m\n\u001b[1;32m    220\u001b[0m \u001b[38;5;28mself\u001b[39m\u001b[38;5;241m.\u001b[39moptimizer \u001b[38;5;241m=\u001b[39m \u001b[38;5;28mself\u001b[39m\u001b[38;5;241m.\u001b[39mopt_method(\n\u001b[1;32m    221\u001b[0m     Y0\u001b[38;5;241m=\u001b[39mX_embedded, V\u001b[38;5;241m=\u001b[39mV, n_components\u001b[38;5;241m=\u001b[39m\u001b[38;5;28mself\u001b[39m\u001b[38;5;241m.\u001b[39mn_components, other_params\u001b[38;5;241m=\u001b[39m\u001b[38;5;28mself\u001b[39m\u001b[38;5;241m.\u001b[39mopt_params, verbose\u001b[38;5;241m=\u001b[39m\u001b[38;5;28mself\u001b[39m\u001b[38;5;241m.\u001b[39mverbose)\n\u001b[1;32m    223\u001b[0m \u001b[38;5;66;03m# Compute embeddings\u001b[39;00m\n\u001b[0;32m--> 224\u001b[0m X_embedded, cf, runtime, its \u001b[38;5;241m=\u001b[39m \u001b[38;5;28;43mself\u001b[39;49m\u001b[38;5;241;43m.\u001b[39;49m\u001b[43moptimizer\u001b[49m\u001b[38;5;241;43m.\u001b[39;49m\u001b[43mrun\u001b[49m\u001b[43m(\u001b[49m\u001b[43m)\u001b[49m\n\u001b[1;32m    226\u001b[0m \u001b[38;5;28;01mreturn\u001b[39;00m X_embedded, cf, runtime, its\n",
      "File \u001b[0;32m~/Thesis-Delft/hyperbolic-tsne/hyperbolicTSNE/optimizer_.py:167\u001b[0m, in \u001b[0;36mSequentialOptimizer.run\u001b[0;34m(self)\u001b[0m\n\u001b[1;32m    164\u001b[0m se[\u001b[38;5;124m\"\u001b[39m\u001b[38;5;124mparams\u001b[39m\u001b[38;5;124m\"\u001b[39m][\u001b[38;5;124m\"\u001b[39m\u001b[38;5;124mverbose\u001b[39m\u001b[38;5;124m\"\u001b[39m] \u001b[38;5;241m=\u001b[39m \u001b[38;5;28mself\u001b[39m\u001b[38;5;241m.\u001b[39mverbose\n\u001b[1;32m    166\u001b[0m \u001b[38;5;66;03m# Start: logging\u001b[39;00m\n\u001b[0;32m--> 167\u001b[0m \u001b[38;5;28mself\u001b[39m\u001b[38;5;241m.\u001b[39mY, \u001b[38;5;28mself\u001b[39m\u001b[38;5;241m.\u001b[39mcf_val, its \u001b[38;5;241m=\u001b[39m \u001b[43mse\u001b[49m\u001b[43m[\u001b[49m\u001b[38;5;124;43m\"\u001b[39;49m\u001b[38;5;124;43mfunction\u001b[39;49m\u001b[38;5;124;43m\"\u001b[39;49m\u001b[43m]\u001b[49m\u001b[43m(\u001b[49m\n\u001b[1;32m    168\u001b[0m \u001b[43m    \u001b[49m\u001b[38;5;28;43mself\u001b[39;49m\u001b[38;5;241;43m.\u001b[39;49m\u001b[43mY\u001b[49m\u001b[43m,\u001b[49m\u001b[43m \u001b[49m\u001b[38;5;28;43mself\u001b[39;49m\u001b[38;5;241;43m.\u001b[39;49m\u001b[43mcf\u001b[49m\u001b[43m,\u001b[49m\u001b[43m \u001b[49m\u001b[38;5;28;43mdict\u001b[39;49m\u001b[43m(\u001b[49m\u001b[43m{\u001b[49m\u001b[38;5;124;43m\"\u001b[39;49m\u001b[38;5;124;43mV\u001b[39;49m\u001b[38;5;124;43m\"\u001b[39;49m\u001b[43m:\u001b[49m\u001b[43m \u001b[49m\u001b[38;5;28;43mself\u001b[39;49m\u001b[38;5;241;43m.\u001b[39;49m\u001b[43mV\u001b[49m\u001b[43m}\u001b[49m\u001b[43m,\u001b[49m\u001b[43m \u001b[49m\u001b[38;5;241;43m*\u001b[39;49m\u001b[38;5;241;43m*\u001b[39;49m\u001b[38;5;28;43mself\u001b[39;49m\u001b[38;5;241;43m.\u001b[39;49m\u001b[43mparams\u001b[49m\u001b[43m[\u001b[49m\u001b[38;5;124;43m\"\u001b[39;49m\u001b[38;5;124;43mcf_params\u001b[39;49m\u001b[38;5;124;43m\"\u001b[39;49m\u001b[43m]\u001b[49m\u001b[43m)\u001b[49m\u001b[43m,\u001b[49m\u001b[43m \u001b[49m\u001b[43mlogging_key\u001b[49m\u001b[38;5;241;43m=\u001b[39;49m\u001b[38;5;124;43m\"\u001b[39;49m\u001b[38;5;124;43msequential_opt_\u001b[39;49m\u001b[38;5;124;43m\"\u001b[39;49m\u001b[43m \u001b[49m\u001b[38;5;241;43m+\u001b[39;49m\u001b[43m \u001b[49m\u001b[38;5;28;43mstr\u001b[39;49m\u001b[43m(\u001b[49m\u001b[43msolver_counter\u001b[49m\u001b[43m)\u001b[49m\u001b[43m,\u001b[49m\u001b[43m \u001b[49m\u001b[43mlogging_dict\u001b[49m\u001b[38;5;241;43m=\u001b[39;49m\u001b[43mlogging_dict\u001b[49m\u001b[43m,\u001b[49m\u001b[43m \u001b[49m\u001b[38;5;241;43m*\u001b[39;49m\u001b[38;5;241;43m*\u001b[39;49m\u001b[43mse\u001b[49m\u001b[43m[\u001b[49m\u001b[38;5;124;43m\"\u001b[39;49m\u001b[38;5;124;43mparams\u001b[39;49m\u001b[38;5;124;43m\"\u001b[39;49m\u001b[43m]\u001b[49m\n\u001b[1;32m    169\u001b[0m \u001b[43m\u001b[49m\u001b[43m)\u001b[49m\n\u001b[1;32m    170\u001b[0m solver_counter \u001b[38;5;241m+\u001b[39m\u001b[38;5;241m=\u001b[39m \u001b[38;5;241m1\u001b[39m\n\u001b[1;32m    171\u001b[0m \u001b[38;5;66;03m# End: logging\u001b[39;00m\n",
      "File \u001b[0;32m~/Thesis-Delft/hyperbolic-tsne/hyperbolicTSNE/solver_.py:278\u001b[0m, in \u001b[0;36mgradient_descent\u001b[0;34m(y0, cf, cf_params, start_it, n_iter, n_iter_check, n_iter_without_progress, threshold_cf, threshold_its, threshold_check_size, momentum, learning_rate, min_gain, vanilla, min_grad_norm, error_tol, size_tol, verbose, rescale, n_iter_rescale, gradient_mask, grad_scale_fix, logging_dict, logging_key)\u001b[0m\n\u001b[1;32m    275\u001b[0m compute_error \u001b[38;5;241m=\u001b[39m check_convergence \u001b[38;5;129;01mor\u001b[39;00m check_threshold \u001b[38;5;129;01mor\u001b[39;00m i \u001b[38;5;241m==\u001b[39m n_iter \u001b[38;5;241m-\u001b[39m \u001b[38;5;241m1\u001b[39m\n\u001b[1;32m    277\u001b[0m \u001b[38;5;28;01mif\u001b[39;00m compute_error \u001b[38;5;129;01mor\u001b[39;00m logging:  \u001b[38;5;66;03m# TODO: add different levels of logging to avoid bottlenecks\u001b[39;00m\n\u001b[0;32m--> 278\u001b[0m     error, grad \u001b[38;5;241m=\u001b[39m \u001b[43mcf\u001b[49m\u001b[38;5;241;43m.\u001b[39;49m\u001b[43mobj_grad\u001b[49m\u001b[43m(\u001b[49m\u001b[43my\u001b[49m\u001b[43m,\u001b[49m\u001b[43m \u001b[49m\u001b[38;5;241;43m*\u001b[39;49m\u001b[38;5;241;43m*\u001b[39;49m\u001b[43mcf_params\u001b[49m\u001b[43m)\u001b[49m       \u001b[38;5;66;03m# NOTE: This is where we call the cost function\u001b[39;00m\n\u001b[1;32m    279\u001b[0m     \u001b[38;5;66;03m# print(grad)\u001b[39;00m\n\u001b[1;32m    280\u001b[0m     \u001b[38;5;28;01mif\u001b[39;00m np\u001b[38;5;241m.\u001b[39misinf(grad)\u001b[38;5;241m.\u001b[39many():\n",
      "File \u001b[0;32m~/Thesis-Delft/hyperbolic-tsne/hyperbolicTSNE/cost_functions_.py:617\u001b[0m, in \u001b[0;36mGaussianKL.obj_grad\u001b[0;34m(self, Y, V, grad_fix, var)\u001b[0m\n\u001b[1;32m    615\u001b[0m n_samples \u001b[38;5;241m=\u001b[39m V\u001b[38;5;241m.\u001b[39mshape[\u001b[38;5;241m0\u001b[39m]\n\u001b[1;32m    616\u001b[0m \u001b[38;5;28;01mif\u001b[39;00m \u001b[38;5;28mself\u001b[39m\u001b[38;5;241m.\u001b[39mparams[\u001b[38;5;124m\"\u001b[39m\u001b[38;5;124mmethod\u001b[39m\u001b[38;5;124m\"\u001b[39m] \u001b[38;5;241m==\u001b[39m \u001b[38;5;124m\"\u001b[39m\u001b[38;5;124mexact\u001b[39m\u001b[38;5;124m\"\u001b[39m:\n\u001b[0;32m--> 617\u001b[0m     obj, grad \u001b[38;5;241m=\u001b[39m \u001b[38;5;28;43mself\u001b[39;49m\u001b[38;5;241;43m.\u001b[39;49m\u001b[43m_grad_exact\u001b[49m\u001b[43m(\u001b[49m\u001b[43mY\u001b[49m\u001b[43m,\u001b[49m\u001b[43m \u001b[49m\u001b[43mV\u001b[49m\u001b[43m,\u001b[49m\u001b[43m \u001b[49m\u001b[43mn_samples\u001b[49m\u001b[43m,\u001b[49m\u001b[43m \u001b[49m\u001b[43mgrad_fix\u001b[49m\u001b[43m,\u001b[49m\u001b[43m \u001b[49m\u001b[43mvar\u001b[49m\u001b[43m)\u001b[49m\n\u001b[1;32m    618\u001b[0m     \u001b[38;5;28;01mreturn\u001b[39;00m obj, grad\n\u001b[1;32m    619\u001b[0m \u001b[38;5;28;01melif\u001b[39;00m \u001b[38;5;28mself\u001b[39m\u001b[38;5;241m.\u001b[39mparams[\u001b[38;5;124m\"\u001b[39m\u001b[38;5;124mmethod\u001b[39m\u001b[38;5;124m\"\u001b[39m] \u001b[38;5;241m==\u001b[39m \u001b[38;5;124m\"\u001b[39m\u001b[38;5;124mbarnes-hut\u001b[39m\u001b[38;5;124m\"\u001b[39m:\n",
      "File \u001b[0;32m~/Thesis-Delft/hyperbolic-tsne/hyperbolicTSNE/cost_functions_.py:635\u001b[0m, in \u001b[0;36mGaussianKL._grad_exact\u001b[0;34m(self, Y, V, n_samples, grad_fix, var, exact, save_timings)\u001b[0m\n\u001b[1;32m    632\u001b[0m grad \u001b[38;5;241m=\u001b[39m np\u001b[38;5;241m.\u001b[39mzeros(Y\u001b[38;5;241m.\u001b[39mshape, dtype\u001b[38;5;241m=\u001b[39mctypes\u001b[38;5;241m.\u001b[39mc_double)         \u001b[38;5;66;03m# shape(n_samples, n_components) - (n_samples, 2) usually\u001b[39;00m\n\u001b[1;32m    633\u001b[0m timings \u001b[38;5;241m=\u001b[39m np\u001b[38;5;241m.\u001b[39mzeros(\u001b[38;5;241m4\u001b[39m, dtype\u001b[38;5;241m=\u001b[39mctypes\u001b[38;5;241m.\u001b[39mc_float)\n\u001b[0;32m--> 635\u001b[0m error \u001b[38;5;241m=\u001b[39m \u001b[43mgaussian_gradient\u001b[49m\u001b[43m(\u001b[49m\n\u001b[1;32m    636\u001b[0m \u001b[43m    \u001b[49m\u001b[43mtimings\u001b[49m\u001b[43m,\u001b[49m\n\u001b[1;32m    637\u001b[0m \u001b[43m    \u001b[49m\u001b[43mval_V\u001b[49m\u001b[43m,\u001b[49m\u001b[43m \u001b[49m\u001b[43mY\u001b[49m\u001b[43m,\u001b[49m\u001b[43m \u001b[49m\u001b[43mneighbors\u001b[49m\u001b[43m,\u001b[49m\u001b[43m \u001b[49m\u001b[43mindptr\u001b[49m\u001b[43m,\u001b[49m\u001b[43m \u001b[49m\u001b[43mgrad\u001b[49m\u001b[43m,\u001b[49m\n\u001b[1;32m    638\u001b[0m \u001b[43m    \u001b[49m\u001b[38;5;241;43m0.5\u001b[39;49m\u001b[43m,\u001b[49m\n\u001b[1;32m    639\u001b[0m \u001b[43m    \u001b[49m\u001b[38;5;28;43mself\u001b[39;49m\u001b[38;5;241;43m.\u001b[39;49m\u001b[43mn_components\u001b[49m\u001b[43m,\u001b[49m\n\u001b[1;32m    640\u001b[0m \u001b[43m    \u001b[49m\u001b[38;5;28;43mself\u001b[39;49m\u001b[38;5;241;43m.\u001b[39;49m\u001b[43mparams\u001b[49m\u001b[43m[\u001b[49m\u001b[38;5;124;43m\"\u001b[39;49m\u001b[38;5;124;43mparams\u001b[39;49m\u001b[38;5;124;43m\"\u001b[39;49m\u001b[43m]\u001b[49m\u001b[43m[\u001b[49m\u001b[38;5;124;43m\"\u001b[39;49m\u001b[38;5;124;43mverbose\u001b[39;49m\u001b[38;5;124;43m\"\u001b[39;49m\u001b[43m]\u001b[49m\u001b[43m,\u001b[49m\n\u001b[1;32m    641\u001b[0m \u001b[43m    \u001b[49m\u001b[43mdof\u001b[49m\u001b[38;5;241;43m=\u001b[39;49m\u001b[38;5;28;43mself\u001b[39;49m\u001b[38;5;241;43m.\u001b[39;49m\u001b[43mparams\u001b[49m\u001b[43m[\u001b[49m\u001b[38;5;124;43m\"\u001b[39;49m\u001b[38;5;124;43mparams\u001b[39;49m\u001b[38;5;124;43m\"\u001b[39;49m\u001b[43m]\u001b[49m\u001b[43m[\u001b[49m\u001b[38;5;124;43m\"\u001b[39;49m\u001b[38;5;124;43mdegrees_of_freedom\u001b[39;49m\u001b[38;5;124;43m\"\u001b[39;49m\u001b[43m]\u001b[49m\u001b[43m,\u001b[49m\n\u001b[1;32m    642\u001b[0m \u001b[43m    \u001b[49m\u001b[43mcompute_error\u001b[49m\u001b[38;5;241;43m=\u001b[39;49m\u001b[38;5;28;43;01mTrue\u001b[39;49;00m\u001b[43m,\u001b[49m\n\u001b[1;32m    643\u001b[0m \u001b[43m    \u001b[49m\u001b[43mnum_threads\u001b[49m\u001b[38;5;241;43m=\u001b[39;49m\u001b[38;5;28;43mself\u001b[39;49m\u001b[38;5;241;43m.\u001b[39;49m\u001b[43mparams\u001b[49m\u001b[43m[\u001b[49m\u001b[38;5;124;43m\"\u001b[39;49m\u001b[38;5;124;43mparams\u001b[39;49m\u001b[38;5;124;43m\"\u001b[39;49m\u001b[43m]\u001b[49m\u001b[43m[\u001b[49m\u001b[38;5;124;43m\"\u001b[39;49m\u001b[38;5;124;43mnum_threads\u001b[39;49m\u001b[38;5;124;43m\"\u001b[39;49m\u001b[43m]\u001b[49m\u001b[43m,\u001b[49m\n\u001b[1;32m    644\u001b[0m \u001b[43m    \u001b[49m\u001b[43mexact\u001b[49m\u001b[38;5;241;43m=\u001b[39;49m\u001b[43mexact\u001b[49m\u001b[43m,\u001b[49m\n\u001b[1;32m    645\u001b[0m \u001b[43m    \u001b[49m\u001b[43mgrad_fix\u001b[49m\u001b[38;5;241;43m=\u001b[39;49m\u001b[43mgrad_fix\u001b[49m\u001b[43m,\u001b[49m\n\u001b[1;32m    646\u001b[0m \u001b[43m    \u001b[49m\u001b[43mvar\u001b[49m\u001b[38;5;241;43m=\u001b[39;49m\u001b[43mvar\u001b[49m\n\u001b[1;32m    647\u001b[0m \u001b[43m\u001b[49m\u001b[43m)\u001b[49m\n\u001b[1;32m    649\u001b[0m grad \u001b[38;5;241m=\u001b[39m grad\u001b[38;5;241m.\u001b[39mravel()\n\u001b[1;32m    650\u001b[0m grad \u001b[38;5;241m*\u001b[39m\u001b[38;5;241m=\u001b[39m \u001b[38;5;241m4\u001b[39m\n",
      "\u001b[0;31mKeyboardInterrupt\u001b[0m: "
     ]
    }
   ],
   "source": [
    "# Run experiments\n",
    "for (dataset, num_p, perp, pca, grad, exac) in experiment_details:\n",
    "    print(\"Experiment: \", exp_id, \"settings: \", dataset, num_p, perp, pca, grad, exac)\n",
    "\n",
    "    # (0) Load data\n",
    "    dataX, dataLabels, D, V, *rest = load_data(\n",
    "        dataset, \n",
    "        data_home=data_home, \n",
    "        pca_components=pca,\n",
    "        random_state=seed, \n",
    "        to_return=\"X_labels_D_V\",\n",
    "        hd_params={\"perplexity\": perp}, \n",
    "        sample=num_p, \n",
    "        knn_method=\"hnswlib\"  # we use an approximation of high-dimensional neighbors to speed up computations\n",
    "    )\n",
    "\n",
    "\n",
    "    \n",
    "    # (1) Compute initial embedding in Poincare disk (PCA embedding)\n",
    "    cf = GaussianKL\n",
    "    X_embedded = initialization(\n",
    "        n_samples=D.shape[0], \n",
    "        n_components=2,\n",
    "        X=None,\n",
    "        random_state=seed,\n",
    "        method=\"random\",\n",
    "        init_scale=1e-4         # spread out initializations more\n",
    "    ) \n",
    "\n",
    "    # Initialize config and parameters\n",
    "    learning_rate = D.shape[0] / (exaggeration_factor * 1000)\n",
    "\n",
    "    opt_conf = opt_config(cf, learning_rate, exaggeration_factor, ex_iterations, main_iterations, exact=exact, vanilla=True, grad_scale_fix=grad_scale_fix, grad_fix=correct_gradient)\n",
    "    opt_params = SequentialOptimizer.sequence_poincare(**opt_conf) \n",
    "\n",
    "    log_path_cf = log_path + f\"cf_{cf.class_str()}/correct_grad_{correct_gradient}/\"\n",
    "    grad_path_grad = grad_path + f\"cf_{cf.class_str()}/correct_grad_{correct_gradient}/\"\n",
    "\n",
    "\n",
    "\n",
    "    # (2) Since this is GaussianKL, compute Variance for Hyperbolic setting (See below for explanation)\n",
    "    def hyp_dist(a, b):\n",
    "        num = (a-b) * (a-b)\n",
    "        denum = (1 - a*a) * (1 - b*b)\n",
    "        return np.arccosh(1 + 2 * (num / denum))\n",
    "\n",
    "    # Computing hyperbolic variance using a heuristic method\n",
    "    max_dist = np.max(D)                    # max distance between 2 datapoints in high dim. space\n",
    "    max_dist_H = hyp_dist(-0.99, 0.99)      # the max width we want to adhere to in hyperbolic embeddings\n",
    "    sigma = 0.5                             # TODO: Derivable from perplexity?\n",
    "    hyp_sigma = (max_dist_H / max_dist) * sigma\n",
    "    hyp_var = np.square(hyp_sigma)\n",
    "    hyp_var = 0.1\n",
    "    print(f\"scaling sigma first:    hyp sigma:{hyp_sigma}, hyp var:{hyp_var}\")\n",
    "\n",
    "\n",
    "    # (3) Update config params using computed variance\n",
    "    opt_params, opt_conf = initialize_logger(opt_params, opt_conf, log_path_cf, grad_path_grad)\n",
    "    opt_params[\"cf_params\"].update({\"grad_fix\" : correct_gradient})     # So the cost function knows which gradient to use\n",
    "    opt_params[\"cf_params\"].update({\"var\" : hyp_var})                  # GaussianKL variance for q_ij\n",
    "\n",
    "\n",
    "\n",
    "    # (4) Set up t-SNE object and run\n",
    "    htsne = HyperbolicTSNE(\n",
    "        init=X_embedded, \n",
    "        n_components=2, \n",
    "        metric=\"precomputed\",\n",
    "        verbose=1, \n",
    "        opt_method=SequentialOptimizer,         # the optimizater we use\n",
    "        opt_params=opt_params              # the parameters for the optimizers\n",
    "        )\n",
    "\n",
    "    # Compute embedding:\n",
    "    try:\n",
    "        hyperbolicEmbedding = htsne.fit_transform((D, V))\n",
    "        \n",
    "    except ValueError:\n",
    "        hyperbolicEmbedding = find_last_embedding(log_path)\n",
    "        traceback.print_exc()\n",
    "\n",
    "\n",
    "\n",
    "    # (5) Plot the embedding (NOTE: We can also use plot_poincare)\n",
    "    emb_fig, ax = plt.subplots()\n",
    "\n",
    "    ax.scatter(hyperbolicEmbedding[0:, 0], hyperbolicEmbedding[0:, 1], s=1)\n",
    "    ax.scatter(hyperbolicEmbedding[0, 0], hyperbolicEmbedding[0, 1], c=\"black\", s=5)    # root of tree\n",
    "\n",
    "    # ax.scatter(hyperbolicEmbedding[:, 0], hyperbolicEmbedding[:, 1])\n",
    "    ax.add_patch(plt.Circle((0, 0), radius=1, edgecolor=\"b\", facecolor=\"None\"))\n",
    "    ax.axis(\"square\")\n",
    "    ax.set_xlim(-1, 1)\n",
    "    ax.set_ylim(-1, 1)\n",
    "\n",
    "    # plt.legend(loc='upper left', bbox_to_anchor=(1, 1))\n",
    "    plt.tight_layout()\n",
    "    plt.show()\n",
    "\n",
    "\n",
    "\n",
    "    # (6) Store experiment results\n",
    "    # folder to save results to\n",
    "    save_folder = f\"./experiment_results/experiment_{exp_id}/\"   \n",
    "    exp_id += 1    \n",
    "\n",
    "    # dictionary containing relevant details of this experiment\n",
    "    exp_data = {\n",
    "        \"dataset\":              dataset,\n",
    "        # 'dataset_info:':        {\n",
    "        #         'n_children': n_children,\n",
    "        #         'depth': depth,\n",
    "        #         'cluster_size': cluster_size,\n",
    "        #         'dist': dist,\n",
    "        #         'n_nodes': int(n_nodes),\n",
    "        #     },\n",
    "        'dataset_info': {\n",
    "            'perplexity': perp, \n",
    "            'num_points': num_p,\n",
    "            'pca':        pca,\n",
    "        },\n",
    "        \"run_time:\":            htsne.runtime,\n",
    "        \"ex_iterations\":        ex_iterations,\n",
    "        \"main_iterations\":      main_iterations, \n",
    "        \"cost_function\":        cf.class_str(), \n",
    "        \"var\":                  hyp_var,\n",
    "        \"correct_grad\":         correct_gradient,\n",
    "        \"scale_fix\":            grad_scale_fix,\n",
    "        \"exact\":                exact,\n",
    "        \"exaggeration_factor\":  0 if ex_iterations == 0 else exaggeration_factor,\n",
    "        \"optim_procedure\":      \"Custom Momentum\",   \n",
    "        \"extra info\":           \"Same as experiment 20, but with no exaggeration. To test if exaggeration (for this dataset), adds anything\",   \n",
    "    }\n",
    "\n",
    "    animation_step = 50\n",
    "    save_experiment_results(save_folder, None, emb_fig, opt_params, dataLabels, exp_data, animation_step)"
   ]
  },
  {
   "cell_type": "markdown",
   "metadata": {},
   "source": [
    "### Computing Hyperbolic Variance\n",
    "\n",
    "First we compute how many Euclidean variances wide the maximum distance between 2 datapoints is:\n",
    "$$ c = \\frac{D_{max}}{\\sigma^2_E} $$\n",
    "\n",
    "By setting the Hyperbolic variance to (below) we gain a value for the Hyperbolic variance that hopefully causes the Hyperbolic embeddings to stay reasonably within the visualizable part of the Poincare Disk.\n",
    "$$ \\sigma^2_D = \\frac{d^H(-0.99, 0.99)}{c}$$\n",
    "\n",
    "[TODO: Expand on elaboration]\n",
    "This is because I suspect that by relating the variance (like in above), the embedding process will cause embeddings to not spread out too much. Since when we are matching the probability distributions, the probabilities will fall off quick as we get multiple variances away. By relating the variance to the maximum distance we want out of our embedding, and at the same time having a $$ c $$ that encodes the high dimensional relatonship between embedding distance size and variance, \n"
   ]
  },
  {
   "cell_type": "markdown",
   "metadata": {},
   "source": [
    "Store experiment results and data into a dedicated folde"
   ]
  },
  {
   "cell_type": "markdown",
   "metadata": {},
   "source": [
    "# Gradient Analysis\n"
   ]
  },
  {
   "cell_type": "markdown",
   "metadata": {},
   "source": [
    "First we compute the gradients for the GaussianKL results"
   ]
  },
  {
   "cell_type": "code",
   "execution_count": 50,
   "metadata": {},
   "outputs": [
    {
     "name": "stdout",
     "output_type": "stream",
     "text": [
      "Please note that `empty_sequence` uses the KL divergence with Barnes-Hut approximation (angle=0.5) by default.\n",
      "Please note that `empty_sequence` uses the KL divergence with Barnes-Hut approximation (angle=0.5) by default.\n"
     ]
    }
   ],
   "source": [
    "from gradient_experiments import GradientComparisons\n",
    "from pathlib import Path\n",
    "\n",
    "embedding_folder_path = f\"temp/poincare/cf_{cf.class_str()}/correct_grad_True\"              # Where our embeddings are \n",
    "output_folder_path = f\"results/gradient_comparisons/cf_{cf.class_str()}\"                    # Where to store our results\n",
    "V = V                                                                                       # High dim. affinity matrix, precomputed\n",
    "\n",
    "# For each type of gradient, calculate the gradients and store the results\n",
    "for correct_gradient in [True, False]:\n",
    "    # Initialize config and parameters\n",
    "    learning_rate = (dataX.shape[0] * 1) / (exaggeration_factor * 1000)\n",
    "\n",
    "    opt_conf = opt_config(cf, learning_rate, exaggeration_factor, ex_iterations, main_iterations, exact=exact, grad_scale_fix=True, grad_fix=correct_gradient)\n",
    "    opt_params = SequentialOptimizer.sequence_poincare(**opt_conf) \n",
    "    opt_params[\"cf_params\"].update({\"grad_fix\" : correct_gradient})         # So the cost function knows which gradient to use\n",
    "    params = opt_params[\"cf_config_params\"] | opt_params[\"cf_params\"]       # Params to initialize cf\n",
    "\n",
    "    cf = HyperbolicKL(n_components=2, other_params=params)                  \n",
    "    \n",
    "    # Run experiment\n",
    "    Experiment_Gradients = GradientComparisons(embedding_folder_path, cf, None)  \n",
    "    Experiment_Gradients.compute_gradients(V, correct_gradient, output_folder_path)"
   ]
  },
  {
   "cell_type": "markdown",
   "metadata": {},
   "source": [
    "# Analysis of HyperbolicKL "
   ]
  },
  {
   "cell_type": "code",
   "execution_count": 72,
   "metadata": {},
   "outputs": [],
   "source": [
    "def plot_gradient(directory, node, type):\n",
    "    \"\"\"\n",
    "    directory:      Directory with the gradients we want to plot\n",
    "    node:           Int representing node we want to plot gradients of\n",
    "    type:           String with the type of gradient (correct/wrong)\n",
    "    \"\"\"\n",
    "    # Loop over all gradient files\n",
    "    files = sorted(directory.iterdir(), key=lambda file: int(file.name.split(\".\")[0]))\n",
    "    data_size = len(files)\n",
    "    grads = np.zeros((data_size, 2))\n",
    "\n",
    "    for idx, grad_file in enumerate(files):\n",
    "        data = np.loadtxt(str(grad_file), delimiter=',')\n",
    "        grads[idx] = data[node]\n",
    "\n",
    "    # Establish x-coordinates\n",
    "    xs = np.array([x for x in range(data_size)])   \n",
    "\n",
    "    # Compute norms\n",
    "    grads = np.linalg.norm(grads, axis=1)\n",
    "\n",
    "    plt.scatter(xs, grads, s=10)\n",
    "    plt.title(f\"{type} Gradient norm of emb: {node}\")\n",
    "    plt.ylabel(f\"Norm\")\n",
    "    plt.xlabel(\"Iteration\")\n",
    "    plt.show()\n",
    "\n",
    "    # So we can use them for later\n",
    "    return grads"
   ]
  },
  {
   "cell_type": "code",
   "execution_count": 73,
   "metadata": {},
   "outputs": [
    {
     "data": {
      "image/png": "[encoded data removed]",
      "text/plain": [
       "<Figure size 640x480 with 1 Axes>"
      ]
     },
     "metadata": {},
     "output_type": "display_data"
    },
    {
     "data": {
      "image/png": "[encoded data removed]",
      "text/plain": [
       "<Figure size 640x480 with 1 Axes>"
      ]
     },
     "metadata": {},
     "output_type": "display_data"
    }
   ],
   "source": [
    "# Plot correct gradient data of node {node}\n",
    "node = 5\n",
    "correct_grad_directory = Path(\"results/gradient_comparisons/cf_HyperbolicKL/correct_grad_True\")\n",
    "wrong_grad_directory = Path(\"results/gradient_comparisons/cf_HyperbolicKL/correct_grad_False\")\n",
    "\n",
    "grads_c = plot_gradient(correct_grad_directory, node, \"Correct\")\n",
    "grads_w = plot_gradient(wrong_grad_directory, node, \"Wrong\")"
   ]
  },
  {
   "cell_type": "code",
   "execution_count": 74,
   "metadata": {},
   "outputs": [
    {
     "data": {
      "image/png": "[encoded data removed]",
      "text/plain": [
       "<Figure size 640x480 with 1 Axes>"
      ]
     },
     "metadata": {},
     "output_type": "display_data"
    }
   ],
   "source": [
    "xs = np.array([x for x in range(grads_c.shape[0])])   \n",
    "plt.scatter(xs, grads_c, s=10, c=\"blue\", label=\"Correct grad\")\n",
    "plt.scatter(xs, grads_w, s=10, c=\"red\", label=\"Wrong grad\")\n",
    "\n",
    "plt.title(f\"Grad norm vs iteration of embedding:{node}\")\n",
    "plt.ylabel(\"Gradient norm\")\n",
    "plt.xlabel(\"Iteration\")\n",
    "\n",
    "plt.legend()\n",
    "plt.show()"
   ]
  },
  {
   "cell_type": "markdown",
   "metadata": {},
   "source": [
    "### Gradient Visualization\n",
    "\n",
    "Visualize gradients for a specific iteration of the embedding process."
   ]
  },
  {
   "cell_type": "code",
   "execution_count": 69,
   "metadata": {},
   "outputs": [],
   "source": [
    "gradients_directory = Path(\"results/gradient_comparisons/cf_HyperbolicKL/\")\n",
    "\n",
    "# The iteration we want to analyze\n",
    "emb_it = -1                           \n",
    "\n",
    "# Load gradients corresponding to \"emb_it\"\n",
    "data = dict()\n",
    "for correct_grad in [True, False]:\n",
    "    gradient_folder = Path(f\"results/gradient_comparisons/cf_HyperbolicKL//correct_grad_{correct_grad}\")\n",
    "    # Load gradient data from the iteration we want\n",
    "    gradient_file_path = Path(f\"{gradient_folder}/{emb_it}.csv\")\n",
    "    gradient_data = np.loadtxt(str(gradient_file_path), delimiter=',')\n",
    "    key = \"Correct_Grad\" if correct_grad else \"Wrong_Grad\"\n",
    "    data[key] = gradient_data\n",
    "\n",
    "# Load embedding corresponding to \"emb_it\"\n",
    "embeddings_directory = Path(\"temp/poincare/cf_HyperbolicKL/correct_grad_True/solver_gradient_descent_sequential_opt_1\")\n",
    "emb_file_path = Path(f\"{embeddings_directory}/{emb_it}.csv\")\n",
    "emb_data = np.loadtxt(str(emb_file_path), delimiter=',')\n",
    "data[\"Emb\"] = emb_data"
   ]
  },
  {
   "cell_type": "code",
   "execution_count": 70,
   "metadata": {},
   "outputs": [
    {
     "name": "stdout",
     "output_type": "stream",
     "text": [
      "(130, 2)\n",
      "[ 4.96429701e-05  6.47374840e-05 -2.34298230e-05  1.57871786e-04\n",
      " -4.69573126e-05 -4.63518257e-05  2.41726215e-05 -1.72477312e-04\n",
      " -1.01282442e-04 -9.08037763e-05  1.46507274e-04  6.73333518e-06\n",
      " -5.44408864e-05 -1.15085793e-04 -6.00654145e-05 -6.01720316e-05\n",
      " -1.36688247e-06  8.22147983e-05  2.08629353e-05 -1.32800017e-04\n",
      "  7.38236707e-05 -1.15648654e-05 -1.47815301e-04 -4.60544321e-05\n",
      "  3.43494093e-05  3.23965410e-05 -6.76772886e-05  1.03068746e-04\n",
      " -8.39017633e-05  3.31141855e-05 -4.79318010e-05 -1.10630368e-04\n",
      "  8.12028373e-05 -7.22636478e-06  3.61261305e-05  3.61021984e-05\n",
      " -3.60924625e-06 -2.61931227e-04  8.67454721e-06  9.14602521e-06\n",
      " -2.19483403e-05  1.47761856e-04 -8.08142941e-05  9.15284206e-05\n",
      " -5.29483891e-05  9.71797893e-06 -7.01732572e-05 -3.91871822e-05\n",
      "  2.96167645e-05  5.24050270e-07 -1.41534160e-04 -3.42722896e-05\n",
      " -1.61300698e-05  1.88609786e-04  2.57519163e-05 -1.91873289e-04\n",
      "  6.02067447e-06 -1.92376163e-05 -3.47299136e-06  1.14275916e-04\n",
      "  7.90856218e-05  1.40259967e-04  5.86692964e-05 -9.90648687e-05\n",
      "  9.95033735e-06 -1.55074910e-04 -1.06241112e-04 -9.19533008e-05\n",
      " -7.83367530e-05  8.13344832e-05  2.27370710e-05 -1.60750692e-04\n",
      "  2.59793150e-05 -1.23698770e-04  5.21841699e-05  2.50404042e-05\n",
      " -6.80083508e-05  2.92984162e-05  1.86563185e-04 -1.19133554e-04\n",
      " -9.74458031e-05  1.15875273e-04  9.63530388e-05  8.22226146e-05\n",
      " -2.45188542e-05 -8.89289830e-05 -7.69072622e-06  2.76874780e-05\n",
      "  1.31950764e-06 -2.64454170e-05  6.25467270e-05 -1.07103345e-04\n",
      " -2.23633076e-05  4.73045574e-05 -8.46940990e-05 -4.46676147e-05\n",
      "  2.13909156e-05  1.72997170e-05 -8.84003912e-05  5.80272898e-06\n",
      "  3.57961446e-05  1.08318563e-04 -1.37742884e-04  5.15208907e-05\n",
      "  5.15221049e-05  5.71059060e-05  9.54159664e-05 -3.15067863e-05\n",
      " -7.72609607e-05 -4.85159788e-05  2.31477744e-04  6.86430342e-05\n",
      " -4.71724419e-05  6.44674290e-06 -7.15080401e-05 -7.30150455e-05\n",
      "  4.57621512e-06  2.14405630e-04 -2.02487704e-04 -6.61572007e-05\n",
      " -7.92277132e-05  5.05187426e-05 -1.20003645e-04 -4.74717312e-05\n",
      "  1.76560349e-04 -1.26062779e-04  2.12230174e-04 -1.51909670e-04\n",
      "  1.26708412e-04  4.44008132e-05]\n",
      "[ 4.96429701e-05 -1.38602595e-05]\n",
      "[ 0  0  0  0  0  0  0  0  0  0  1  1  1  1  1  1  1  1  1  1  2  2  2  2\n",
      "  2  2  2  2  2  2  3  3  3  3  3  3  3  3  3  3  4  4  4  4  4  4  4  4\n",
      "  4  4  5  5  5  5  5  5  5  5  5  5  6  6  6  6  6  6  6  6  6  6  7  7\n",
      "  7  7  7  7  7  7  7  7  8  8  8  8  8  8  8  8  8  8  9  9  9  9  9  9\n",
      "  9  9  9  9 10 10 10 10 10 10 10 10 10 10 11 11 11 11 11 11 11 11 11 11\n",
      " 12 12 12 12 12 12 12 12 12 12]\n"
     ]
    }
   ],
   "source": [
    "# Testing data shape and such. Sanity checks\n",
    "\n",
    "# for key in data:\n",
    "#     print(key)\n",
    "#     print(data[key])\n",
    "#     print()\n",
    "\n",
    "print(data[\"Emb\"].shape)\n",
    "print(data[\"Emb\"][:, 0])\n",
    "print(data[\"Emb\"][0])\n",
    "# Note that the indices of dataLabels correspond to indices of data[\"Emb\"]\n",
    "print(dataLabels)"
   ]
  },
  {
   "cell_type": "markdown",
   "metadata": {},
   "source": [
    "Plot the correct/wrong gradients corresponding to our chosen embedding."
   ]
  },
  {
   "cell_type": "code",
   "execution_count": 71,
   "metadata": {},
   "outputs": [
    {
     "data": {
      "image/png": "[encoded data removed]",
      "text/plain": [
       "<Figure size 640x480 with 1 Axes>"
      ]
     },
     "metadata": {},
     "output_type": "display_data"
    }
   ],
   "source": [
    "from matplotlib import pyplot as plt\n",
    "\n",
    "scaling_factor = 1\n",
    "grad_scaling_factor = 1\n",
    "wrong_grad_scaling_factor = 1\n",
    "\n",
    "# Plot embedding points\n",
    "# Create a figure and axis\n",
    "fig, ax = plt.subplots()\n",
    "\n",
    "# Plot the embeddings/data\n",
    "scaled_data = data[\"Emb\"] * scaling_factor\n",
    "\n",
    "# In our current situation we have 2 clusters with n_samples elements each\n",
    "ax.scatter(scaled_data[:n_samples, 0], scaled_data[:n_samples, 1], color='red')\n",
    "ax.scatter(scaled_data[n_samples:, 0], scaled_data[n_samples:, 1], color='blue')\n",
    "\n",
    "# Plot the gradients \n",
    "scaled_wrong_grad = data[\"Wrong_Grad\"] * wrong_grad_scaling_factor\n",
    "ax.quiver(scaled_data[:, 0], scaled_data[:, 1], scaled_wrong_grad[:, 0], scaled_wrong_grad[:, 1],\n",
    "          angles='xy', scale_units='xy', scale=1, color='green', label=\"wrong grad\")\n",
    "\n",
    "# Correct gradient seems to be ~3000 times smaller than wrong gradient (at the start)\n",
    "scaled_correct_grad = data[\"Correct_Grad\"] * grad_scaling_factor\n",
    "ax.quiver(scaled_data[:, 0], scaled_data[:, 1], scaled_correct_grad[:, 0], scaled_correct_grad[:, 1],\n",
    "          angles='xy', scale_units='xy', scale=1, color='purple', label=\"correct grad\")\n",
    "\n",
    "# Set axis limits\n",
    "ax.set_xlim([-1, 1])\n",
    "ax.set_ylim([-1, 1])\n",
    "\n",
    "# Add labels and title\n",
    "ax.set_xlabel('x')\n",
    "ax.set_ylabel('y')\n",
    "ax.set_title(f'Embedding it:{emb_it}')\n",
    "\n",
    "ax.legend()\n",
    "\n",
    "# Show the plot\n",
    "plt.show()"
   ]
  },
  {
   "cell_type": "markdown",
   "metadata": {},
   "source": [
    "### Numerical analysis of gradients\n",
    "\n",
    "Investigate the probability distributions of high/low dim. respectively between the 2 gradients\n",
    "Investigate ratio of gradients between correct/wrong gradient"
   ]
  },
  {
   "cell_type": "code",
   "execution_count": 72,
   "metadata": {},
   "outputs": [],
   "source": [
    "# Hyperbolic distance between y1, y2\n",
    "def hyp_dist(y1, y2):\n",
    "    diff = y1 - y2\n",
    "    num = diff.dot(diff)                         # numerator\n",
    "    denum = (1 - y1.dot(y1)) * (1 - y2.dot(y2))  # denumerator\n",
    "    dist = np.arccosh(1 + 2 * (num / denum))\n",
    "\n",
    "    return dist\n",
    "\n",
    "\n",
    "# Compute the probability distribution associated with our embedding.\n",
    "# Low dimensional affinities, computed from embeddings \n",
    "def compute_affinities(embedding_data):\n",
    "    Q = np.zeros((embedding_data.shape[0], embedding_data.shape[0]))\n",
    "    for i in range(Q.shape[0]):\n",
    "        for j in range(i + 1, Q.shape[1]):\n",
    "            dist = hyp_dist(embedding_data[i], embedding_data[j])       # hyp. distance\n",
    "            dist = 1. / (1 + dist**2)                                   # t-distrib. \"distance\"\n",
    "            Q[i][j] = dist\n",
    "            Q[j][i] = dist\n",
    "\n",
    "    # Normalize distances to probabilities\n",
    "    # return Q / Q.sum()\n",
    "    return Q / Q.sum()"
   ]
  },
  {
   "cell_type": "code",
   "execution_count": 75,
   "metadata": {},
   "outputs": [
    {
     "name": "stdout",
     "output_type": "stream",
     "text": [
      "[0.00000000e+00 6.84323668e-04 6.82805294e-04 6.83220197e-04\n",
      " 6.84083224e-04 6.82922220e-04 6.83382947e-04 6.84324079e-04\n",
      " 6.83912335e-04 6.84165695e-04 4.71330528e-05 4.93457593e-05\n",
      " 4.43928735e-05 4.79222810e-05 4.97838831e-05 4.74910535e-05\n",
      " 4.77918039e-05 5.21680943e-05 4.94755103e-05 4.67881688e-05\n",
      " 4.56589412e-05 4.51278026e-05 4.38391405e-05 4.22945971e-05\n",
      " 4.39178318e-05 3.92750780e-05 4.58250257e-05 4.25675463e-05\n",
      " 4.22159489e-05 4.03983744e-05 4.01750587e-05 3.87570762e-05\n",
      " 4.03400161e-05 3.93108204e-05 3.48401066e-05 4.28389305e-05\n",
      " 4.33630090e-05 4.28983021e-05 4.14139667e-05 4.16588054e-05\n",
      " 4.74372519e-05 4.49913393e-05 4.52534262e-05 5.02840748e-05\n",
      " 4.39041910e-05 4.63651043e-05 4.46791429e-05 4.55961764e-05\n",
      " 4.68556329e-05 4.82526074e-05 1.34013084e-06 1.33072647e-06\n",
      " 1.34119254e-06 1.32927791e-06 1.33184973e-06 1.35231267e-06\n",
      " 1.36715074e-06 1.32286839e-06 1.37109100e-06 1.35926572e-06\n",
      " 1.28576545e-06 1.26187339e-06 1.25909447e-06 1.25229924e-06\n",
      " 1.26719793e-06 1.25605177e-06 1.27346488e-06 1.25091103e-06\n",
      " 1.29806287e-06 1.26690450e-06 1.20902477e-06 1.22070118e-06\n",
      " 1.21568035e-06 1.22306967e-06 1.20564050e-06 1.20652578e-06\n",
      " 1.19936292e-06 1.20036065e-06 1.18782933e-06 1.17122287e-06\n",
      " 1.12181552e-06 1.09576989e-06 1.11245748e-06 1.11505704e-06\n",
      " 1.09914104e-06 1.08568392e-06 1.11120982e-06 1.10770896e-06\n",
      " 1.11963788e-06 1.12501214e-06 1.12588763e-06 1.13731534e-06\n",
      " 1.14101210e-06 1.13663251e-06 1.12912924e-06 1.12348300e-06\n",
      " 1.13969314e-06 1.11710650e-06 1.12790205e-06 1.16449484e-06\n",
      " 1.07461074e-06 1.07148429e-06 1.08436101e-06 1.08430897e-06\n",
      " 1.10590699e-06 1.08121905e-06 1.08428863e-06 1.09911793e-06\n",
      " 1.08116049e-06 1.06930229e-06 1.30718326e-06 1.29709185e-06\n",
      " 1.28357289e-06 1.35083013e-06 1.33739349e-06 1.29737245e-06\n",
      " 1.33735902e-06 1.32890263e-06 1.30208824e-06 1.30087041e-06\n",
      " 1.26036037e-06 1.23860264e-06 1.25514712e-06 1.23003726e-06\n",
      " 1.22587806e-06 1.23586633e-06 1.22263970e-06 1.25480259e-06\n",
      " 1.22379284e-06 1.22912031e-06]\n",
      "\n",
      "[0.00000000e+00 5.96302946e-05 5.96302999e-05 5.96302965e-05\n",
      " 5.96302979e-05 5.96302988e-05 5.96302936e-05 5.96302890e-05\n",
      " 5.96302953e-05 5.96302926e-05 5.96302990e-05 5.96302968e-05\n",
      " 5.96302985e-05 5.96302941e-05 5.96302983e-05 5.96302889e-05\n",
      " 5.96302986e-05 5.96302982e-05 5.96302931e-05 5.96302930e-05\n",
      " 5.96303009e-05 5.96303003e-05 5.96302911e-05 5.96302956e-05\n",
      " 5.96302949e-05 5.96303010e-05 5.96302966e-05 5.96302978e-05\n",
      " 5.96302969e-05 5.96302982e-05 5.96302989e-05 5.96302924e-05\n",
      " 5.96302957e-05 5.96302973e-05 5.96303006e-05 5.96302945e-05\n",
      " 5.96302936e-05 5.96302759e-05 5.96303008e-05 5.96302927e-05\n",
      " 5.96302994e-05 5.96302986e-05 5.96302968e-05 5.96303003e-05\n",
      " 5.96302977e-05 5.96302979e-05 5.96302977e-05 5.96302952e-05\n",
      " 5.96303007e-05 5.96303006e-05 5.96302923e-05 5.96302985e-05\n",
      " 5.96302995e-05 5.96302964e-05 5.96303011e-05 5.96302873e-05\n",
      " 5.96302846e-05 5.96302996e-05 5.96302980e-05 5.96302983e-05\n",
      " 5.96302996e-05 5.96302955e-05 5.96302883e-05 5.96302955e-05\n",
      " 5.96303005e-05 5.96302911e-05 5.96302945e-05 5.96302896e-05\n",
      " 5.96302972e-05 5.96302981e-05 5.96302961e-05 5.96302904e-05\n",
      " 5.96302991e-05 5.96302907e-05 5.96303008e-05 5.96303005e-05\n",
      " 5.96302976e-05 5.96303003e-05 5.96302959e-05 5.96302929e-05\n",
      " 5.96302940e-05 5.96302991e-05 5.96303000e-05 5.96302911e-05\n",
      " 5.96302990e-05 5.96302955e-05 5.96302999e-05 5.96302989e-05\n",
      " 5.96302946e-05 5.96302803e-05 5.96302999e-05 5.96302944e-05\n",
      " 5.96302983e-05 5.96303012e-05 5.96302924e-05 5.96302967e-05\n",
      " 5.96302981e-05 5.96303003e-05 5.96302965e-05 5.96302984e-05\n",
      " 5.96303000e-05 5.96302970e-05 5.96302913e-05 5.96303002e-05\n",
      " 5.96302632e-05 5.96302973e-05 5.96302992e-05 5.96302977e-05\n",
      " 5.96302974e-05 5.96302988e-05 5.96302862e-05 5.96302960e-05\n",
      " 5.96302954e-05 5.96302987e-05 5.96302961e-05 5.96302973e-05\n",
      " 5.96303001e-05 5.96302933e-05 5.96302858e-05 5.96302957e-05\n",
      " 5.96302973e-05 5.96302988e-05 5.96302943e-05 5.96302983e-05\n",
      " 5.96302967e-05 5.96302912e-05 5.96302916e-05 5.96302912e-05\n",
      " 5.96302990e-05 5.96302992e-05]\n",
      "[[ 0.00000000e+00  6.24693373e-04  6.23174994e-04 ... -5.83754887e-05\n",
      "  -5.84065062e-05 -5.84011789e-05]\n",
      " [ 6.24693373e-04  0.00000000e+00  6.23845638e-04 ... -5.83465264e-05\n",
      "  -5.83789274e-05 -5.83514557e-05]\n",
      " [ 6.23174994e-04  6.23845638e-04  0.00000000e+00 ... -5.84091283e-05\n",
      "  -5.84382754e-05 -5.84337040e-05]\n",
      " ...\n",
      " [-5.83754887e-05 -5.83465264e-05 -5.84091283e-05 ...  0.00000000e+00\n",
      "   5.90994134e-04  5.90587138e-04]\n",
      " [-5.84065062e-05 -5.83789274e-05 -5.84382754e-05 ...  5.90994134e-04\n",
      "   0.00000000e+00  5.91468815e-04]\n",
      " [-5.84011789e-05 -5.83514557e-05 -5.84337040e-05 ...  5.90587138e-04\n",
      "   5.91468815e-04  0.00000000e+00]]\n"
     ]
    }
   ],
   "source": [
    "# Recomputing probability matrices\n",
    "P = V.toarray()                         # high dim. affinity\n",
    "Q = compute_affinities(data[\"Emb\"])     # low dim. affinity\n",
    "\n",
    "print(P[0])\n",
    "print()\n",
    "print(Q[0])\n",
    "\n",
    "print(P - Q)"
   ]
  },
  {
   "cell_type": "code",
   "execution_count": 74,
   "metadata": {},
   "outputs": [
    {
     "name": "stdout",
     "output_type": "stream",
     "text": [
      "10.586609649448981\n",
      "26.021583122724078\n"
     ]
    }
   ],
   "source": [
    "\"\"\" \n",
    "Visually, on the poincare disk, points at (-0.99, 0) and (0.99, 0) are near the boundaries of the disk. \n",
    "But their hyperbolic distance is quite small. Meaning that embedding wise, they might be close to eachother.\n",
    "\n",
    "If we want to make points spread out less, would that make conceptual sense?\n",
    "\"\"\"\n",
    "\n",
    "y_1 = np.array([-0.99, 0])\n",
    "y_2 = np.array([0.99, 0])\n",
    "dist = hyp_dist(y_1, y_2)\n",
    "print(dist)\n",
    "\n",
    "y_1 = np.array([-9.90e-10, 0])\n",
    "y_2 = np.array([0.99999999999, 0])\n",
    "dist = hyp_dist(y_1, y_2)\n",
    "print(dist)"
   ]
  },
  {
   "cell_type": "markdown",
   "metadata": {},
   "source": [
    "# Analysis of behaviour at beginning (early iterations)\n",
    "\n",
    "1. hyp. distances are small $d^{H}_{ij}$ approaches 0 (since $cosh^{-1} goes to 0), since its argument goes to 1.\n",
    "\n",
    "2. This means t-distrib. probability goes to 1, $(1 + (d^{H}_{ij})^2)^{-1}$ goes to 1.\n",
    "So once normalized, all probabilities $q^{H}_{ij}$ are almost the same for all $ij$, so we basically have an uniform distribution for $q^{H}_{ij}$\n",
    "\n",
    "3. Why are the wrong gradients so much bigger?\n",
    "\n",
    "Correct Gradient expression:\n",
    "$$ 4  \\sum_{j} (p_{ij} - q^{H}_{ij}) (1 + (d^{H}_{ij})^2)^{-1}  d^{H}_{ij} \\frac{d^{H}_{ij}}{y_i}$$\n",
    "\n",
    "\\\n",
    "Wrong Gradient expresion:\n",
    "$$ 4  \\sum_{j} (p_{ij} - q^{H}_{ij}) (1 + (d^{H}_{ij})^2)^{-1} \\frac{d^{H}_{ij}}{y_i}$$\n",
    "\n",
    "\\\n",
    "Because in early iterations, $ d^{H}_{ij} $ is approximately 0, the correct gradient is very small, until points haved moved sufficiently for this term to increase in value.\n",
    "\n",
    "Can this possibly replace early exaggeration? Maybe.. \n",
    "At the beginning, points are updated in very small amounts. But this applies to both attractive and repulsive forces.\n",
    "\n",
    "At some points, points are \"distant\" enough, for $ d^{H}_{ij} $ to not matter much anymore. \n",
    "\n",
    "$ d^{H}_{ij} $ goes up a lot (to possibly infinity) for larger distances. This means that forces between distant points get heavily amplified. Is this an issue though? Since very distant forces should be more or less 0?\n",
    "\n",
    "4. Is the use of the t-distribution justified in hyperbolic space?\n",
    "Is it making repellant points feel a repellant force for way too far distances?\n",
    "What do p, q look like for points far away? Is the heavy-tailedness a problem in hyperbolic space?\n",
    "\n",
    "Despite large distances, $ q^{H}_{ij} $ is never able to reach the \"correct\" probabilities due to the use of the t-distribution? Since the heavy tails requires too big of distances for things to converge properly. Hence points keep getting pushed out? \n",
    "\n",
    "We can try using a regular gaussian distribution for $ q^{H}_{ij} $. Rederive the gradient, and experiment with that.\n",
    "But do we then need to take the symmetric version into account?"
   ]
  }
 ],
 "metadata": {
  "kernelspec": {
   "display_name": "delft_thesis",
   "language": "python",
   "name": "python3"
  },
  "language_info": {
   "codemirror_mode": {
    "name": "ipython",
    "version": 3
   },
   "file_extension": ".py",
   "mimetype": "text/x-python",
   "name": "python",
   "nbconvert_exporter": "python",
   "pygments_lexer": "ipython3",
   "version": "3.9.16"
  }
 },
 "nbformat": 4,
 "nbformat_minor": 2
}
