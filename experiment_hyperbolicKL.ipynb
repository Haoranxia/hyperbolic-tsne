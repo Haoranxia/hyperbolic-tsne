{
 "cells": [
  {
   "cell_type": "code",
   "execution_count": 2,
   "metadata": {},
   "outputs": [],
   "source": [
    "%load_ext autoreload\n",
    "%autoreload 2"
   ]
  },
  {
   "cell_type": "code",
   "execution_count": 3,
   "metadata": {},
   "outputs": [
    {
     "name": "stdout",
     "output_type": "stream",
     "text": [
      "Please note that `empty_sequence` uses the KL divergence with Barnes-Hut approximation (angle=0.5) by default.\n"
     ]
    }
   ],
   "source": [
    "import os\n",
    "from pathlib import Path \n",
    "import traceback\n",
    "import numpy as np\n",
    "from numpy import linalg as LA\n",
    "from matplotlib import pyplot as plt\n",
    "\n",
    "from hyperbolicTSNE import Datasets\n",
    "from hyperbolicTSNE import Datasets, SequentialOptimizer, initialization, HyperbolicTSNE\n",
    "from hyperbolicTSNE.cost_functions_ import HyperbolicKL, GaussianKL\n",
    "from hyperbolicTSNE.util import find_last_embedding, opt_config, initialize_logger, write_data, store_visuals\n",
    "from hyperbolicTSNE.data_loaders import load_mnist\n",
    "from hyperbolicTSNE.hd_mat_ import hd_matrix\n",
    "from hyperbolicTSNE.visualization import animate, plot_poincare"
   ]
  },
  {
   "cell_type": "markdown",
   "metadata": {},
   "source": [
    "# Dataset generation code\n",
    "Generate a specific set of samples we want to use.\n",
    "Right now we want 10 samples of data with labels 2 and 4."
   ]
  },
  {
   "cell_type": "code",
   "execution_count": 4,
   "metadata": {},
   "outputs": [],
   "source": [
    "# MNIST DATA \n",
    "\n",
    "# n_samples = 20             # How much to sample from each class\n",
    "# dataX, dataLabels = load_mnist(data_home=data_home)\n",
    "# print(dataX.shape, dataLabels.shape)\n",
    "\n",
    "# indices_2 = np.where(dataLabels == 2)\n",
    "# indices_4 = np.where(dataLabels == 4)\n",
    "\n",
    "# samples_idx_2 = np.random.choice(indices_2[0], size=n_samples, replace=False)\n",
    "# samples_idx_4 = np.random.choice(indices_4[0], size=n_samples, replace=False)\n",
    "\n",
    "# print(samples_idx_2)\n",
    "# print(samples_idx_4)\n",
    "\n",
    "# print(dataLabels[samples_idx_2])\n",
    "# print(dataLabels[samples_idx_4])\n",
    "\n",
    "# labels_2 = dataLabels[samples_idx_2]\n",
    "# labels_4 = dataLabels[samples_idx_4]\n",
    "# sample_labels = np.concatenate((labels_2, labels_4), axis=0)\n",
    "\n",
    "# samples_2 = dataX[samples_idx_2]        # samples of number 2\n",
    "# samples_4 = dataX[samples_idx_4]        # samples of number 4\n",
    "# sample_data = np.concatenate((samples_2, samples_4), axis=0)    # Contains both 2 and 4 \n",
    "\n",
    "# print(sample_data.shape)    "
   ]
  },
  {
   "cell_type": "code",
   "execution_count": 5,
   "metadata": {},
   "outputs": [],
   "source": [
    "from scipy.stats import multivariate_normal\n",
    "\n",
    "def generate_linear_hierarchical_data(n_samples, n_clusters, n_dim, start, end):\n",
    "    \"\"\" \n",
    "    Generate a \"hierarchical\" dataset where we basically generate clusters from \"left\" to \"right\" \n",
    "    \"\"\"\n",
    "    # n_samples must be a integer multiple of n_clusters\n",
    "    points_per_cluster = n_samples\n",
    "    cluster_distances = np.abs(end - start) / n_clusters                            # distance between each cluster\n",
    "    cluster_centers = [start + i * cluster_distances for i in range(n_clusters)]    # centers of each cluster\n",
    "\n",
    "    # Generate data\n",
    "    data = []\n",
    "    for center in cluster_centers:\n",
    "        cluster_center = np.ones(n_dim) * center\n",
    "        cov = (cluster_distances / 3) \n",
    "        # cov = 1\n",
    "        cluster_cov = np.identity(n_dim) * cov\n",
    "        #cluster_cov = np.identity(n_dim)\n",
    "        cluster_data = multivariate_normal.rvs(mean=cluster_center, cov=cluster_cov, size=points_per_cluster)\n",
    "        data.append(cluster_data)\n",
    "\n",
    "    # Generate labels\n",
    "    labels = []\n",
    "    for i in range(n_clusters):\n",
    "        labels = labels + [i for _ in range(points_per_cluster)]\n",
    "\n",
    "    return np.array(data), np.array(labels)\n",
    "\n",
    "\n",
    "# Custom data, Uniform distrib.\n",
    "from scipy.stats import uniform \n",
    "def generate_uniform_clusters(n_samples, n_dim, b1, b2):\n",
    "    # n_samples = 500\n",
    "    # n_dim = 10\n",
    "    # b1 = 1000000\n",
    "    # b2 = 100\n",
    "\n",
    "    # Bounds for first distribution\n",
    "    lb_1 = np.ones(n_dim) * (-b1)\n",
    "    ub_1 = np.ones(n_dim) * (-b2)\n",
    "    widths_1 = ub_1 - lb_1 \n",
    "\n",
    "    # Bounds for 2nd distribution\n",
    "    lb_2 = np.ones(n_dim) * b2\n",
    "    ub_2 = np.ones(n_dim) * b1\n",
    "    widths_2 = ub_2 - lb_2\n",
    "\n",
    "    # Draw samples \n",
    "    samples_1 = uniform.rvs(loc=lb_1, scale=widths_1, size=(n_samples, n_dim))\n",
    "    samples_2 = uniform.rvs(loc=lb_2, scale=widths_2, size=(n_samples, n_dim))\n",
    "\n",
    "    dataX = np.concatenate((samples_1, samples_2), axis=0)\n",
    "    labels = [0 for _ in range(n_samples)] + [1 for _ in range(n_samples)]\n",
    "    dataLabels = np.array(labels)\n",
    "\n",
    "    return dataX, dataLabels"
   ]
  },
  {
   "cell_type": "markdown",
   "metadata": {},
   "source": [
    "# Preperation for running embedding\n",
    "Get the distance matrix and affinity matrix of our samples\n",
    "Generate custom dataset (see below)"
   ]
  },
  {
   "cell_type": "code",
   "execution_count": 6,
   "metadata": {},
   "outputs": [],
   "source": [
    "n_samples = 5\n",
    "n_clusters = 2\n",
    "n_dim = 2\n",
    "start = -100\n",
    "end = 100\n",
    "\n",
    "# Generate data\n",
    "dataX, dataLabels = generate_linear_hierarchical_data(n_samples, n_clusters, n_dim, start, end)\n",
    "dataX = dataX.reshape((dataX.shape[0] * dataX.shape[1], dataX.shape[2]))"
   ]
  },
  {
   "cell_type": "markdown",
   "metadata": {},
   "source": [
    "# Visualize generated data"
   ]
  },
  {
   "cell_type": "code",
   "execution_count": 7,
   "metadata": {},
   "outputs": [
    {
     "data": {
      "image/png": "[encoded data removed]",
      "text/plain": [
       "<Figure size 640x480 with 1 Axes>"
      ]
     },
     "metadata": {},
     "output_type": "display_data"
    }
   ],
   "source": [
    "plt.scatter(dataX[:, 0], dataX[:, 1], c=dataLabels)\n",
    "\n",
    "plt.title(\"Generated dataset\")\n",
    "plt.show()"
   ]
  },
  {
   "cell_type": "code",
   "execution_count": 8,
   "metadata": {},
   "outputs": [
    {
     "name": "stdout",
     "output_type": "stream",
     "text": [
      "Computing the kNN D matrix with k=9 nearest neighbors...\n",
      "Using sklearn NearestNeighbor, an exact method, for the knn computation\n",
      "Indexed 10 samples in 0.000s...\n",
      "Computed neighbors for 10 samples in {duration:.3f}s...\n",
      "`hd_method` set to `vdm2008`, running with perplexity 5. Returns (D, V)\n",
      "[t-SNE] Computed conditional probabilities for sample 10 / 10\n",
      "[t-SNE] Mean sigma: 77.878960\n"
     ]
    }
   ],
   "source": [
    "hd_params = {\"perplexity\": n_samples}\n",
    "D, V = hd_matrix(X=dataX, D=None, V=None,\n",
    "                    knn_method=\"sklearn\", metric=\"euclidean\", n_neighbors=n_samples, knn_params=None,\n",
    "                    hd_method=\"vdm2008\", hd_params=hd_params, verbose=1)"
   ]
  },
  {
   "cell_type": "markdown",
   "metadata": {},
   "source": [
    "# Initialization"
   ]
  },
  {
   "cell_type": "code",
   "execution_count": 9,
   "metadata": {},
   "outputs": [],
   "source": [
    "data_home = \"datasets\"\n",
    "log_path = \"temp/poincare/\"  # path for saving embedding snapshots\n",
    "grad_path = \"temp/grad/\"     # NOTE: We will manually calculate the gradients\n",
    "\n",
    "seed = 42\n",
    "\n",
    "dataset = Datasets.MNIST\n",
    "num_points = [-1]\n",
    "perplexities = [50]\n",
    "correct_gradient = True                          # NOTE: Recompile with correct flag (GRAD_FIX flag)\n",
    "exact = True                                     # Exact computation or BH estimation of gradient\n",
    "pca_components = 0                               # Whether to use pca initialization of high dim. data or not\n",
    "grad_scale_fix = True                            # Whether we multiply the gradient by the inverse metric tensor of hyperbolic space or not\n",
    "                                                 # Note that the correct hyperoblic gradient has an inverse metric tensor factor\n",
    "\n",
    "# Simple experiment with no exaggeration\n",
    "exaggeration_factor = 12\n",
    "ex_iterations = 0\n",
    "main_iterations = 1000"
   ]
  },
  {
   "cell_type": "markdown",
   "metadata": {},
   "source": [
    "# Run embedding\n",
    "Code below runs the embedding procedure for our specified dataset\n",
    "\n",
    "We compute embeddings for the correct gradient version, and then manually compute the wrong gradient using the embeddings produced by the correct gradient"
   ]
  },
  {
   "cell_type": "code",
   "execution_count": 10,
   "metadata": {},
   "outputs": [
    {
     "name": "stdout",
     "output_type": "stream",
     "text": [
      "Please note that `empty_sequence` uses the KL divergence with Barnes-Hut approximation (angle=0.5) by default.\n",
      "config: {'cf': <class 'hyperbolicTSNE.cost_functions_.HyperbolicKL'>, 'learning_rate_ex': 0.0008333333333333334, 'learning_rate_main': 0.0008333333333333334, 'exaggeration': 12, 'exaggeration_its': 0, 'gradientDescent_its': 1000, 'vanilla': False, 'momentum_ex': 0.5, 'momentum': 0.8, 'exact': True, 'area_split': False, 'n_iter_check': 10, 'size_tol': 0.999, 'grad_scale_fix': True, 'grad_fix': True}\n"
     ]
    }
   ],
   "source": [
    "# Compute initial embedding in Poincare disk (PCA embedding)\n",
    "cf = HyperbolicKL\n",
    "X_embedded = initialization(\n",
    "    n_samples=dataX.shape[0], \n",
    "    n_components=2,\n",
    "    X=dataX,\n",
    "    random_state=seed,\n",
    "    method=\"random\"\n",
    ") \n",
    "\n",
    "# Initialize config and parameters\n",
    "learning_rate = (dataX.shape[0] * 1) / (exaggeration_factor * 1000)\n",
    "\n",
    "opt_conf = opt_config(cf, learning_rate, exaggeration_factor, ex_iterations, main_iterations, exact=exact, grad_scale_fix=True, grad_fix=correct_gradient)\n",
    "opt_params = SequentialOptimizer.sequence_poincare(**opt_conf) \n",
    "\n",
    "log_path_cf = log_path + f\"cf_{cf.class_str()}/correct_grad_{correct_gradient}/\"\n",
    "grad_path_grad = grad_path + f\"cf_{cf.class_str()}/correct_grad_{correct_gradient}/\"\n",
    "\n",
    "opt_params, opt_conf = initialize_logger(opt_params, opt_conf, log_path_cf, grad_path_grad)\n",
    "opt_params[\"cf_params\"].update({\"grad_fix\" : correct_gradient})     # So the cost function knows which gradient to use"
   ]
  },
  {
   "cell_type": "code",
   "execution_count": 11,
   "metadata": {},
   "outputs": [
    {
     "name": "stdout",
     "output_type": "stream",
     "text": [
      "[HyperbolicTSNE] Received iterable as input. It should have len=2 and contain (D=None, V=None)\n",
      "[hd_mat] Warning: There is nothing to do with given parameters. Returning given D and V\n",
      "Running Gradient Descent, Verbosity: 1\n",
      "[gradient_descent] Warning: because of logging, the cf will be computed at every iteration\n"
     ]
    },
    {
     "name": "stderr",
     "output_type": "stream",
     "text": [
      "Gradient Descent: 0it [00:00, ?it/s]\n"
     ]
    },
    {
     "name": "stdout",
     "output_type": "stream",
     "text": [
      "Running Gradient Descent, Verbosity: 1\n",
      "[gradient_descent] Warning: because of logging, the cf will be computed at every iteration\n"
     ]
    },
    {
     "name": "stderr",
     "output_type": "stream",
     "text": [
      "Gradient Descent error: 0.00085 grad_norm: 3.27645e-04: 100%|██████████| 1000/1000 [00:04<00:00, 229.31it/s]\n"
     ]
    }
   ],
   "source": [
    "# Set up H-TSNE object \n",
    "htsne = HyperbolicTSNE(\n",
    "    init=X_embedded, \n",
    "    n_components=2, \n",
    "    metric=\"precomputed\",\n",
    "    verbose=1, \n",
    "    opt_method=SequentialOptimizer,         # the optimizater we use\n",
    "    opt_params=opt_params              # the parameters for the optimizers\n",
    "    )\n",
    "\n",
    "# Compute embedding:\n",
    "try:\n",
    "    hyperbolicEmbedding = htsne.fit_transform((D, V))\n",
    "    \n",
    "except ValueError:\n",
    "    hyperbolicEmbedding = find_last_embedding(log_path)\n",
    "    traceback.print_exc()"
   ]
  },
  {
   "cell_type": "code",
   "execution_count": 12,
   "metadata": {},
   "outputs": [
    {
     "name": "stdout",
     "output_type": "stream",
     "text": [
      "Animation being saved to: results/gradient_vis_images/gradienttesting_cf_HyperbolicKL_correctgrad_True.gif\n"
     ]
    },
    {
     "name": "stderr",
     "output_type": "stream",
     "text": [
      "Animating:   0%|          | 0/200 [00:00<?, ?it/s]f:\\School\\TU_DELFT_THESIS\\hyperbolic-tsne\\hyperbolicTSNE\\visualization.py:322: UserWarning: You passed in an explicit save_count=50 which is being ignored in favor of frames=200.\n",
      "  anim = FuncAnimation(fig, update, frames=len(scatter_data), interval=50, blit=True, save_count=50)\n",
      "MovieWriter ffmpeg unavailable; using Pillow instead.\n",
      "Animating: : 203it [00:14, 14.18it/s]                       \n"
     ]
    },
    {
     "data": {
      "image/png": "[encoded data removed]",
      "text/plain": [
       "<Figure size 640x480 with 1 Axes>"
      ]
     },
     "metadata": {},
     "output_type": "display_data"
    }
   ],
   "source": [
    " # Store visuals\n",
    "save_folder = \"results/gradient_vis_images\"\n",
    "file_name = f\"{save_folder}/gradienttesting_cf_{cf.class_str()}_correctgrad_{correct_gradient}\"\n",
    "\n",
    "# Create folder if it doesn't exist\n",
    "path = Path(save_folder)\n",
    "path.mkdir(parents=True, exist_ok=True)\n",
    "\n",
    "fig = plot_poincare(hyperbolicEmbedding, dataLabels)\n",
    "fig.savefig(f\"{file_name}.png\")\n",
    "\n",
    "# Save animation\n",
    "animate(opt_params[\"logging_dict\"], dataLabels, f\"{file_name}.gif\", fast=True, plot_ee=True)"
   ]
  },
  {
   "cell_type": "markdown",
   "metadata": {},
   "source": [
    "# Gradient computation\n"
   ]
  },
  {
   "cell_type": "markdown",
   "metadata": {},
   "source": [
    "First we compute the gradients for the GaussianKL results"
   ]
  },
  {
   "cell_type": "code",
   "execution_count": 16,
   "metadata": {},
   "outputs": [
    {
     "name": "stdout",
     "output_type": "stream",
     "text": [
      "Please note that `empty_sequence` uses the KL divergence with Barnes-Hut approximation (angle=0.5) by default.\n",
      "Please note that `empty_sequence` uses the KL divergence with Barnes-Hut approximation (angle=0.5) by default.\n"
     ]
    }
   ],
   "source": [
    "from gradient_experiments import GradientComparisons\n",
    "from pathlib import Path\n",
    "\n",
    "embedding_folder_path = f\"temp/poincare/cf_{cf.class_str()}/correct_grad_True\"              # Where our embeddings are \n",
    "output_folder_path = f\"results/gradient_comparisons/cf_{cf.class_str()}\"                    # Where to store our results\n",
    "V = V                                                                                       # High dim. affinity matrix, precomputed\n",
    "\n",
    "# For each type of gradient, calculate the gradients and store the results\n",
    "for correct_gradient in [True, False]:\n",
    "    # Initialize config and parameters\n",
    "    learning_rate = (dataX.shape[0] * 1) / (exaggeration_factor * 1000)\n",
    "\n",
    "    opt_conf = opt_config(cf, learning_rate, exaggeration_factor, ex_iterations, main_iterations, exact=exact, grad_scale_fix=True, grad_fix=correct_gradient)\n",
    "    opt_params = SequentialOptimizer.sequence_poincare(**opt_conf) \n",
    "    opt_params[\"cf_params\"].update({\"grad_fix\" : correct_gradient})         # So the cost function knows which gradient to use\n",
    "    params = opt_params[\"cf_config_params\"] | opt_params[\"cf_params\"]       # Params to initialize cf\n",
    "\n",
    "    key = f\"linear_hierarchical_data_nclusters:{n_clusters}_ndata:{n_samples}\"\n",
    "    cf = HyperbolicKL(n_components=2, other_params=params)                  \n",
    "    \n",
    "    # Run experiment\n",
    "    Experiment_Gradients = GradientComparisons(embedding_folder_path, cf, key)  \n",
    "    Experiment_Gradients.compute_gradients(V, correct_gradient, output_folder_path)"
   ]
  }
 ],
 "metadata": {
  "kernelspec": {
   "display_name": "delft_thesis",
   "language": "python",
   "name": "python3"
  },
  "language_info": {
   "codemirror_mode": {
    "name": "ipython",
    "version": 3
   },
   "file_extension": ".py",
   "mimetype": "text/x-python",
   "name": "python",
   "nbconvert_exporter": "python",
   "pygments_lexer": "ipython3",
   "version": "3.9.16"
  }
 },
 "nbformat": 4,
 "nbformat_minor": 2
}
