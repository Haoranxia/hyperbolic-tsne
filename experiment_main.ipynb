{
 "cells": [
  {
   "cell_type": "code",
   "execution_count": 54,
   "metadata": {},
   "outputs": [
    {
     "name": "stdout",
     "output_type": "stream",
     "text": [
      "The autoreload extension is already loaded. To reload it, use:\n",
      "  %reload_ext autoreload\n"
     ]
    }
   ],
   "source": [
    "%load_ext autoreload\n",
    "%autoreload 2"
   ]
  },
  {
   "cell_type": "code",
   "execution_count": 55,
   "metadata": {},
   "outputs": [],
   "source": [
    "# General imports\n",
    "import os\n",
    "from pathlib import Path \n",
    "import traceback\n",
    "import numpy as np\n",
    "from numpy import linalg as LA\n",
    "from matplotlib import pyplot as plt\n",
    "from scipy.sparse import csr_matrix"
   ]
  },
  {
   "cell_type": "code",
   "execution_count": 56,
   "metadata": {},
   "outputs": [
    {
     "data": {
      "text/plain": [
       "'/Users/haoranxia/Thesis-Delft/hyperbolic-tsne'"
      ]
     },
     "execution_count": 56,
     "metadata": {},
     "output_type": "execute_result"
    }
   ],
   "source": [
    "os.getcwd()"
   ]
  },
  {
   "cell_type": "code",
   "execution_count": 57,
   "metadata": {},
   "outputs": [],
   "source": [
    "# HyperbolicTSNE imports\n",
    "from hyperbolicTSNE import Datasets, load_data\n",
    "from hyperbolicTSNE import Datasets, SequentialOptimizer, initialization, HyperbolicTSNE\n",
    "from hyperbolicTSNE.cost_functions_ import HyperbolicKL, GaussianKL\n",
    "from hyperbolicTSNE.util import find_last_embedding, opt_config, initialize_logger, save_experiment_results, next_experiment_folder_id, GaussianKL_results, HyperbolicKL_results\n",
    "from hyperbolicTSNE.data_loaders import load_mnist\n",
    "from hyperbolicTSNE.hd_mat_ import hd_matrix\n",
    "from hyperbolicTSNE.visualization import plot_poincare"
   ]
  },
  {
   "cell_type": "markdown",
   "metadata": {},
   "source": [
    "# Initialization"
   ]
  },
  {
   "cell_type": "markdown",
   "metadata": {},
   "source": [
    "General initialization values"
   ]
  },
  {
   "cell_type": "code",
   "execution_count": 58,
   "metadata": {},
   "outputs": [],
   "source": [
    "log_path = \"temp/poincare/\"  # path for saving embedding snapshots\n",
    "grad_path = \"temp/grad/\"     # NOTE: We will manually calculate the gradients\n",
    "data_home = \"datasets\"\n",
    "\n",
    "experiments_folder = \"./experiment_results/\"\n",
    "exp_id = next_experiment_folder_id(experiments_folder)\n",
    "\n",
    "# Experiment settings\n",
    "seed = 42\n",
    "correct_grads = [False]                   # NOTE: Recompile with correct flag (GRAD_FIX flag)\n",
    "exacts = [False]                          # NOTE: Exact computation or BH estimation of gradient\n",
    "grad_scale_fixes = [True, False]          # Whether we multiply the gradient by the inverse metric tensor of hyperbolic space or not\n",
    "                                          # Note that the correct hyperoblic gradient has an inverse metric tensor factor\n",
    "\n",
    "# Simple experiment with no exaggeration\n",
    "exaggeration_factor = 12\n",
    "ex_iterations = 1000\n",
    "main_iterations = 15000\n",
    "\n",
    "# Cost functions\n",
    "cfs = [HyperbolicKL]\n",
    "\n",
    "# Other params\n",
    "size_tol = 0.999\n",
    "max_dist_H = 0\n",
    "max_dist = 0    "
   ]
  },
  {
   "cell_type": "markdown",
   "metadata": {},
   "source": [
    "Initialization values for the non custom datasets"
   ]
  },
  {
   "cell_type": "code",
   "execution_count": 59,
   "metadata": {},
   "outputs": [],
   "source": [
    "datasets = [Datasets.MNIST]\n",
    "num_points = [0.1]\n",
    "perplexities = [25]\n",
    "pca_components = [50]                              # Whether to use pca initialization of high dim. data or not"
   ]
  },
  {
   "cell_type": "code",
   "execution_count": 60,
   "metadata": {},
   "outputs": [
    {
     "name": "stdout",
     "output_type": "stream",
     "text": [
      "(<class 'hyperbolicTSNE.cost_functions_.HyperbolicKL'>, False, False, True)\n",
      "(<class 'hyperbolicTSNE.cost_functions_.HyperbolicKL'>, False, False, False)\n"
     ]
    }
   ],
   "source": [
    "from itertools import product\n",
    "\n",
    "\n",
    "# NOTE: Exerpimental details for unfixed datasets etc..\n",
    "# experiment_details = list(product(datasets, num_points, perplexities, pca_components, cfs, correct_grads, exacts))\n",
    "\n",
    "\n",
    "\n",
    "\n",
    "# NOTE: Below, experimental setup details for when we have a fixed dataset and dataset parameters \n",
    "# NOTE: But have different cost functions and cost function settings\n",
    "experiment_details_2 = list(product(cfs, correct_grads, exacts, grad_scale_fixes))\n",
    "\n",
    "for experiment in experiment_details_2:\n",
    "    print(experiment)"
   ]
  },
  {
   "cell_type": "code",
   "execution_count": 61,
   "metadata": {},
   "outputs": [
    {
     "name": "stdout",
     "output_type": "stream",
     "text": [
      "Data shape:  (7000, 2)\n"
     ]
    }
   ],
   "source": [
    "dataset = datasets[0]\n",
    "num_p = num_points[0]\n",
    "perp = perplexities[0]\n",
    "pca = pca_components[0]\n",
    "\n",
    "\n",
    "# (0) Load data\n",
    "dataX, dataLabels, D, V, *rest = load_data(\n",
    "    dataset, \n",
    "    data_home=data_home, \n",
    "    pca_components=pca,\n",
    "    random_state=seed, \n",
    "    to_return=\"X_labels_D_V\",\n",
    "    hd_params={\"perplexity\": perp}, \n",
    "    sample=num_p, \n",
    "    knn_method=\"hnswlib\"  # we use an approximation of high-dimensional neighbors to speed up computations\n",
    ")\n",
    "\n",
    "\n",
    "# (1) Compute initial embedding in Poincare disk (PCA embedding)\n",
    "X_embedded = initialization(\n",
    "    n_samples=dataX.shape[0], \n",
    "    n_components=2,\n",
    "    X=dataX,\n",
    "    random_state=seed,\n",
    "    method=\"random\",\n",
    "    init_scale=1e-4         # spread out initializations more\n",
    ") \n",
    "\n",
    "print(\"Data shape: \", X_embedded.shape)"
   ]
  },
  {
   "cell_type": "markdown",
   "metadata": {},
   "source": [
    "Code for running a bunch of experiments at the same time (types of experiments defined above)"
   ]
  },
  {
   "cell_type": "code",
   "execution_count": 62,
   "metadata": {},
   "outputs": [
    {
     "name": "stdout",
     "output_type": "stream",
     "text": [
      "[Experiment: 103] \n",
      " dataset: Datasets.MNIST, num_p: 0.1, perp: 25,pca: 50, correct_grad: False, exact: False, scale_fix: True\n",
      "\n",
      "learning rate: 0.5833333333333334\n",
      "Please note that `empty_sequence` uses the KL divergence with Barnes-Hut approximation (angle=0.5) by default.\n",
      "config: {'cf': <class 'hyperbolicTSNE.cost_functions_.HyperbolicKL'>, 'learning_rate_ex': 0.5833333333333334, 'learning_rate_main': 0.5833333333333334, 'exaggeration': 12, 'exaggeration_its': 1000, 'gradientDescent_its': 15000, 'vanilla': True, 'momentum_ex': 0.5, 'momentum': 0.2, 'exact': False, 'area_split': False, 'n_iter_check': 2000, 'size_tol': 0.999, 'grad_scale_fix': True, 'grad_fix': False, 'n_iter_without_progress': 2000, 'min_grad_norm': 1e-10}\n",
      "[HyperbolicTSNE] Received iterable as input. It should have len=2 and contain (D=None, V=None)\n",
      "[hd_mat] Warning: There is nothing to do with given parameters. Returning given D and V\n",
      "[gradient_descent] Warning: because of logging, the cf will be computed at every iteration\n"
     ]
    },
    {
     "name": "stderr",
     "output_type": "stream",
     "text": [
      "Gradient Descent error: 95.32695 grad_norm: 2.10003e-01: 100%|██████████| 1000/1000 [01:24<00:00, 11.79it/s]\n"
     ]
    },
    {
     "name": "stdout",
     "output_type": "stream",
     "text": [
      "[gradient_descent] Warning: because of logging, the cf will be computed at every iteration\n"
     ]
    },
    {
     "name": "stderr",
     "output_type": "stream",
     "text": [
      "Gradient Descent error: 4.46694 grad_norm: 7.53541e-03: 100%|██████████| 15000/15000 [22:48<00:00, 10.96it/s]\n"
     ]
    },
    {
     "name": "stdout",
     "output_type": "stream",
     "text": [
      "Animation being saved to: ./experiment_results/experiment_103//emb_anim.gif\n"
     ]
    },
    {
     "name": "stderr",
     "output_type": "stream",
     "text": [
      "Animating:   0%|          | 0/640 [00:00<?, ?it/s]/Users/haoranxia/Thesis-Delft/hyperbolic-tsne/hyperbolicTSNE/visualization.py:354: UserWarning: You passed in an explicit save_count=50 which is being ignored in favor of frames=640.\n",
      "  anim = FuncAnimation(fig, update, frames=len(scatter_data), interval=50, blit=True, save_count=50)\n",
      "MovieWriter ffmpeg unavailable; using Pillow instead.\n",
      "Animating: : 643it [00:49, 12.89it/s]                       \n"
     ]
    },
    {
     "name": "stdout",
     "output_type": "stream",
     "text": [
      "[Experiment: 104] \n",
      " dataset: Datasets.MNIST, num_p: 0.1, perp: 25,pca: 50, correct_grad: False, exact: False, scale_fix: False\n",
      "\n",
      "learning rate: 0.5833333333333334\n",
      "Please note that `empty_sequence` uses the KL divergence with Barnes-Hut approximation (angle=0.5) by default.\n",
      "config: {'cf': <class 'hyperbolicTSNE.cost_functions_.HyperbolicKL'>, 'learning_rate_ex': 0.5833333333333334, 'learning_rate_main': 0.5833333333333334, 'exaggeration': 12, 'exaggeration_its': 1000, 'gradientDescent_its': 15000, 'vanilla': True, 'momentum_ex': 0.5, 'momentum': 0.2, 'exact': False, 'area_split': False, 'n_iter_check': 2000, 'size_tol': 0.999, 'grad_scale_fix': False, 'grad_fix': False, 'n_iter_without_progress': 2000, 'min_grad_norm': 1e-10}\n",
      "[HyperbolicTSNE] Received iterable as input. It should have len=2 and contain (D=None, V=None)\n",
      "[hd_mat] Warning: There is nothing to do with given parameters. Returning given D and V\n",
      "[gradient_descent] Warning: because of logging, the cf will be computed at every iteration\n"
     ]
    },
    {
     "name": "stderr",
     "output_type": "stream",
     "text": [
      "Gradient Descent error: 94.09235 grad_norm: 8.60336e-01: 100%|██████████| 1000/1000 [01:40<00:00,  9.93it/s]\n"
     ]
    },
    {
     "name": "stdout",
     "output_type": "stream",
     "text": [
      "[gradient_descent] Warning: because of logging, the cf will be computed at every iteration\n"
     ]
    },
    {
     "name": "stderr",
     "output_type": "stream",
     "text": [
      "Gradient Descent error: 3.17013 grad_norm: 6.52702e-01:  87%|████████▋ | 13000/15000 [23:36<03:37,  9.18it/s]\n"
     ]
    },
    {
     "name": "stdout",
     "output_type": "stream",
     "text": [
      "4\n",
      "Animation being saved to: ./experiment_results/experiment_104//emb_anim.gif\n"
     ]
    },
    {
     "name": "stderr",
     "output_type": "stream",
     "text": [
      "Animating:   0%|          | 0/561 [00:00<?, ?it/s]/Users/haoranxia/Thesis-Delft/hyperbolic-tsne/hyperbolicTSNE/visualization.py:354: UserWarning: You passed in an explicit save_count=50 which is being ignored in favor of frames=561.\n",
      "  anim = FuncAnimation(fig, update, frames=len(scatter_data), interval=50, blit=True, save_count=50)\n",
      "MovieWriter ffmpeg unavailable; using Pillow instead.\n",
      "Animating: : 564it [00:43, 13.10it/s]                       \n"
     ]
    },
    {
     "data": {
      "image/png": "[encoded data removed]",
      "text/plain": [
       "<Figure size 640x480 with 1 Axes>"
      ]
     },
     "metadata": {},
     "output_type": "display_data"
    },
    {
     "data": {
      "image/png": "[encoded data removed]",
      "text/plain": [
       "<Figure size 640x480 with 1 Axes>"
      ]
     },
     "metadata": {},
     "output_type": "display_data"
    }
   ],
   "source": [
    "# Run experiments\n",
    "# for (dataset, num_p, perp, pca, cf, correct_grad, exact) in experiment_details:\n",
    "for (cf, correct_grad, exact, grad_scale_fix) in experiment_details_2:\n",
    "    print(f\"[Experiment: {exp_id}] \\n dataset: {dataset}, num_p: {num_p}, perp: {perp},pca: {pca}, correct_grad: {correct_grad}, exact: {exact}, scale_fix: {grad_scale_fix}\\n\")\n",
    "    \n",
    "    # NOTE: Uncomment if we decide to go with multiple datasets etc..\n",
    "    # # (0) Load data\n",
    "    # dataX, dataLabels, D, V, *rest = load_data(\n",
    "    #     dataset, \n",
    "    #     data_home=data_home, \n",
    "    #     pca_components=pca,\n",
    "    #     random_state=seed, \n",
    "    #     to_return=\"X_labels_D_V\",\n",
    "    #     hd_params={\"perplexity\": perp}, \n",
    "    #     sample=num_p, \n",
    "    #     knn_method=\"hnswlib\"  # we use an approximation of high-dimensional neighbors to speed up computations\n",
    "    # )\n",
    "\n",
    " \n",
    "    # # (1) Compute initial embedding in Poincare disk (PCA embedding)\n",
    "    X_embedded = initialization(\n",
    "        n_samples=dataX.shape[0], \n",
    "        n_components=2,\n",
    "        X=dataX,\n",
    "        random_state=seed,\n",
    "        method=\"random\",\n",
    "        init_scale=1e-4         # spread out initializations more\n",
    "    ) \n",
    "\n",
    "    # Initialize config and parameters\n",
    "    if cf == GaussianKL:\n",
    "        # def hyp_dist(a, b):\n",
    "        #     num = (a-b) * (a-b)\n",
    "        #     denum = (1 - a*a) * (1 - b*b)\n",
    "        #     return np.arccosh(1 + 2 * (num / denum))\n",
    "\n",
    "        # # Computing hyperbolic variance using a heuristic method\n",
    "        # max_dist = np.max(D)                    # max distance between 2 datapoints in high dim. space\n",
    "        # max_dist_H = hyp_dist(-0.99, 0.99)      # the max width we want to adhere to in hyperbolic embeddings\n",
    "        # sigma = 0.5                             # TODO: Derivable from perplexity?\n",
    "        # hyp_sigma = (max_dist_H / max_dist) * sigma\n",
    "        # hyp_var = np.square(hyp_sigma)\n",
    "        #print(f\"scaling sigma first:    hyp sigma:{hyp_sigma}, hyp var:{hyp_var}\")\n",
    "        \n",
    "        hyp_var = 0.2\n",
    "        learning_rate = dataX.shape[0] / (exaggeration_factor * 10) * hyp_var\n",
    "\n",
    "    else:\n",
    "        learning_rate = dataX.shape[0] / (exaggeration_factor * 1000)\n",
    "\n",
    "    print(f\"learning rate: {learning_rate}\")\n",
    "\n",
    "\n",
    "    opt_conf = opt_config(cf, learning_rate, exaggeration_factor, ex_iterations, main_iterations, exact=exact, vanilla=True, grad_scale_fix=grad_scale_fix, grad_fix=correct_grad)\n",
    "    opt_params = SequentialOptimizer.sequence_poincare(**opt_conf) \n",
    "    log_path_cf = log_path + f\"cf_{cf.class_str()}/correct_grad_{correct_grad}/\"\n",
    "    grad_path_grad = grad_path + f\"cf_{cf.class_str()}/correct_grad_{correct_grad}/\"\n",
    "\n",
    "\n",
    "    # (3) Update config params using computed variance  \n",
    "    opt_params, opt_conf = initialize_logger(opt_params, opt_conf, log_path_cf, grad_path_grad)\n",
    "    opt_params[\"cf_params\"].update({\"grad_fix\" : correct_grad})     # So the cost function knows which gradient to use\n",
    "    if cf == GaussianKL: opt_params[\"cf_params\"].update({\"var\" : hyp_var})     # GaussianKL variance for q_ij\n",
    "\n",
    "\n",
    "    # (4) Set up t-SNE object and run\n",
    "    htsne = HyperbolicTSNE(\n",
    "        init=X_embedded, \n",
    "        n_components=2, \n",
    "        metric=\"precomputed\",\n",
    "        verbose=1, \n",
    "        opt_method=SequentialOptimizer,         # the optimizater we use\n",
    "        opt_params=opt_params              # the parameters for the optimizers\n",
    "    )\n",
    "\n",
    "    # Compute embedding:\n",
    "    try:\n",
    "        hyperbolicEmbedding = htsne.fit_transform((D, V))\n",
    "        \n",
    "    except ValueError:\n",
    "        hyperbolicEmbedding = find_last_embedding(log_path)\n",
    "        traceback.print_exc()\n",
    "\n",
    "\n",
    "    emb_fig = plot_poincare(hyperbolicEmbedding, dataLabels, dataLabels)\n",
    "\n",
    "    # (6) Store experiment results\n",
    "    # folder to save results to\n",
    "    save_folder = f\"./experiment_results/experiment_{exp_id}/\"   \n",
    "    exp_id += 1    \n",
    "\n",
    "    # dictionary containing relevant details of this experiment\n",
    "    optim_procedure = \"Vanilla SGD\"\n",
    "    description = \"HyperbolicKL MNIST, with more data, more iterations, wrong gradient, to see if it converges to correct gradient embeddings eventually\"\n",
    "\n",
    "    if cf == GaussianKL:\n",
    "        exp_data = GaussianKL_results(dataset.name, htsne, ex_iterations, perp, num_p, pca,\n",
    "                       main_iterations, cf, hyp_var, size_tol, max_dist_H, max_dist, correct_grad,\n",
    "                       grad_scale_fix, exact, exaggeration_factor, optim_procedure, description)\n",
    "        \n",
    "    elif cf == HyperbolicKL:\n",
    "        exp_data = HyperbolicKL_results(dataset.name, htsne, ex_iterations, perp, num_p, pca,\n",
    "                       main_iterations, cf, correct_grad, grad_scale_fix, exact, \n",
    "                       exaggeration_factor, optim_procedure, description)\n",
    "\n",
    "    animation_step = 25\n",
    "    save_experiment_results(save_folder, None, emb_fig, opt_params, dataLabels, exp_data, hyperbolicEmbedding, animation_step)"
   ]
  },
  {
   "cell_type": "markdown",
   "metadata": {},
   "source": [
    "### Computing Hyperbolic Variance\n",
    "\n",
    "First we compute how many Euclidean variances wide the maximum distance between 2 datapoints is:\n",
    "$$ c = \\frac{D_{max}}{\\sigma^2_E} $$\n",
    "\n",
    "By setting the Hyperbolic variance to (below) we gain a value for the Hyperbolic variance that hopefully causes the Hyperbolic embeddings to stay reasonably within the visualizable part of the Poincare Disk.\n",
    "$$ \\sigma^2_D = \\frac{d^H(-0.99, 0.99)}{c}$$\n",
    "\n",
    "[TODO: Expand on elaboration]\n",
    "This is because I suspect that by relating the variance (like in above), the embedding process will cause embeddings to not spread out too much. Since when we are matching the probability distributions, the probabilities will fall off quick as we get multiple variances away. By relating the variance to the maximum distance we want out of our embedding, and at the same time having a $$ c $$ that encodes the high dimensional relatonship between embedding distance size and variance, \n"
   ]
  },
  {
   "cell_type": "markdown",
   "metadata": {},
   "source": [
    "Store experiment results and data into a dedicated folde"
   ]
  },
  {
   "cell_type": "markdown",
   "metadata": {},
   "source": [
    "# Gradient Analysis\n"
   ]
  },
  {
   "cell_type": "markdown",
   "metadata": {},
   "source": [
    "First we compute the gradients for the GaussianKL results"
   ]
  },
  {
   "cell_type": "code",
   "execution_count": null,
   "metadata": {},
   "outputs": [],
   "source": [
    "from gradient_experiments import GradientComparisons\n",
    "from pathlib import Path\n",
    "\n",
    "embedding_folder_path = f\"temp/poincare/cf_{cf.class_str()}/correct_grad_True\"              # Where our embeddings are \n",
    "output_folder_path = f\"results/gradient_comparisons/cf_{cf.class_str()}\"                    # Where to store our results\n",
    "V = V                                                                                       # High dim. affinity matrix, precomputed\n",
    "\n",
    "# For each type of gradient, calculate the gradients and store the results\n",
    "for correct_gradient in [True, False]:\n",
    "    # Initialize config and parameters\n",
    "    learning_rate = (dataX.shape[0] * 1) / (exaggeration_factor * 1000)\n",
    "\n",
    "    opt_conf = opt_config(cf, learning_rate, exaggeration_factor, ex_iterations, main_iterations, exact=exact, grad_scale_fix=True, grad_fix=correct_gradient)\n",
    "    opt_params = SequentialOptimizer.sequence_poincare(**opt_conf) \n",
    "    opt_params[\"cf_params\"].update({\"grad_fix\" : correct_gradient})         # So the cost function knows which gradient to use\n",
    "    params = opt_params[\"cf_config_params\"] | opt_params[\"cf_params\"]       # Params to initialize cf\n",
    "\n",
    "    cf = HyperbolicKL(n_components=2, other_params=params)                  \n",
    "    \n",
    "    # Run experiment\n",
    "    Experiment_Gradients = GradientComparisons(embedding_folder_path, cf, None)  \n",
    "    Experiment_Gradients.compute_gradients(V, correct_gradient, output_folder_path)"
   ]
  },
  {
   "cell_type": "markdown",
   "metadata": {},
   "source": [
    "# Analysis of HyperbolicKL "
   ]
  },
  {
   "cell_type": "code",
   "execution_count": null,
   "metadata": {},
   "outputs": [],
   "source": [
    "def plot_gradient(directory, node, type):\n",
    "    \"\"\"\n",
    "    directory:      Directory with the gradients we want to plot\n",
    "    node:           Int representing node we want to plot gradients of\n",
    "    type:           String with the type of gradient (correct/wrong)\n",
    "    \"\"\"\n",
    "    # Loop over all gradient files\n",
    "    files = sorted(directory.iterdir(), key=lambda file: int(file.name.split(\".\")[0]))\n",
    "    data_size = len(files)\n",
    "    grads = np.zeros((data_size, 2))\n",
    "\n",
    "    for idx, grad_file in enumerate(files):\n",
    "        data = np.loadtxt(str(grad_file), delimiter=',')\n",
    "        grads[idx] = data[node]\n",
    "\n",
    "    # Establish x-coordinates\n",
    "    xs = np.array([x for x in range(data_size)])   \n",
    "\n",
    "    # Compute norms\n",
    "    grads = np.linalg.norm(grads, axis=1)\n",
    "\n",
    "    plt.scatter(xs, grads, s=10)\n",
    "    plt.title(f\"{type} Gradient norm of emb: {node}\")\n",
    "    plt.ylabel(f\"Norm\")\n",
    "    plt.xlabel(\"Iteration\")\n",
    "    plt.show()\n",
    "\n",
    "    # So we can use them for later\n",
    "    return grads"
   ]
  },
  {
   "cell_type": "code",
   "execution_count": null,
   "metadata": {},
   "outputs": [],
   "source": [
    "# Plot correct gradient data of node {node}\n",
    "node = 5\n",
    "correct_grad_directory = Path(\"results/gradient_comparisons/cf_HyperbolicKL/correct_grad_True\")\n",
    "wrong_grad_directory = Path(\"results/gradient_comparisons/cf_HyperbolicKL/correct_grad_False\")\n",
    "\n",
    "grads_c = plot_gradient(correct_grad_directory, node, \"Correct\")\n",
    "grads_w = plot_gradient(wrong_grad_directory, node, \"Wrong\")"
   ]
  },
  {
   "cell_type": "code",
   "execution_count": null,
   "metadata": {},
   "outputs": [],
   "source": [
    "xs = np.array([x for x in range(grads_c.shape[0])])   \n",
    "plt.scatter(xs, grads_c, s=10, c=\"blue\", label=\"Correct grad\")\n",
    "plt.scatter(xs, grads_w, s=10, c=\"red\", label=\"Wrong grad\")\n",
    "\n",
    "plt.title(f\"Grad norm vs iteration of embedding:{node}\")\n",
    "plt.ylabel(\"Gradient norm\")\n",
    "plt.xlabel(\"Iteration\")\n",
    "\n",
    "plt.legend()\n",
    "plt.show()"
   ]
  },
  {
   "cell_type": "markdown",
   "metadata": {},
   "source": [
    "### Gradient Visualization\n",
    "\n",
    "Visualize gradients for a specific iteration of the embedding process."
   ]
  },
  {
   "cell_type": "code",
   "execution_count": null,
   "metadata": {},
   "outputs": [],
   "source": [
    "gradients_directory = Path(\"results/gradient_comparisons/cf_HyperbolicKL/\")\n",
    "\n",
    "# The iteration we want to analyze\n",
    "emb_it = -1                           \n",
    "\n",
    "# Load gradients corresponding to \"emb_it\"\n",
    "data = dict()\n",
    "for correct_grad in [True, False]:\n",
    "    gradient_folder = Path(f\"results/gradient_comparisons/cf_HyperbolicKL//correct_grad_{correct_grad}\")\n",
    "    # Load gradient data from the iteration we want\n",
    "    gradient_file_path = Path(f\"{gradient_folder}/{emb_it}.csv\")\n",
    "    gradient_data = np.loadtxt(str(gradient_file_path), delimiter=',')\n",
    "    key = \"Correct_Grad\" if correct_grad else \"Wrong_Grad\"\n",
    "    data[key] = gradient_data\n",
    "\n",
    "# Load embedding corresponding to \"emb_it\"\n",
    "embeddings_directory = Path(\"temp/poincare/cf_HyperbolicKL/correct_grad_True/solver_gradient_descent_sequential_opt_1\")\n",
    "emb_file_path = Path(f\"{embeddings_directory}/{emb_it}.csv\")\n",
    "emb_data = np.loadtxt(str(emb_file_path), delimiter=',')\n",
    "data[\"Emb\"] = emb_data"
   ]
  },
  {
   "cell_type": "code",
   "execution_count": null,
   "metadata": {},
   "outputs": [],
   "source": [
    "# Testing data shape and such. Sanity checks\n",
    "\n",
    "# for key in data:\n",
    "#     print(key)\n",
    "#     print(data[key])\n",
    "#     print()\n",
    "\n",
    "print(data[\"Emb\"].shape)\n",
    "print(data[\"Emb\"][:, 0])\n",
    "print(data[\"Emb\"][0])\n",
    "# Note that the indices of dataLabels correspond to indices of data[\"Emb\"]\n",
    "print(dataLabels)"
   ]
  },
  {
   "cell_type": "markdown",
   "metadata": {},
   "source": [
    "Plot the correct/wrong gradients corresponding to our chosen embedding."
   ]
  },
  {
   "cell_type": "code",
   "execution_count": null,
   "metadata": {},
   "outputs": [],
   "source": [
    "from matplotlib import pyplot as plt\n",
    "\n",
    "scaling_factor = 1\n",
    "grad_scaling_factor = 1\n",
    "wrong_grad_scaling_factor = 1\n",
    "\n",
    "# Plot embedding points\n",
    "# Create a figure and axis\n",
    "fig, ax = plt.subplots()\n",
    "\n",
    "# Plot the embeddings/data\n",
    "scaled_data = data[\"Emb\"] * scaling_factor\n",
    "\n",
    "# In our current situation we have 2 clusters with n_samples elements each\n",
    "ax.scatter(scaled_data[:n_samples, 0], scaled_data[:n_samples, 1], color='red')\n",
    "ax.scatter(scaled_data[n_samples:, 0], scaled_data[n_samples:, 1], color='blue')\n",
    "\n",
    "# Plot the gradients \n",
    "scaled_wrong_grad = data[\"Wrong_Grad\"] * wrong_grad_scaling_factor\n",
    "ax.quiver(scaled_data[:, 0], scaled_data[:, 1], scaled_wrong_grad[:, 0], scaled_wrong_grad[:, 1],\n",
    "          angles='xy', scale_units='xy', scale=1, color='green', label=\"wrong grad\")\n",
    "\n",
    "# Correct gradient seems to be ~3000 times smaller than wrong gradient (at the start)\n",
    "scaled_correct_grad = data[\"Correct_Grad\"] * grad_scaling_factor\n",
    "ax.quiver(scaled_data[:, 0], scaled_data[:, 1], scaled_correct_grad[:, 0], scaled_correct_grad[:, 1],\n",
    "          angles='xy', scale_units='xy', scale=1, color='purple', label=\"correct grad\")\n",
    "\n",
    "# Set axis limits\n",
    "ax.set_xlim([-1, 1])\n",
    "ax.set_ylim([-1, 1])\n",
    "\n",
    "# Add labels and title\n",
    "ax.set_xlabel('x')\n",
    "ax.set_ylabel('y')\n",
    "ax.set_title(f'Embedding it:{emb_it}')\n",
    "\n",
    "ax.legend()\n",
    "\n",
    "# Show the plot\n",
    "plt.show()"
   ]
  },
  {
   "cell_type": "markdown",
   "metadata": {},
   "source": [
    "### Numerical analysis of gradients\n",
    "\n",
    "Investigate the probability distributions of high/low dim. respectively between the 2 gradients\n",
    "Investigate ratio of gradients between correct/wrong gradient"
   ]
  },
  {
   "cell_type": "code",
   "execution_count": null,
   "metadata": {},
   "outputs": [],
   "source": [
    "# Hyperbolic distance between y1, y2\n",
    "def hyp_dist(y1, y2):\n",
    "    diff = y1 - y2\n",
    "    num = diff.dot(diff)                         # numerator\n",
    "    denum = (1 - y1.dot(y1)) * (1 - y2.dot(y2))  # denumerator\n",
    "    dist = np.arccosh(1 + 2 * (num / denum))\n",
    "\n",
    "    return dist\n",
    "\n",
    "\n",
    "# Compute the probability distribution associated with our embedding.\n",
    "# Low dimensional affinities, computed from embeddings \n",
    "def compute_affinities(embedding_data):\n",
    "    Q = np.zeros((embedding_data.shape[0], embedding_data.shape[0]))\n",
    "    for i in range(Q.shape[0]):\n",
    "        for j in range(i + 1, Q.shape[1]):\n",
    "            dist = hyp_dist(embedding_data[i], embedding_data[j])       # hyp. distance\n",
    "            dist = 1. / (1 + dist**2)                                   # t-distrib. \"distance\"\n",
    "            Q[i][j] = dist\n",
    "            Q[j][i] = dist\n",
    "\n",
    "    # Normalize distances to probabilities\n",
    "    # return Q / Q.sum()\n",
    "    return Q / Q.sum()"
   ]
  },
  {
   "cell_type": "code",
   "execution_count": null,
   "metadata": {},
   "outputs": [],
   "source": [
    "# Recomputing probability matrices\n",
    "P = V.toarray()                         # high dim. affinity\n",
    "Q = compute_affinities(data[\"Emb\"])     # low dim. affinity\n",
    "\n",
    "print(P[0])\n",
    "print()\n",
    "print(Q[0])\n",
    "\n",
    "print(P - Q)"
   ]
  },
  {
   "cell_type": "code",
   "execution_count": null,
   "metadata": {},
   "outputs": [],
   "source": [
    "\"\"\" \n",
    "Visually, on the poincare disk, points at (-0.99, 0) and (0.99, 0) are near the boundaries of the disk. \n",
    "But their hyperbolic distance is quite small. Meaning that embedding wise, they might be close to eachother.\n",
    "\n",
    "If we want to make points spread out less, would that make conceptual sense?\n",
    "\"\"\"\n",
    "\n",
    "y_1 = np.array([-0.99, 0])\n",
    "y_2 = np.array([0.99, 0])\n",
    "dist = hyp_dist(y_1, y_2)\n",
    "print(dist)\n",
    "\n",
    "y_1 = np.array([-9.90e-10, 0])\n",
    "y_2 = np.array([0.99999999999, 0])\n",
    "dist = hyp_dist(y_1, y_2)\n",
    "print(dist)"
   ]
  },
  {
   "cell_type": "markdown",
   "metadata": {},
   "source": [
    "# Analysis of behaviour at beginning (early iterations)\n",
    "\n",
    "1. hyp. distances are small $d^{H}_{ij}$ approaches 0 (since $cosh^{-1} goes to 0), since its argument goes to 1.\n",
    "\n",
    "2. This means t-distrib. probability goes to 1, $(1 + (d^{H}_{ij})^2)^{-1}$ goes to 1.\n",
    "So once normalized, all probabilities $q^{H}_{ij}$ are almost the same for all $ij$, so we basically have an uniform distribution for $q^{H}_{ij}$\n",
    "\n",
    "3. Why are the wrong gradients so much bigger?\n",
    "\n",
    "Correct Gradient expression:\n",
    "$$ 4  \\sum_{j} (p_{ij} - q^{H}_{ij}) (1 + (d^{H}_{ij})^2)^{-1}  d^{H}_{ij} \\frac{d^{H}_{ij}}{y_i}$$\n",
    "\n",
    "\\\n",
    "Wrong Gradient expresion:\n",
    "$$ 4  \\sum_{j} (p_{ij} - q^{H}_{ij}) (1 + (d^{H}_{ij})^2)^{-1} \\frac{d^{H}_{ij}}{y_i}$$\n",
    "\n",
    "\\\n",
    "Because in early iterations, $ d^{H}_{ij} $ is approximately 0, the correct gradient is very small, until points haved moved sufficiently for this term to increase in value.\n",
    "\n",
    "Can this possibly replace early exaggeration? Maybe.. \n",
    "At the beginning, points are updated in very small amounts. But this applies to both attractive and repulsive forces.\n",
    "\n",
    "At some points, points are \"distant\" enough, for $ d^{H}_{ij} $ to not matter much anymore. \n",
    "\n",
    "$ d^{H}_{ij} $ goes up a lot (to possibly infinity) for larger distances. This means that forces between distant points get heavily amplified. Is this an issue though? Since very distant forces should be more or less 0?\n",
    "\n",
    "4. Is the use of the t-distribution justified in hyperbolic space?\n",
    "Is it making repellant points feel a repellant force for way too far distances?\n",
    "What do p, q look like for points far away? Is the heavy-tailedness a problem in hyperbolic space?\n",
    "\n",
    "Despite large distances, $ q^{H}_{ij} $ is never able to reach the \"correct\" probabilities due to the use of the t-distribution? Since the heavy tails requires too big of distances for things to converge properly. Hence points keep getting pushed out? \n",
    "\n",
    "We can try using a regular gaussian distribution for $ q^{H}_{ij} $. Rederive the gradient, and experiment with that.\n",
    "But do we then need to take the symmetric version into account?"
   ]
  }
 ],
 "metadata": {
  "kernelspec": {
   "display_name": "delft_thesis",
   "language": "python",
   "name": "python3"
  },
  "language_info": {
   "codemirror_mode": {
    "name": "ipython",
    "version": 3
   },
   "file_extension": ".py",
   "mimetype": "text/x-python",
   "name": "python",
   "nbconvert_exporter": "python",
   "pygments_lexer": "ipython3",
   "version": "3.9.16"
  }
 },
 "nbformat": 4,
 "nbformat_minor": 2
}
