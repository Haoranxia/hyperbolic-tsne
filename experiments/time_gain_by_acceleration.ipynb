{
 "cells": [
  {
   "cell_type": "markdown",
   "source": [
    "# Time Gain by Acceleration\n",
    "\n",
    "Goal:\n",
    "- obtain chart that depicts average time per iteration as a function of the dataset size, for different datasets\n",
    "- add error bars that show confidence interval of the iteration cost per N and Dataset\n",
    "\n",
    "Steps:\n",
    " 1. Gather experimental data using overview.csv and put everything in one DF with the following columns\n",
    "   dataset_1 | seed | einstein | choice | run_1 | it_n | time_type | total_time\n",
    " 2. Perform grouping of dataset\n",
    "\n",
    "```\n",
    "[\n",
    "    {dataset_1 | seed | einstein | choice | run_1 | it_n | time_type | total_time},\n",
    "    {dataset_1 | seed | einstein | choice | run_1 | it_n | time_type | total_time}\n",
    "]\n",
    "```"
   ],
   "metadata": {
    "collapsed": false
   }
  },
  {
   "cell_type": "code",
   "execution_count": null,
   "outputs": [],
   "source": [
    "from pathlib import Path\n",
    "import pandas as pd\n",
    "import numpy as np\n",
    "import seaborn as sns\n",
    "from matplotlib import pyplot as plt\n",
    "sns.set_palette(\"colorblind\")"
   ],
   "metadata": {
    "collapsed": false
   }
  },
  {
   "cell_type": "code",
   "execution_count": null,
   "outputs": [],
   "source": [
    "\n",
    "# Change the path below to the directory that contains the overview.csv\n",
    "results_path = Path(\"../results/exps_4-2\")"
   ],
   "metadata": {
    "collapsed": false
   }
  },
  {
   "cell_type": "markdown",
   "source": [
    "# Data Setup\n",
    "\n",
    "Construction of dataframe that contains all data\n",
    "`it_n | time_type | total_time | dataset | lr | perplexity | seed | sample_size | tsne_type | splitting_strategy | run | run_directory`"
   ],
   "metadata": {
    "collapsed": false
   }
  },
  {
   "cell_type": "code",
   "execution_count": null,
   "outputs": [],
   "source": [
    "df = pd.read_csv(results_path.joinpath(\"overview.csv\"))\n",
    "\n",
    "include_tree_building = False\n",
    "\n",
    "timings_dfs = []\n",
    "for record in df.to_records():\n",
    "    timing_df = pd.read_csv(record.run_directory.replace(\".\", str(results_path)) + \"/timings.csv\")\n",
    "\n",
    "    if include_tree_building:\n",
    "        timing_df = timing_df[(timing_df.time_type == \"tot_gradient\") |\n",
    "                              (timing_df.time_type == \"tree_building\")].groupby([\"it_n\"]).sum().reset_index()\n",
    "    else:\n",
    "        timing_df = timing_df[(timing_df.time_type == \"tot_gradient\")]\n",
    "\n",
    "    for cn in df.columns:\n",
    "        timing_df[cn] = record[cn]\n",
    "    timings_dfs.append(timing_df)\n",
    "\n",
    "timings_df = pd.concat(timings_dfs, axis=0, ignore_index=True)\n",
    "timings_df[\"early_exag\"] = np.repeat(False, timings_df.shape[0])\n",
    "timings_df.loc[timings_df.it_n <= 250, \"early_exag\"] = True\n",
    "del timings_dfs\n",
    "\n",
    "# filtered_df = timings_df[(timings_df.splitting_strategy == \"equal_length\")]\n",
    "# total_times = filtered_df.groupby([\"dataset\", \"time_type\", \"sample_size\", \"tsne_type\"]).agg({\"total_time\": [\"mean\"]})"
   ],
   "metadata": {
    "collapsed": false
   }
  },
  {
   "cell_type": "markdown",
   "source": [
    "Construction of dataframe with asymptotic behavior\n",
    "- We first filter and group data based on interests and then compute asymptotic behavior"
   ],
   "metadata": {
    "collapsed": false
   }
  },
  {
   "cell_type": "code",
   "execution_count": null,
   "outputs": [],
   "source": [
    "def get_asymptotic_df(times_df, to_compare=\"tsne_type\"):\n",
    "    # To compare could also be splitting_strategy and early_exag\n",
    "    # for now assumes there is only one var to compare\n",
    "    grouping_vars = [\"dataset\", to_compare]\n",
    "\n",
    "    asymptotic = times_df.copy()\n",
    "    asymptotic = asymptotic[(asymptotic.splitting_strategy == \"equal_length\")]\n",
    "    asymptotic[\"log_size\"] = np.log(asymptotic.sample_size)\n",
    "    asymptotic[\"log_total_time\"] = np.log(asymptotic.total_time)\n",
    "    asymptotic = asymptotic.groupby(grouping_vars + [\"sample_size\", \"log_size\", ])[\"log_total_time\"].agg(mu_log_total_time=np.mean, std_log_total_time=np.std).reset_index()\n",
    "    diff_df = asymptotic.groupby(grouping_vars).diff(periods=-1)  # be careful with std\n",
    "    diff_df.columns = [\"diff_\" + cn for cn in diff_df.columns]\n",
    "    asymptotic = pd.concat([asymptotic, diff_df], axis=1)\n",
    "    asymptotic[\"asymptotic_score\"] = asymptotic.diff_mu_log_total_time/asymptotic.diff_log_size\n",
    "    asymptotic = asymptotic.dropna(axis=0)\n",
    "\n",
    "    return asymptotic"
   ],
   "metadata": {
    "collapsed": false
   }
  },
  {
   "cell_type": "markdown",
   "source": [
    "# Plotting"
   ],
   "metadata": {
    "collapsed": false
   }
  },
  {
   "cell_type": "code",
   "execution_count": null,
   "outputs": [],
   "source": [
    "# - Datasets color palette\n",
    "modes = timings_df.dataset.unique()\n",
    "colors = sns.color_palette('colorblind', len(modes))\n",
    "palette = {mode: color for mode, color in zip(modes, colors)}\n",
    "linewidth = 3.0"
   ],
   "metadata": {
    "collapsed": false
   }
  },
  {
   "cell_type": "markdown",
   "source": [
    "# Plot 1a: comparing mean iteration time of exact vs approximated hyperbolic (for different sample sizes)"
   ],
   "metadata": {
    "collapsed": false
   }
  },
  {
   "cell_type": "code",
   "execution_count": null,
   "outputs": [],
   "source": [
    "# timings_df.groupby([\"dataset\", \"tsne_type\", \"sample_size\"])[\"total_time\"].std()\n",
    "\n",
    "plot_times_df = timings_df.copy()\n",
    "plot_times_df = plot_times_df[(plot_times_df.splitting_strategy == \"equal_length\")]\n",
    "\n",
    "_, axs = plt.subplots(figsize=(5, 5), ncols=1, layout=\"tight\")\n",
    "# Plot a trendline for the quadratic run times\n",
    "axs.plot(\n",
    "    [537, 100000],\n",
    "    [0.019079, 661.6],\n",
    "    color=(0, 0, 0, 1.0),\n",
    "    linestyle=\"dashed\"\n",
    ")\n",
    "# Plot a trendline for the lin-log run times\n",
    "axs.plot(\n",
    "    list(np.logspace(2.73239376, 5)),\n",
    "    [0.0000024 * a * np.log2(a) for a in list(np.logspace(2.73239376, 5))],\n",
    "    color=(0, 0, 0, 1.0)\n",
    ")\n",
    "\n",
    "times_lineplot = sns.lineplot(\n",
    "    data=timings_df,\n",
    "    x=\"sample_size\",\n",
    "    y=\"total_time\",\n",
    "    hue=\"dataset\",\n",
    "    style=\"tsne_type\",\n",
    "    errorbar=(\"sd\", 1),\n",
    "    palette=palette,\n",
    "    markers=False,\n",
    "    linewidth=linewidth,\n",
    "    ax=axs)\n",
    "times_lineplot.set(xscale='log', yscale='log')\n",
    "\n",
    "axs.set_title(f\"Average Total Time per Iteration vs Dataset Size\")\n",
    "axs.set_xlabel(\"Log(Sample Size)\")\n",
    "axs.set_ylabel(\"Log(Time (Seconds))\")\n",
    "plt.show()"
   ],
   "metadata": {
    "collapsed": false
   }
  },
  {
   "cell_type": "markdown",
   "source": [
    "# Plot 1b: Plotting the asymptotic coefficients as a box plot"
   ],
   "metadata": {
    "collapsed": false
   }
  },
  {
   "cell_type": "code",
   "execution_count": null,
   "outputs": [],
   "source": [
    "plot_asymptotic_df = get_asymptotic_df(plot_times_df, \"tsne_type\")\n",
    "\n",
    "_, axs = plt.subplots(figsize=(5, 5), ncols=1, layout=\"tight\")\n",
    "asym_boxplot = sns.boxplot(\n",
    "    plot_asymptotic_df,\n",
    "    x=\"tsne_type\",\n",
    "    y=\"asymptotic_score\",\n",
    "    hue=\"dataset\", palette=palette)\n",
    "axs.set_title(f\"Estimated Asymptotic Order\")\n",
    "axs.set_xlabel(\"t-SNE Type\")\n",
    "axs.set_ylabel(\"Asymptotic Order\")\n",
    "# asym_boxplot.legend().remove()  # _remove_legend()\n",
    "plt.show()"
   ],
   "metadata": {
    "collapsed": false
   }
  },
  {
   "cell_type": "markdown",
   "source": [
    "# Plot 2: Focus on accelerated version. Effect of early_exag and splitting strategy for different sample sizes\n",
    "facet by stage\n",
    "line style by splitting strategy\n",
    "color by dataset"
   ],
   "metadata": {
    "collapsed": false
   }
  },
  {
   "cell_type": "code",
   "execution_count": null,
   "outputs": [],
   "source": [
    "plot_times_df = timings_df.copy()\n",
    "plot_times_df = plot_times_df[(plot_times_df.tsne_type == \"accelerated\")]\n",
    "\n",
    "_, axs = plt.subplots(figsize=(5, 5), ncols=1, layout=\"tight\")\n",
    "times_lineplot = sns.lineplot(\n",
    "    plot_times_df,\n",
    "    x=\"sample_size\",\n",
    "    y=\"total_time\",\n",
    "    hue=\"dataset\",\n",
    "    style=\"splitting_strategy\",\n",
    "    # errorbar=(\"sd\", 1),\n",
    "    palette=palette,\n",
    "    dashes=False,\n",
    "    markers=True,\n",
    "    linewidth=linewidth,\n",
    "    ax=axs\n",
    ")\n",
    "times_lineplot.set(xscale='log')  # , yscale='log')\n",
    "axs.set_title(f\"Average Total Time per Iteration vs Dataset Size\")\n",
    "axs.set_xlabel(\"Log(Sample Size)\")\n",
    "axs.set_ylabel(\"Time (Seconds)\")\n",
    "plt.show()"
   ],
   "metadata": {
    "collapsed": false
   }
  },
  {
   "cell_type": "code",
   "execution_count": null,
   "outputs": [],
   "source": [
    "plot_times_df = timings_df.copy()\n",
    "plot_times_df = plot_times_df.loc[plot_times_df.tsne_type == \"accelerated\", :]\n",
    "\n",
    "_, axs = plt.subplots(figsize=(10, 5), ncols=2, layout=\"tight\")\n",
    "legends = []\n",
    "\n",
    "for i, early_exag in enumerate([True, False]):\n",
    "    filtered_df = plot_times_df.copy()\n",
    "    filtered_df = filtered_df.loc[filtered_df.early_exag == early_exag, :]\n",
    "    times_lineplot = sns.lineplot(filtered_df,\n",
    "                                  x=\"sample_size\",\n",
    "                                  y=\"total_time\",\n",
    "                                  hue=\"dataset\",\n",
    "                                  style=\"splitting_strategy\",\n",
    "                                  errorbar=(\"sd\", 1), palette=palette, markers=False, linewidth=linewidth, ax=axs[i])\n",
    "    times_lineplot.set(xscale='log', yscale='log')\n",
    "    axs[i].set_title(f\"Average Total Time per Iteration vs Dataset Size \\n Early Exaggeration: {early_exag}\")\n",
    "    axs[i].set_xlabel(\"Log(Sample Size)\")\n",
    "    axs[i].set_ylabel(\"Log(Time (Seconds))\")\n",
    "    legends.append(times_lineplot.get_legend())\n",
    "\n",
    "legends[0].remove()\n",
    "for line in legends[1].get_lines():\n",
    "    line.set_linewidth(linewidth)\n",
    "for t in legends[1].texts:\n",
    "    if t.get_text() == \"dataset\":\n",
    "        t.set_text(\"Dataset\")\n",
    "    if t.get_text() == \"tsne_type\":\n",
    "        t.set_text(\"Type\")\n",
    "\n",
    "sns.move_legend(axs[1], \"lower right\")\n",
    "plt.show()"
   ],
   "metadata": {
    "collapsed": false
   }
  },
  {
   "cell_type": "code",
   "execution_count": null,
   "outputs": [],
   "source": [
    "asymptotic_style = [\"lineplot\", \"boxplot\"][1]\n",
    "fig, axs = plt.subplots(figsize=(10, 5), ncols=2, layout=\"tight\")\n",
    "legends = []\n",
    "\n",
    "for i, early_exag in enumerate([True, False]):\n",
    "    filtered_df = plot_times_df.copy()\n",
    "    filtered_df = filtered_df.loc[filtered_df.early_exag == early_exag, :]\n",
    "    filtered_asymptotic_df = get_asymptotic_df(filtered_df, \"splitting_strategy\")\n",
    "    if asymptotic_style == \"lineplot\":\n",
    "        asym_lineplot = sns.lineplot(filtered_asymptotic_df,\n",
    "                                     x=\"sample_size\",\n",
    "                                     y=\"asymptotic_score\",\n",
    "                                     hue=\"dataset\",\n",
    "                                     style=\"splitting_strategy\", palette=palette, legend=True, markers=False, linewidth=linewidth,\n",
    "                                     ax=axs[i])\n",
    "        asym_lineplot.set(xscale='log')\n",
    "        axs[i].set_title(f\"Asymptotic Behavior \\n Early Exaggeration: {early_exag}\")\n",
    "        axs[i].set_xlabel(\"Log(Sample Size)\")\n",
    "        axs[i].set_ylabel(\"Convergence Factor\")\n",
    "        legends.append(asym_lineplot.get_legend())\n",
    "    else:\n",
    "        asym_boxplot = sns.boxplot(filtered_asymptotic_df,\n",
    "                                   x=\"splitting_strategy\",\n",
    "                                   y=\"asymptotic_score\",\n",
    "                                   hue=\"dataset\", palette=palette, ax=axs[i])\n",
    "        axs[i].set_title(f\"Asymptotic Behavior \\n Early Exaggeration: {early_exag}\")\n",
    "        axs[i].set_xlabel(\"TSNE Type\")\n",
    "        axs[i].set_ylabel(\"Convergence Factor\")\n",
    "        # if i == 0:\n",
    "        #    asym_boxplot.legend().remove()  # _remove_legend()\n",
    "\n",
    "if asymptotic_style == \"lineplot\":\n",
    "    legends[0].remove()\n",
    "    for line in legends[1].get_lines():\n",
    "        line.set_linewidth(linewidth)\n",
    "    for t in legends[1].texts:\n",
    "        if t.get_text() == \"dataset\":\n",
    "            t.set_text(\"Dataset\")\n",
    "        if t.get_text() == \"tsne_type\":\n",
    "            t.set_text(\"Type\")\n",
    "\n",
    "# sns.move_legend(axs[1], \"upper left\")\n",
    "plt.show()"
   ],
   "metadata": {
    "collapsed": false
   }
  },
  {
   "cell_type": "markdown",
   "source": [
    "Average execution time per iteration (seconds) vs sample size\n",
    "=============================================================\n",
    "Granularity: one line plot per dataset\n",
    "Line plot showing how our method scales with increasing sample sizes.\n",
    "For each combination of (sample_size, HDEO params), we perform T runs.\n",
    "In each run, we performed I gradient descent iterations.\n",
    "This means for each (sample_size, HDEO params) combination we have I*T time measurements.\n",
    "The line plot shows confidence bands for every sample size computed from these measurements.\n",
    "For the overleaf document we differentiate between:\n",
    " - With and without acceleration (black and red dots in Figure 2 in 4.2.1).\n",
    " - With acceleration differentiating between with and without early exaggeration iterations (green and blue dots in Figure 2 in 4.2.1).\n",
    " - Area equal vs extrinsic half split (Figure 1 in 4.1.1)"
   ],
   "metadata": {
    "collapsed": false
   }
  },
  {
   "cell_type": "code",
   "execution_count": null,
   "outputs": [],
   "source": [
    "datasets = filtered_df.dataset.unique()\n",
    "nrows = min(3, len(datasets))\n",
    "ncols = int(np.ceil(len(datasets) / nrows))\n",
    "fig, axs = plt.subplots(nrows=nrows, ncols=ncols, figsize=(7 * ncols, nrows * 6))\n",
    "axs = np.array(axs).flatten()\n",
    "for i, dataset in enumerate(datasets):\n",
    "    sns.lineplot(data=filtered_df[(filtered_df.dataset == dataset)],\n",
    "                    x=\"sample_size\", y=\"total_time\", hue=\"tsne_type\", ax=axs[i])\n",
    "    sns.scatterplot(data=filtered_df[(filtered_df.dataset == dataset)],\n",
    "                    x=\"sample_size\", y=\"total_time\", hue=\"tsne_type\", ax=axs[i])\n",
    "    axs[i].set_title(f\"Average total time per iteration vs dataset size \\n {dataset}\")\n",
    "    axs[i].set_xlabel(\"Dataset size (N)\")\n",
    "    axs[i].set_ylabel(\"Average total time per iteration (seconds)\")\n",
    "plt.show()"
   ],
   "metadata": {
    "collapsed": false
   }
  },
  {
   "cell_type": "code",
   "execution_count": null,
   "outputs": [],
   "source": [
    "# sns.color_palette(\"hls\", 2)\n",
    "sns.set_palette(\"colorblind\")\n",
    "fig, ax = plt.subplots()\n",
    "times_lineplot = sns.lineplot(filtered_df, x=\"sample_size\", y=\"total_time\", hue=\"dataset\", style=\"tsne_type\", markers=True, ax=ax)\n",
    "times_lineplot.set(xscale='log')\n",
    "# sns.scatterplot(filtered_df, x=\"sample_size\", y=\"total_time\", hue=\"dataset\", style=\"tsne_type\")\n",
    "ax.set_title(f\"Average total time per iteration vs dataset size\")\n",
    "ax.set_xlabel(\"Sample size (N')\")\n",
    "ax.set_ylabel(\"Average total time per iteration (seconds)\")\n",
    "plt.show()"
   ],
   "metadata": {
    "collapsed": false
   }
  }
 ],
 "metadata": {
  "kernelspec": {
   "display_name": "Python 3",
   "language": "python",
   "name": "python3"
  },
  "language_info": {
   "codemirror_mode": {
    "name": "ipython",
    "version": 2
   },
   "file_extension": ".py",
   "mimetype": "text/x-python",
   "name": "python",
   "nbconvert_exporter": "python",
   "pygments_lexer": "ipython2",
   "version": "2.7.6"
  }
 },
 "nbformat": 4,
 "nbformat_minor": 0
}
